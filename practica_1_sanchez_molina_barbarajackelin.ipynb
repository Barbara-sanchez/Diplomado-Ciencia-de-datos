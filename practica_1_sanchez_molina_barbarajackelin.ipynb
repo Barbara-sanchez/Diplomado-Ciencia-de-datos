{
 "cells": [
  {
   "cell_type": "markdown",
   "id": "fd595f9c",
   "metadata": {},
   "source": [
    "# Practica 1\n",
    "Modulo 1\n",
    "\n",
    "Nombre: Sánchez Molina Bárbara Jackelin\n",
    "\n",
    "Generación 14 \n"
   ]
  },
  {
   "cell_type": "code",
   "execution_count": 1,
   "id": "bab793ed",
   "metadata": {},
   "outputs": [],
   "source": [
    "#Librerias \n",
    "import pandas as pd\n",
    "import numpy as np\n",
    "import seaborn as sns\n",
    "import datetime\n",
    "from numpy import nan as NA\n",
    "pd.set_option(\"display.max_columns\",18)"
   ]
  },
  {
   "cell_type": "code",
   "execution_count": 2,
   "id": "d83f17f3",
   "metadata": {},
   "outputs": [],
   "source": [
    "#Limpieza de datos\n",
    "import unicodedata\n",
    "import re"
   ]
  },
  {
   "cell_type": "code",
   "execution_count": 3,
   "id": "640318e3",
   "metadata": {},
   "outputs": [
    {
     "name": "stderr",
     "output_type": "stream",
     "text": [
      "/tmp/ipykernel_22235/2651055982.py:1: DtypeWarning: Columns (1,16) have mixed types. Specify dtype option on import or set low_memory=False.\n",
      "  df=pd.read_csv(\"../diplomado-modulo1/practica_1/practica_1.csv\",encoding=\"utf-8\")\n"
     ]
    }
   ],
   "source": [
    "df=pd.read_csv(\"../diplomado-modulo1/practica_1/practica_1.csv\",encoding=\"utf-8\")"
   ]
  },
  {
   "cell_type": "code",
   "execution_count": 4,
   "id": "b22a23e2",
   "metadata": {},
   "outputs": [
    {
     "data": {
      "text/html": [
       "<div>\n",
       "<style scoped>\n",
       "    .dataframe tbody tr th:only-of-type {\n",
       "        vertical-align: middle;\n",
       "    }\n",
       "\n",
       "    .dataframe tbody tr th {\n",
       "        vertical-align: top;\n",
       "    }\n",
       "\n",
       "    .dataframe thead th {\n",
       "        text-align: right;\n",
       "    }\n",
       "</style>\n",
       "<table border=\"1\" class=\"dataframe\">\n",
       "  <thead>\n",
       "    <tr style=\"text-align: right;\">\n",
       "      <th></th>\n",
       "      <th>id</th>\n",
       "      <th>ao_hechos</th>\n",
       "      <th>mes_hechos</th>\n",
       "      <th>fecha_hechos</th>\n",
       "      <th>delito</th>\n",
       "      <th>categoria_delito</th>\n",
       "      <th>fiscalia</th>\n",
       "      <th>agencia</th>\n",
       "      <th>unidad_investigacion</th>\n",
       "      <th>...</th>\n",
       "      <th>latitud</th>\n",
       "      <th>geopoint</th>\n",
       "      <th>Unnamed: 19</th>\n",
       "      <th>Unnamed: 20</th>\n",
       "      <th>Unnamed: 21</th>\n",
       "      <th>Unnamed: 22</th>\n",
       "      <th>Unnamed: 23</th>\n",
       "      <th>Unnamed: 24</th>\n",
       "      <th>Unnamed: 25</th>\n",
       "    </tr>\n",
       "  </thead>\n",
       "  <tbody>\n",
       "    <tr>\n",
       "      <th>0</th>\n",
       "      <td>0</td>\n",
       "      <td>2016</td>\n",
       "      <td>Enero</td>\n",
       "      <td>2016-01-05 17:00:00</td>\n",
       "      <td>LESIONES CULPOSAS</td>\n",
       "      <td>DELITO DE BAJO IMPACTO</td>\n",
       "      <td>INVESTIGACIÃN EN GUSTAVO A. MADERO</td>\n",
       "      <td>GAM-6</td>\n",
       "      <td>UI-1CD</td>\n",
       "      <td>...</td>\n",
       "      <td>19.481076</td>\n",
       "      <td>19.4810759998,-99.103527</td>\n",
       "      <td>NaN</td>\n",
       "      <td>NaN</td>\n",
       "      <td>NaN</td>\n",
       "      <td>NaN</td>\n",
       "      <td>NaN</td>\n",
       "      <td>NaN</td>\n",
       "      <td>NaN</td>\n",
       "    </tr>\n",
       "    <tr>\n",
       "      <th>1</th>\n",
       "      <td>2</td>\n",
       "      <td>2017</td>\n",
       "      <td>Noviembre</td>\n",
       "      <td>2017-11-01 16:40:00</td>\n",
       "      <td>ROBO A TRANSEUNTE EN VIA PUBLICA CON VIOLENCIA</td>\n",
       "      <td>ROBO A TRANSEUNTE EN VÃA PÃBLICA CON Y SIN V...</td>\n",
       "      <td>INVESTIGACIÃN EN IZTACALCO</td>\n",
       "      <td>IZC-2</td>\n",
       "      <td>UI-1SD</td>\n",
       "      <td>...</td>\n",
       "      <td>19.395398</td>\n",
       "      <td>19.3953976727,-99.1060723829</td>\n",
       "      <td>NaN</td>\n",
       "      <td>NaN</td>\n",
       "      <td>NaN</td>\n",
       "      <td>NaN</td>\n",
       "      <td>NaN</td>\n",
       "      <td>NaN</td>\n",
       "      <td>NaN</td>\n",
       "    </tr>\n",
       "    <tr>\n",
       "      <th>2</th>\n",
       "      <td>3</td>\n",
       "      <td>2015</td>\n",
       "      <td>Diciembre</td>\n",
       "      <td>2015-12-30 20:00:00</td>\n",
       "      <td>FRAUDE</td>\n",
       "      <td>DELITO DE BAJO IMPACTO</td>\n",
       "      <td>INVESTIGACIÃN EN IZTAPALAPA</td>\n",
       "      <td>IZP-8</td>\n",
       "      <td>UI-1CD</td>\n",
       "      <td>...</td>\n",
       "      <td>19.322458</td>\n",
       "      <td>19.3224579998,-99.055887</td>\n",
       "      <td>NaN</td>\n",
       "      <td>NaN</td>\n",
       "      <td>NaN</td>\n",
       "      <td>NaN</td>\n",
       "      <td>NaN</td>\n",
       "      <td>NaN</td>\n",
       "      <td>NaN</td>\n",
       "    </tr>\n",
       "    <tr>\n",
       "      <th>3</th>\n",
       "      <td>4</td>\n",
       "      <td>2018</td>\n",
       "      <td>Mayo</td>\n",
       "      <td>2018-05-16 16:00:00</td>\n",
       "      <td>ROBO A REPARTIDOR CON VIOLENCIA</td>\n",
       "      <td>ROBO A REPARTIDOR CON Y SIN VIOLENCIA</td>\n",
       "      <td>INVESTIGACIÃN EN IZTAPALAPA</td>\n",
       "      <td>IZP-9</td>\n",
       "      <td>UI-2SD</td>\n",
       "      <td>...</td>\n",
       "      <td>19.319141</td>\n",
       "      <td>19.3191405147,-99.0427862526</td>\n",
       "      <td>NaN</td>\n",
       "      <td>NaN</td>\n",
       "      <td>NaN</td>\n",
       "      <td>NaN</td>\n",
       "      <td>NaN</td>\n",
       "      <td>NaN</td>\n",
       "      <td>NaN</td>\n",
       "    </tr>\n",
       "    <tr>\n",
       "      <th>4</th>\n",
       "      <td>5</td>\n",
       "      <td>2018</td>\n",
       "      <td>Mayo</td>\n",
       "      <td>2018-05-21 20:40:00</td>\n",
       "      <td>ROBO A TRANSEUNTE DE CELULAR CON VIOLENCIA</td>\n",
       "      <td>DELITO DE BAJO IMPACTO</td>\n",
       "      <td>INVESTIGACIÃN EN CUAUHTEMOC</td>\n",
       "      <td>CUH-2</td>\n",
       "      <td>UI-2SD</td>\n",
       "      <td>...</td>\n",
       "      <td>19.386594</td>\n",
       "      <td>19.3865939284,-99.1115626682</td>\n",
       "      <td>NaN</td>\n",
       "      <td>NaN</td>\n",
       "      <td>NaN</td>\n",
       "      <td>NaN</td>\n",
       "      <td>NaN</td>\n",
       "      <td>NaN</td>\n",
       "      <td>NaN</td>\n",
       "    </tr>\n",
       "  </tbody>\n",
       "</table>\n",
       "<p>5 rows × 26 columns</p>\n",
       "</div>"
      ],
      "text/plain": [
       "   id ao_hechos mes_hechos         fecha_hechos  \\\n",
       "0   0      2016      Enero  2016-01-05 17:00:00   \n",
       "1   2      2017  Noviembre  2017-11-01 16:40:00   \n",
       "2   3      2015  Diciembre  2015-12-30 20:00:00   \n",
       "3   4      2018       Mayo  2018-05-16 16:00:00   \n",
       "4   5      2018       Mayo  2018-05-21 20:40:00   \n",
       "\n",
       "                                           delito  \\\n",
       "0                               LESIONES CULPOSAS   \n",
       "1  ROBO A TRANSEUNTE EN VIA PUBLICA CON VIOLENCIA   \n",
       "2                                          FRAUDE   \n",
       "3                 ROBO A REPARTIDOR CON VIOLENCIA   \n",
       "4      ROBO A TRANSEUNTE DE CELULAR CON VIOLENCIA   \n",
       "\n",
       "                                    categoria_delito  \\\n",
       "0                             DELITO DE BAJO IMPACTO   \n",
       "1  ROBO A TRANSEUNTE EN VÃA PÃBLICA CON Y SIN V...   \n",
       "2                             DELITO DE BAJO IMPACTO   \n",
       "3              ROBO A REPARTIDOR CON Y SIN VIOLENCIA   \n",
       "4                             DELITO DE BAJO IMPACTO   \n",
       "\n",
       "                              fiscalia agencia unidad_investigacion  ...  \\\n",
       "0  INVESTIGACIÃN EN GUSTAVO A. MADERO   GAM-6               UI-1CD  ...   \n",
       "1          INVESTIGACIÃN EN IZTACALCO   IZC-2               UI-1SD  ...   \n",
       "2         INVESTIGACIÃN EN IZTAPALAPA   IZP-8               UI-1CD  ...   \n",
       "3         INVESTIGACIÃN EN IZTAPALAPA   IZP-9               UI-2SD  ...   \n",
       "4         INVESTIGACIÃN EN CUAUHTEMOC   CUH-2               UI-2SD  ...   \n",
       "\n",
       "     latitud                      geopoint Unnamed: 19 Unnamed: 20  \\\n",
       "0  19.481076      19.4810759998,-99.103527         NaN         NaN   \n",
       "1  19.395398  19.3953976727,-99.1060723829         NaN         NaN   \n",
       "2  19.322458      19.3224579998,-99.055887         NaN         NaN   \n",
       "3  19.319141  19.3191405147,-99.0427862526         NaN         NaN   \n",
       "4  19.386594  19.3865939284,-99.1115626682         NaN         NaN   \n",
       "\n",
       "   Unnamed: 21 Unnamed: 22 Unnamed: 23 Unnamed: 24  Unnamed: 25  \n",
       "0          NaN         NaN         NaN         NaN          NaN  \n",
       "1          NaN         NaN         NaN         NaN          NaN  \n",
       "2          NaN         NaN         NaN         NaN          NaN  \n",
       "3          NaN         NaN         NaN         NaN          NaN  \n",
       "4          NaN         NaN         NaN         NaN          NaN  \n",
       "\n",
       "[5 rows x 26 columns]"
      ]
     },
     "execution_count": 4,
     "metadata": {},
     "output_type": "execute_result"
    }
   ],
   "source": [
    "df.head()"
   ]
  },
  {
   "cell_type": "code",
   "execution_count": 5,
   "id": "3e5a41a6",
   "metadata": {},
   "outputs": [],
   "source": [
    "#realizo el drop para eliminar columnas unnamed\n",
    "df.drop(df.columns[df.columns.str.contains('unnamed', case=False)],\n",
    "          axis=1, inplace=True)"
   ]
  },
  {
   "cell_type": "code",
   "execution_count": 6,
   "id": "167f4a8b",
   "metadata": {},
   "outputs": [
    {
     "data": {
      "text/html": [
       "<div>\n",
       "<style scoped>\n",
       "    .dataframe tbody tr th:only-of-type {\n",
       "        vertical-align: middle;\n",
       "    }\n",
       "\n",
       "    .dataframe tbody tr th {\n",
       "        vertical-align: top;\n",
       "    }\n",
       "\n",
       "    .dataframe thead th {\n",
       "        text-align: right;\n",
       "    }\n",
       "</style>\n",
       "<table border=\"1\" class=\"dataframe\">\n",
       "  <thead>\n",
       "    <tr style=\"text-align: right;\">\n",
       "      <th></th>\n",
       "      <th>id</th>\n",
       "      <th>ao_hechos</th>\n",
       "      <th>mes_hechos</th>\n",
       "      <th>fecha_hechos</th>\n",
       "      <th>delito</th>\n",
       "      <th>categoria_delito</th>\n",
       "      <th>fiscalia</th>\n",
       "      <th>agencia</th>\n",
       "      <th>unidad_investigacion</th>\n",
       "      <th>...</th>\n",
       "      <th>alcaldia_hechos</th>\n",
       "      <th>fecha_inicio</th>\n",
       "      <th>mes_inicio</th>\n",
       "      <th>ao_inicio</th>\n",
       "      <th>calle_hechos</th>\n",
       "      <th>calle_hechos2</th>\n",
       "      <th>longitud</th>\n",
       "      <th>latitud</th>\n",
       "      <th>geopoint</th>\n",
       "    </tr>\n",
       "  </thead>\n",
       "  <tbody>\n",
       "    <tr>\n",
       "      <th>0</th>\n",
       "      <td>0</td>\n",
       "      <td>2016</td>\n",
       "      <td>Enero</td>\n",
       "      <td>2016-01-05 17:00:00</td>\n",
       "      <td>LESIONES CULPOSAS</td>\n",
       "      <td>DELITO DE BAJO IMPACTO</td>\n",
       "      <td>INVESTIGACIÃN EN GUSTAVO A. MADERO</td>\n",
       "      <td>GAM-6</td>\n",
       "      <td>UI-1CD</td>\n",
       "      <td>...</td>\n",
       "      <td>GUSTAVO A MADERO</td>\n",
       "      <td>2016-01-05 18:35:37</td>\n",
       "      <td>Enero</td>\n",
       "      <td>2016</td>\n",
       "      <td>SAN JUAN DE ARAGON</td>\n",
       "      <td>CALLE ANZAR</td>\n",
       "      <td>-99.103527</td>\n",
       "      <td>19.481076</td>\n",
       "      <td>19.4810759998,-99.103527</td>\n",
       "    </tr>\n",
       "    <tr>\n",
       "      <th>1</th>\n",
       "      <td>2</td>\n",
       "      <td>2017</td>\n",
       "      <td>Noviembre</td>\n",
       "      <td>2017-11-01 16:40:00</td>\n",
       "      <td>ROBO A TRANSEUNTE EN VIA PUBLICA CON VIOLENCIA</td>\n",
       "      <td>ROBO A TRANSEUNTE EN VÃA PÃBLICA CON Y SIN V...</td>\n",
       "      <td>INVESTIGACIÃN EN IZTACALCO</td>\n",
       "      <td>IZC-2</td>\n",
       "      <td>UI-1SD</td>\n",
       "      <td>...</td>\n",
       "      <td>IZTACALCO</td>\n",
       "      <td>2017-11-01 16:56:04</td>\n",
       "      <td>Noviembre</td>\n",
       "      <td>2017</td>\n",
       "      <td>SUR 117</td>\n",
       "      <td>ORIENTE 100A</td>\n",
       "      <td>-99.106072</td>\n",
       "      <td>19.395398</td>\n",
       "      <td>19.3953976727,-99.1060723829</td>\n",
       "    </tr>\n",
       "    <tr>\n",
       "      <th>2</th>\n",
       "      <td>3</td>\n",
       "      <td>2015</td>\n",
       "      <td>Diciembre</td>\n",
       "      <td>2015-12-30 20:00:00</td>\n",
       "      <td>FRAUDE</td>\n",
       "      <td>DELITO DE BAJO IMPACTO</td>\n",
       "      <td>INVESTIGACIÃN EN IZTAPALAPA</td>\n",
       "      <td>IZP-8</td>\n",
       "      <td>UI-1CD</td>\n",
       "      <td>...</td>\n",
       "      <td>IZTAPALAPA</td>\n",
       "      <td>2016-01-05 21:12:42</td>\n",
       "      <td>Enero</td>\n",
       "      <td>2016</td>\n",
       "      <td>CUARTA CERRADA DE FRESNO</td>\n",
       "      <td>ENCINO (SIN REGISTRO DEL SAP)</td>\n",
       "      <td>-99.055887</td>\n",
       "      <td>19.322458</td>\n",
       "      <td>19.3224579998,-99.055887</td>\n",
       "    </tr>\n",
       "    <tr>\n",
       "      <th>3</th>\n",
       "      <td>4</td>\n",
       "      <td>2018</td>\n",
       "      <td>Mayo</td>\n",
       "      <td>2018-05-16 16:00:00</td>\n",
       "      <td>ROBO A REPARTIDOR CON VIOLENCIA</td>\n",
       "      <td>ROBO A REPARTIDOR CON Y SIN VIOLENCIA</td>\n",
       "      <td>INVESTIGACIÃN EN IZTAPALAPA</td>\n",
       "      <td>IZP-9</td>\n",
       "      <td>UI-2SD</td>\n",
       "      <td>...</td>\n",
       "      <td>IZTAPALAPA</td>\n",
       "      <td>2018-05-22 10:44:45</td>\n",
       "      <td>Mayo</td>\n",
       "      <td>2018</td>\n",
       "      <td>TARASCO</td>\n",
       "      <td>ZAPOTECO</td>\n",
       "      <td>-99.042786</td>\n",
       "      <td>19.319141</td>\n",
       "      <td>19.3191405147,-99.0427862526</td>\n",
       "    </tr>\n",
       "    <tr>\n",
       "      <th>4</th>\n",
       "      <td>5</td>\n",
       "      <td>2018</td>\n",
       "      <td>Mayo</td>\n",
       "      <td>2018-05-21 20:40:00</td>\n",
       "      <td>ROBO A TRANSEUNTE DE CELULAR CON VIOLENCIA</td>\n",
       "      <td>DELITO DE BAJO IMPACTO</td>\n",
       "      <td>INVESTIGACIÃN EN CUAUHTEMOC</td>\n",
       "      <td>CUH-2</td>\n",
       "      <td>UI-2SD</td>\n",
       "      <td>...</td>\n",
       "      <td>IZTACALCO</td>\n",
       "      <td>2018-05-22 10:52:18</td>\n",
       "      <td>Mayo</td>\n",
       "      <td>2018</td>\n",
       "      <td>FRANCISCO DEL PASO Y TRONCOSO</td>\n",
       "      <td>ISLA</td>\n",
       "      <td>-99.111563</td>\n",
       "      <td>19.386594</td>\n",
       "      <td>19.3865939284,-99.1115626682</td>\n",
       "    </tr>\n",
       "  </tbody>\n",
       "</table>\n",
       "<p>5 rows × 19 columns</p>\n",
       "</div>"
      ],
      "text/plain": [
       "   id ao_hechos mes_hechos         fecha_hechos  \\\n",
       "0   0      2016      Enero  2016-01-05 17:00:00   \n",
       "1   2      2017  Noviembre  2017-11-01 16:40:00   \n",
       "2   3      2015  Diciembre  2015-12-30 20:00:00   \n",
       "3   4      2018       Mayo  2018-05-16 16:00:00   \n",
       "4   5      2018       Mayo  2018-05-21 20:40:00   \n",
       "\n",
       "                                           delito  \\\n",
       "0                               LESIONES CULPOSAS   \n",
       "1  ROBO A TRANSEUNTE EN VIA PUBLICA CON VIOLENCIA   \n",
       "2                                          FRAUDE   \n",
       "3                 ROBO A REPARTIDOR CON VIOLENCIA   \n",
       "4      ROBO A TRANSEUNTE DE CELULAR CON VIOLENCIA   \n",
       "\n",
       "                                    categoria_delito  \\\n",
       "0                             DELITO DE BAJO IMPACTO   \n",
       "1  ROBO A TRANSEUNTE EN VÃA PÃBLICA CON Y SIN V...   \n",
       "2                             DELITO DE BAJO IMPACTO   \n",
       "3              ROBO A REPARTIDOR CON Y SIN VIOLENCIA   \n",
       "4                             DELITO DE BAJO IMPACTO   \n",
       "\n",
       "                              fiscalia agencia unidad_investigacion  ...  \\\n",
       "0  INVESTIGACIÃN EN GUSTAVO A. MADERO   GAM-6               UI-1CD  ...   \n",
       "1          INVESTIGACIÃN EN IZTACALCO   IZC-2               UI-1SD  ...   \n",
       "2         INVESTIGACIÃN EN IZTAPALAPA   IZP-8               UI-1CD  ...   \n",
       "3         INVESTIGACIÃN EN IZTAPALAPA   IZP-9               UI-2SD  ...   \n",
       "4         INVESTIGACIÃN EN CUAUHTEMOC   CUH-2               UI-2SD  ...   \n",
       "\n",
       "    alcaldia_hechos         fecha_inicio mes_inicio ao_inicio  \\\n",
       "0  GUSTAVO A MADERO  2016-01-05 18:35:37      Enero      2016   \n",
       "1         IZTACALCO  2017-11-01 16:56:04  Noviembre      2017   \n",
       "2        IZTAPALAPA  2016-01-05 21:12:42      Enero      2016   \n",
       "3        IZTAPALAPA  2018-05-22 10:44:45       Mayo      2018   \n",
       "4         IZTACALCO  2018-05-22 10:52:18       Mayo      2018   \n",
       "\n",
       "                    calle_hechos                  calle_hechos2   longitud  \\\n",
       "0             SAN JUAN DE ARAGON                    CALLE ANZAR -99.103527   \n",
       "1                        SUR 117                   ORIENTE 100A -99.106072   \n",
       "2       CUARTA CERRADA DE FRESNO  ENCINO (SIN REGISTRO DEL SAP) -99.055887   \n",
       "3                        TARASCO                       ZAPOTECO -99.042786   \n",
       "4  FRANCISCO DEL PASO Y TRONCOSO                           ISLA -99.111563   \n",
       "\n",
       "     latitud                      geopoint  \n",
       "0  19.481076      19.4810759998,-99.103527  \n",
       "1  19.395398  19.3953976727,-99.1060723829  \n",
       "2  19.322458      19.3224579998,-99.055887  \n",
       "3  19.319141  19.3191405147,-99.0427862526  \n",
       "4  19.386594  19.3865939284,-99.1115626682  \n",
       "\n",
       "[5 rows x 19 columns]"
      ]
     },
     "execution_count": 6,
     "metadata": {},
     "output_type": "execute_result"
    }
   ],
   "source": [
    "df.head()"
   ]
  },
  {
   "cell_type": "code",
   "execution_count": 7,
   "id": "f8f5dbf6",
   "metadata": {},
   "outputs": [
    {
     "data": {
      "text/plain": [
       "(774952, 19)"
      ]
     },
     "execution_count": 7,
     "metadata": {},
     "output_type": "execute_result"
    }
   ],
   "source": [
    "df.shape"
   ]
  },
  {
   "cell_type": "code",
   "execution_count": 8,
   "id": "32f4182c",
   "metadata": {},
   "outputs": [
    {
     "data": {
      "text/plain": [
       "id                        int64\n",
       "ao_hechos                object\n",
       "mes_hechos               object\n",
       "fecha_hechos             object\n",
       "delito                   object\n",
       "categoria_delito         object\n",
       "fiscalia                 object\n",
       "agencia                  object\n",
       "unidad_investigacion     object\n",
       "colonia_hechos           object\n",
       "alcaldia_hechos          object\n",
       "fecha_inicio             object\n",
       "mes_inicio               object\n",
       "ao_inicio                 int64\n",
       "calle_hechos             object\n",
       "calle_hechos2            object\n",
       "longitud                 object\n",
       "latitud                 float64\n",
       "geopoint                 object\n",
       "dtype: object"
      ]
     },
     "execution_count": 8,
     "metadata": {},
     "output_type": "execute_result"
    }
   ],
   "source": [
    "df.dtypes"
   ]
  },
  {
   "cell_type": "markdown",
   "id": "62930c25",
   "metadata": {},
   "source": [
    "## Etiquetado de variables"
   ]
  },
  {
   "cell_type": "markdown",
   "id": "7c9e8806",
   "metadata": {},
   "source": [
    "– Variables numericas : c\n",
    "\n",
    "– Variables categórica : v\n",
    "\n",
    "– Variables texto : t\n",
    "\n",
    "– Variables de fecha : d"
   ]
  },
  {
   "cell_type": "code",
   "execution_count": 9,
   "id": "a8290604",
   "metadata": {},
   "outputs": [
    {
     "name": "stdout",
     "output_type": "stream",
     "text": [
      "<class 'pandas.core.frame.DataFrame'>\n",
      "RangeIndex: 774952 entries, 0 to 774951\n",
      "Data columns (total 19 columns):\n",
      " #   Column                Non-Null Count   Dtype  \n",
      "---  ------                --------------   -----  \n",
      " 0   id                    774952 non-null  int64  \n",
      " 1   ao_hechos             774952 non-null  object \n",
      " 2   mes_hechos            774952 non-null  object \n",
      " 3   fecha_hechos          774952 non-null  object \n",
      " 4   delito                774952 non-null  object \n",
      " 5   categoria_delito      774952 non-null  object \n",
      " 6   fiscalia              774952 non-null  object \n",
      " 7   agencia               774952 non-null  object \n",
      " 8   unidad_investigacion  774952 non-null  object \n",
      " 9   colonia_hechos        774952 non-null  object \n",
      " 10  alcaldia_hechos       774952 non-null  object \n",
      " 11  fecha_inicio          774952 non-null  object \n",
      " 12  mes_inicio            774952 non-null  object \n",
      " 13  ao_inicio             774952 non-null  int64  \n",
      " 14  calle_hechos          774952 non-null  object \n",
      " 15  calle_hechos2         313676 non-null  object \n",
      " 16  longitud              774951 non-null  object \n",
      " 17  latitud               774952 non-null  float64\n",
      " 18  geopoint              774952 non-null  object \n",
      "dtypes: float64(1), int64(2), object(16)\n",
      "memory usage: 112.3+ MB\n"
     ]
    }
   ],
   "source": [
    "df.info()"
   ]
  },
  {
   "cell_type": "code",
   "execution_count": 10,
   "id": "cfb2f982",
   "metadata": {},
   "outputs": [
    {
     "data": {
      "text/html": [
       "<div>\n",
       "<style scoped>\n",
       "    .dataframe tbody tr th:only-of-type {\n",
       "        vertical-align: middle;\n",
       "    }\n",
       "\n",
       "    .dataframe tbody tr th {\n",
       "        vertical-align: top;\n",
       "    }\n",
       "\n",
       "    .dataframe thead th {\n",
       "        text-align: right;\n",
       "    }\n",
       "</style>\n",
       "<table border=\"1\" class=\"dataframe\">\n",
       "  <thead>\n",
       "    <tr style=\"text-align: right;\">\n",
       "      <th></th>\n",
       "      <th>id</th>\n",
       "      <th>ao_inicio</th>\n",
       "      <th>latitud</th>\n",
       "    </tr>\n",
       "  </thead>\n",
       "  <tbody>\n",
       "    <tr>\n",
       "      <th>385640</th>\n",
       "      <td>402668</td>\n",
       "      <td>2016</td>\n",
       "      <td>19.463543</td>\n",
       "    </tr>\n",
       "    <tr>\n",
       "      <th>205472</th>\n",
       "      <td>214565</td>\n",
       "      <td>2018</td>\n",
       "      <td>19.292100</td>\n",
       "    </tr>\n",
       "    <tr>\n",
       "      <th>635770</th>\n",
       "      <td>663754</td>\n",
       "      <td>2018</td>\n",
       "      <td>19.422687</td>\n",
       "    </tr>\n",
       "    <tr>\n",
       "      <th>711931</th>\n",
       "      <td>743200</td>\n",
       "      <td>2016</td>\n",
       "      <td>19.266958</td>\n",
       "    </tr>\n",
       "    <tr>\n",
       "      <th>718169</th>\n",
       "      <td>749710</td>\n",
       "      <td>2017</td>\n",
       "      <td>19.404568</td>\n",
       "    </tr>\n",
       "    <tr>\n",
       "      <th>161473</th>\n",
       "      <td>168589</td>\n",
       "      <td>2018</td>\n",
       "      <td>19.335771</td>\n",
       "    </tr>\n",
       "    <tr>\n",
       "      <th>78538</th>\n",
       "      <td>81987</td>\n",
       "      <td>2019</td>\n",
       "      <td>19.373623</td>\n",
       "    </tr>\n",
       "    <tr>\n",
       "      <th>136584</th>\n",
       "      <td>142619</td>\n",
       "      <td>2019</td>\n",
       "      <td>19.473589</td>\n",
       "    </tr>\n",
       "    <tr>\n",
       "      <th>707179</th>\n",
       "      <td>738289</td>\n",
       "      <td>2016</td>\n",
       "      <td>19.441522</td>\n",
       "    </tr>\n",
       "    <tr>\n",
       "      <th>164794</th>\n",
       "      <td>172023</td>\n",
       "      <td>2018</td>\n",
       "      <td>19.346969</td>\n",
       "    </tr>\n",
       "  </tbody>\n",
       "</table>\n",
       "</div>"
      ],
      "text/plain": [
       "            id  ao_inicio    latitud\n",
       "385640  402668       2016  19.463543\n",
       "205472  214565       2018  19.292100\n",
       "635770  663754       2018  19.422687\n",
       "711931  743200       2016  19.266958\n",
       "718169  749710       2017  19.404568\n",
       "161473  168589       2018  19.335771\n",
       "78538    81987       2019  19.373623\n",
       "136584  142619       2019  19.473589\n",
       "707179  738289       2016  19.441522\n",
       "164794  172023       2018  19.346969"
      ]
     },
     "execution_count": 10,
     "metadata": {},
     "output_type": "execute_result"
    }
   ],
   "source": [
    "df.select_dtypes(include=['int64',\"float64\"]).sample(10)"
   ]
  },
  {
   "cell_type": "code",
   "execution_count": 11,
   "id": "30a80f70",
   "metadata": {},
   "outputs": [
    {
     "data": {
      "text/html": [
       "<div>\n",
       "<style scoped>\n",
       "    .dataframe tbody tr th:only-of-type {\n",
       "        vertical-align: middle;\n",
       "    }\n",
       "\n",
       "    .dataframe tbody tr th {\n",
       "        vertical-align: top;\n",
       "    }\n",
       "\n",
       "    .dataframe thead th {\n",
       "        text-align: right;\n",
       "    }\n",
       "</style>\n",
       "<table border=\"1\" class=\"dataframe\">\n",
       "  <thead>\n",
       "    <tr style=\"text-align: right;\">\n",
       "      <th></th>\n",
       "      <th>ao_hechos</th>\n",
       "      <th>mes_hechos</th>\n",
       "      <th>fecha_hechos</th>\n",
       "      <th>delito</th>\n",
       "      <th>categoria_delito</th>\n",
       "      <th>fiscalia</th>\n",
       "      <th>agencia</th>\n",
       "      <th>unidad_investigacion</th>\n",
       "      <th>colonia_hechos</th>\n",
       "      <th>alcaldia_hechos</th>\n",
       "      <th>fecha_inicio</th>\n",
       "      <th>mes_inicio</th>\n",
       "      <th>calle_hechos</th>\n",
       "      <th>calle_hechos2</th>\n",
       "      <th>longitud</th>\n",
       "      <th>geopoint</th>\n",
       "    </tr>\n",
       "  </thead>\n",
       "  <tbody>\n",
       "    <tr>\n",
       "      <th>606002</th>\n",
       "      <td>2017</td>\n",
       "      <td>Agosto</td>\n",
       "      <td>2017-08-30 12:40:00</td>\n",
       "      <td>ROBO DE OBJETOS DEL INTERIOR DE UN VEHICULO</td>\n",
       "      <td>DELITO DE BAJO IMPACTO</td>\n",
       "      <td>INVESTIGACIÃN EN TLALPAN</td>\n",
       "      <td>TLP-4</td>\n",
       "      <td>UI-2CD</td>\n",
       "      <td>RESIDENCIAL MIRAMONTES</td>\n",
       "      <td>TLALPAN</td>\n",
       "      <td>2017-08-31 16:52:42</td>\n",
       "      <td>Agosto</td>\n",
       "      <td>CANAL DE  MIRAMONTES</td>\n",
       "      <td>SAN PABLO</td>\n",
       "      <td>-99.124855</td>\n",
       "      <td>19.3008757288,-99.1248550372</td>\n",
       "    </tr>\n",
       "    <tr>\n",
       "      <th>757829</th>\n",
       "      <td>2018</td>\n",
       "      <td>Noviembre</td>\n",
       "      <td>2018-11-13 11:30:00</td>\n",
       "      <td>ROBO DE VEHICULO DE SERVICIO PARTICULAR SIN VI...</td>\n",
       "      <td>ROBO DE VEHÃCULO CON Y SIN VIOLENCIA</td>\n",
       "      <td>INVESTIGACIÃN EN COYOACÃN</td>\n",
       "      <td>COY-4</td>\n",
       "      <td>UI-3CD</td>\n",
       "      <td>VILLA PANAMERICANA</td>\n",
       "      <td>COYOACAN</td>\n",
       "      <td>2018-11-13 15:23:13</td>\n",
       "      <td>Noviembre</td>\n",
       "      <td>AV. PANAMERICANA</td>\n",
       "      <td>MEXICO 1968</td>\n",
       "      <td>-99.17419</td>\n",
       "      <td>19.3060918127,-99.1741898798</td>\n",
       "    </tr>\n",
       "    <tr>\n",
       "      <th>764513</th>\n",
       "      <td>2017</td>\n",
       "      <td>Diciembre</td>\n",
       "      <td>2017-12-30 03:00:00</td>\n",
       "      <td>ROBO A TRANSEUNTE DE CELULAR CON VIOLENCIA</td>\n",
       "      <td>DELITO DE BAJO IMPACTO</td>\n",
       "      <td>INVESTIGACIÃN EN GUSTAVO A. MADERO</td>\n",
       "      <td>GAM-8</td>\n",
       "      <td>UI-1SD</td>\n",
       "      <td>GERTRUDIS SANCHEZ 3A SECCION</td>\n",
       "      <td>GUSTAVO A MADERO</td>\n",
       "      <td>2017-12-31 13:57:22</td>\n",
       "      <td>Diciembre</td>\n",
       "      <td>NORTE 90</td>\n",
       "      <td>ORIENTE 103</td>\n",
       "      <td>-99.099318</td>\n",
       "      <td>19.4615762191,-99.0993177657</td>\n",
       "    </tr>\n",
       "    <tr>\n",
       "      <th>98781</th>\n",
       "      <td>2016</td>\n",
       "      <td>Enero</td>\n",
       "      <td>2016-01-10 12:00:00</td>\n",
       "      <td>AMENAZAS</td>\n",
       "      <td>DELITO DE BAJO IMPACTO</td>\n",
       "      <td>INVESTIGACIÃN EN COYOACÃN</td>\n",
       "      <td>COY-3</td>\n",
       "      <td>UI-1CD</td>\n",
       "      <td>PASEOS DE TAXQUEÃA</td>\n",
       "      <td>COYOACAN</td>\n",
       "      <td>2016-02-16 07:10:46</td>\n",
       "      <td>Febrero</td>\n",
       "      <td>PASEO DE LOS LAURELES</td>\n",
       "      <td>NaN</td>\n",
       "      <td>-99.122107</td>\n",
       "      <td>19.346715199,-99.1221067</td>\n",
       "    </tr>\n",
       "    <tr>\n",
       "      <th>714087</th>\n",
       "      <td>2017</td>\n",
       "      <td>Octubre</td>\n",
       "      <td>2017-10-04 16:50:00</td>\n",
       "      <td>LESIONES INTENCIONALES</td>\n",
       "      <td>DELITO DE BAJO IMPACTO</td>\n",
       "      <td>INVESTIGACIÃN EN IZTAPALAPA</td>\n",
       "      <td>IZP-6</td>\n",
       "      <td>UI-3SD</td>\n",
       "      <td>ERMITA ZARAGOZA</td>\n",
       "      <td>IZTAPALAPA</td>\n",
       "      <td>2017-10-05 00:54:35</td>\n",
       "      <td>Octubre</td>\n",
       "      <td>SIN CALLES DEL SAP</td>\n",
       "      <td>NaN</td>\n",
       "      <td>-98.99794</td>\n",
       "      <td>19.3647380415,-98.9979400439</td>\n",
       "    </tr>\n",
       "  </tbody>\n",
       "</table>\n",
       "</div>"
      ],
      "text/plain": [
       "       ao_hechos mes_hechos         fecha_hechos  \\\n",
       "606002      2017     Agosto  2017-08-30 12:40:00   \n",
       "757829      2018  Noviembre  2018-11-13 11:30:00   \n",
       "764513      2017  Diciembre  2017-12-30 03:00:00   \n",
       "98781       2016      Enero  2016-01-10 12:00:00   \n",
       "714087      2017    Octubre  2017-10-04 16:50:00   \n",
       "\n",
       "                                                   delito  \\\n",
       "606002        ROBO DE OBJETOS DEL INTERIOR DE UN VEHICULO   \n",
       "757829  ROBO DE VEHICULO DE SERVICIO PARTICULAR SIN VI...   \n",
       "764513         ROBO A TRANSEUNTE DE CELULAR CON VIOLENCIA   \n",
       "98781                                            AMENAZAS   \n",
       "714087                             LESIONES INTENCIONALES   \n",
       "\n",
       "                             categoria_delito  \\\n",
       "606002                 DELITO DE BAJO IMPACTO   \n",
       "757829  ROBO DE VEHÃCULO CON Y SIN VIOLENCIA   \n",
       "764513                 DELITO DE BAJO IMPACTO   \n",
       "98781                  DELITO DE BAJO IMPACTO   \n",
       "714087                 DELITO DE BAJO IMPACTO   \n",
       "\n",
       "                                   fiscalia agencia unidad_investigacion  \\\n",
       "606002            INVESTIGACIÃN EN TLALPAN   TLP-4               UI-2CD   \n",
       "757829          INVESTIGACIÃN EN COYOACÃN   COY-4               UI-3CD   \n",
       "764513  INVESTIGACIÃN EN GUSTAVO A. MADERO   GAM-8               UI-1SD   \n",
       "98781           INVESTIGACIÃN EN COYOACÃN   COY-3               UI-1CD   \n",
       "714087         INVESTIGACIÃN EN IZTAPALAPA   IZP-6               UI-3SD   \n",
       "\n",
       "                      colonia_hechos   alcaldia_hechos         fecha_inicio  \\\n",
       "606002        RESIDENCIAL MIRAMONTES           TLALPAN  2017-08-31 16:52:42   \n",
       "757829            VILLA PANAMERICANA          COYOACAN  2018-11-13 15:23:13   \n",
       "764513  GERTRUDIS SANCHEZ 3A SECCION  GUSTAVO A MADERO  2017-12-31 13:57:22   \n",
       "98781            PASEOS DE TAXQUEÃA          COYOACAN  2016-02-16 07:10:46   \n",
       "714087               ERMITA ZARAGOZA        IZTAPALAPA  2017-10-05 00:54:35   \n",
       "\n",
       "       mes_inicio           calle_hechos calle_hechos2   longitud  \\\n",
       "606002     Agosto   CANAL DE  MIRAMONTES     SAN PABLO -99.124855   \n",
       "757829  Noviembre       AV. PANAMERICANA   MEXICO 1968  -99.17419   \n",
       "764513  Diciembre               NORTE 90   ORIENTE 103 -99.099318   \n",
       "98781     Febrero  PASEO DE LOS LAURELES           NaN -99.122107   \n",
       "714087    Octubre     SIN CALLES DEL SAP           NaN  -98.99794   \n",
       "\n",
       "                            geopoint  \n",
       "606002  19.3008757288,-99.1248550372  \n",
       "757829  19.3060918127,-99.1741898798  \n",
       "764513  19.4615762191,-99.0993177657  \n",
       "98781       19.346715199,-99.1221067  \n",
       "714087  19.3647380415,-98.9979400439  "
      ]
     },
     "execution_count": 11,
     "metadata": {},
     "output_type": "execute_result"
    }
   ],
   "source": [
    "df.select_dtypes(exclude=['int64',\"float64\"]).sample(5)"
   ]
  },
  {
   "cell_type": "code",
   "execution_count": 12,
   "id": "8b324143",
   "metadata": {},
   "outputs": [
    {
     "data": {
      "text/plain": [
       "Index                       128\n",
       "id                      6199616\n",
       "ao_hechos               6199616\n",
       "mes_hechos              6199616\n",
       "fecha_hechos            6199616\n",
       "delito                  6199616\n",
       "categoria_delito        6199616\n",
       "fiscalia                6199616\n",
       "agencia                 6199616\n",
       "unidad_investigacion    6199616\n",
       "colonia_hechos          6199616\n",
       "alcaldia_hechos         6199616\n",
       "fecha_inicio            6199616\n",
       "mes_inicio              6199616\n",
       "ao_inicio               6199616\n",
       "calle_hechos            6199616\n",
       "calle_hechos2           6199616\n",
       "longitud                6199616\n",
       "latitud                 6199616\n",
       "geopoint                6199616\n",
       "dtype: int64"
      ]
     },
     "execution_count": 12,
     "metadata": {},
     "output_type": "execute_result"
    }
   ],
   "source": [
    "df.memory_usage()"
   ]
  },
  {
   "cell_type": "code",
   "execution_count": 13,
   "id": "793daf80",
   "metadata": {},
   "outputs": [],
   "source": [
    "#Etiquetamos las variables\n",
    "#ariables numericas : c\n",
    "#Variables categórica : v\n",
    "#Variables texto : t\n",
    "#Variables de fecha : d\n",
    "\n",
    "c_feats = [\"id\",\"longitud\",\"latitud\",\"geopoint\"]\n",
    "d_feats = [\"ao_hechos\", \"mes_hechos\", \"fecha_hechos\",\"fecha_inicio\",\"mes_inicio\",\"ao_inicio\"]\n",
    "t_feats = [\"calle_hechos\",\"calle_hechos2\"]\n",
    "v_feats = [\"delito\", \"categoria_delito\",\"unidad_investigacion\",\"alcaldia_hechos\",\"agencia\",\"fiscalia\",\"colonia_hechos\"]"
   ]
  },
  {
   "cell_type": "code",
   "execution_count": 14,
   "id": "e3d15053",
   "metadata": {},
   "outputs": [],
   "source": [
    "c_feats_new=[\"c_\"+x for x in c_feats]\n",
    "v_feats_new=[\"v_\"+x for x in v_feats]\n",
    "d_feats_new=[\"d_\"+x for x in d_feats]\n",
    "t_feats_new=[\"t_\"+x for x in t_feats]"
   ]
  },
  {
   "cell_type": "code",
   "execution_count": 15,
   "id": "2b3a8005",
   "metadata": {},
   "outputs": [
    {
     "data": {
      "text/plain": [
       "['c_id', 'c_longitud', 'c_latitud', 'c_geopoint']"
      ]
     },
     "execution_count": 15,
     "metadata": {},
     "output_type": "execute_result"
    }
   ],
   "source": [
    "c_feats_new"
   ]
  },
  {
   "cell_type": "code",
   "execution_count": 16,
   "id": "bf7c2ba3",
   "metadata": {},
   "outputs": [],
   "source": [
    "df.rename(columns=dict(zip(d_feats,d_feats_new)),inplace=True)\n",
    "df.rename(columns=dict(zip(v_feats,v_feats_new)),inplace=True)\n",
    "df.rename(columns=dict(zip(t_feats,t_feats_new)),inplace=True)\n",
    "df.rename(columns=dict(zip(c_feats,c_feats_new)),inplace=True)"
   ]
  },
  {
   "cell_type": "code",
   "execution_count": 17,
   "id": "2ee04979",
   "metadata": {},
   "outputs": [
    {
     "data": {
      "text/html": [
       "<div>\n",
       "<style scoped>\n",
       "    .dataframe tbody tr th:only-of-type {\n",
       "        vertical-align: middle;\n",
       "    }\n",
       "\n",
       "    .dataframe tbody tr th {\n",
       "        vertical-align: top;\n",
       "    }\n",
       "\n",
       "    .dataframe thead th {\n",
       "        text-align: right;\n",
       "    }\n",
       "</style>\n",
       "<table border=\"1\" class=\"dataframe\">\n",
       "  <thead>\n",
       "    <tr style=\"text-align: right;\">\n",
       "      <th></th>\n",
       "      <th>c_id</th>\n",
       "      <th>d_ao_hechos</th>\n",
       "      <th>d_mes_hechos</th>\n",
       "      <th>d_fecha_hechos</th>\n",
       "      <th>v_delito</th>\n",
       "      <th>v_categoria_delito</th>\n",
       "      <th>v_fiscalia</th>\n",
       "      <th>v_agencia</th>\n",
       "      <th>v_unidad_investigacion</th>\n",
       "      <th>...</th>\n",
       "      <th>v_alcaldia_hechos</th>\n",
       "      <th>d_fecha_inicio</th>\n",
       "      <th>d_mes_inicio</th>\n",
       "      <th>d_ao_inicio</th>\n",
       "      <th>t_calle_hechos</th>\n",
       "      <th>t_calle_hechos2</th>\n",
       "      <th>c_longitud</th>\n",
       "      <th>c_latitud</th>\n",
       "      <th>c_geopoint</th>\n",
       "    </tr>\n",
       "  </thead>\n",
       "  <tbody>\n",
       "    <tr>\n",
       "      <th>0</th>\n",
       "      <td>0</td>\n",
       "      <td>2016</td>\n",
       "      <td>Enero</td>\n",
       "      <td>2016-01-05 17:00:00</td>\n",
       "      <td>LESIONES CULPOSAS</td>\n",
       "      <td>DELITO DE BAJO IMPACTO</td>\n",
       "      <td>INVESTIGACIÃN EN GUSTAVO A. MADERO</td>\n",
       "      <td>GAM-6</td>\n",
       "      <td>UI-1CD</td>\n",
       "      <td>...</td>\n",
       "      <td>GUSTAVO A MADERO</td>\n",
       "      <td>2016-01-05 18:35:37</td>\n",
       "      <td>Enero</td>\n",
       "      <td>2016</td>\n",
       "      <td>SAN JUAN DE ARAGON</td>\n",
       "      <td>CALLE ANZAR</td>\n",
       "      <td>-99.103527</td>\n",
       "      <td>19.481076</td>\n",
       "      <td>19.4810759998,-99.103527</td>\n",
       "    </tr>\n",
       "    <tr>\n",
       "      <th>1</th>\n",
       "      <td>2</td>\n",
       "      <td>2017</td>\n",
       "      <td>Noviembre</td>\n",
       "      <td>2017-11-01 16:40:00</td>\n",
       "      <td>ROBO A TRANSEUNTE EN VIA PUBLICA CON VIOLENCIA</td>\n",
       "      <td>ROBO A TRANSEUNTE EN VÃA PÃBLICA CON Y SIN V...</td>\n",
       "      <td>INVESTIGACIÃN EN IZTACALCO</td>\n",
       "      <td>IZC-2</td>\n",
       "      <td>UI-1SD</td>\n",
       "      <td>...</td>\n",
       "      <td>IZTACALCO</td>\n",
       "      <td>2017-11-01 16:56:04</td>\n",
       "      <td>Noviembre</td>\n",
       "      <td>2017</td>\n",
       "      <td>SUR 117</td>\n",
       "      <td>ORIENTE 100A</td>\n",
       "      <td>-99.106072</td>\n",
       "      <td>19.395398</td>\n",
       "      <td>19.3953976727,-99.1060723829</td>\n",
       "    </tr>\n",
       "    <tr>\n",
       "      <th>2</th>\n",
       "      <td>3</td>\n",
       "      <td>2015</td>\n",
       "      <td>Diciembre</td>\n",
       "      <td>2015-12-30 20:00:00</td>\n",
       "      <td>FRAUDE</td>\n",
       "      <td>DELITO DE BAJO IMPACTO</td>\n",
       "      <td>INVESTIGACIÃN EN IZTAPALAPA</td>\n",
       "      <td>IZP-8</td>\n",
       "      <td>UI-1CD</td>\n",
       "      <td>...</td>\n",
       "      <td>IZTAPALAPA</td>\n",
       "      <td>2016-01-05 21:12:42</td>\n",
       "      <td>Enero</td>\n",
       "      <td>2016</td>\n",
       "      <td>CUARTA CERRADA DE FRESNO</td>\n",
       "      <td>ENCINO (SIN REGISTRO DEL SAP)</td>\n",
       "      <td>-99.055887</td>\n",
       "      <td>19.322458</td>\n",
       "      <td>19.3224579998,-99.055887</td>\n",
       "    </tr>\n",
       "    <tr>\n",
       "      <th>3</th>\n",
       "      <td>4</td>\n",
       "      <td>2018</td>\n",
       "      <td>Mayo</td>\n",
       "      <td>2018-05-16 16:00:00</td>\n",
       "      <td>ROBO A REPARTIDOR CON VIOLENCIA</td>\n",
       "      <td>ROBO A REPARTIDOR CON Y SIN VIOLENCIA</td>\n",
       "      <td>INVESTIGACIÃN EN IZTAPALAPA</td>\n",
       "      <td>IZP-9</td>\n",
       "      <td>UI-2SD</td>\n",
       "      <td>...</td>\n",
       "      <td>IZTAPALAPA</td>\n",
       "      <td>2018-05-22 10:44:45</td>\n",
       "      <td>Mayo</td>\n",
       "      <td>2018</td>\n",
       "      <td>TARASCO</td>\n",
       "      <td>ZAPOTECO</td>\n",
       "      <td>-99.042786</td>\n",
       "      <td>19.319141</td>\n",
       "      <td>19.3191405147,-99.0427862526</td>\n",
       "    </tr>\n",
       "    <tr>\n",
       "      <th>4</th>\n",
       "      <td>5</td>\n",
       "      <td>2018</td>\n",
       "      <td>Mayo</td>\n",
       "      <td>2018-05-21 20:40:00</td>\n",
       "      <td>ROBO A TRANSEUNTE DE CELULAR CON VIOLENCIA</td>\n",
       "      <td>DELITO DE BAJO IMPACTO</td>\n",
       "      <td>INVESTIGACIÃN EN CUAUHTEMOC</td>\n",
       "      <td>CUH-2</td>\n",
       "      <td>UI-2SD</td>\n",
       "      <td>...</td>\n",
       "      <td>IZTACALCO</td>\n",
       "      <td>2018-05-22 10:52:18</td>\n",
       "      <td>Mayo</td>\n",
       "      <td>2018</td>\n",
       "      <td>FRANCISCO DEL PASO Y TRONCOSO</td>\n",
       "      <td>ISLA</td>\n",
       "      <td>-99.111563</td>\n",
       "      <td>19.386594</td>\n",
       "      <td>19.3865939284,-99.1115626682</td>\n",
       "    </tr>\n",
       "  </tbody>\n",
       "</table>\n",
       "<p>5 rows × 19 columns</p>\n",
       "</div>"
      ],
      "text/plain": [
       "   c_id d_ao_hechos d_mes_hechos       d_fecha_hechos  \\\n",
       "0     0        2016        Enero  2016-01-05 17:00:00   \n",
       "1     2        2017    Noviembre  2017-11-01 16:40:00   \n",
       "2     3        2015    Diciembre  2015-12-30 20:00:00   \n",
       "3     4        2018         Mayo  2018-05-16 16:00:00   \n",
       "4     5        2018         Mayo  2018-05-21 20:40:00   \n",
       "\n",
       "                                         v_delito  \\\n",
       "0                               LESIONES CULPOSAS   \n",
       "1  ROBO A TRANSEUNTE EN VIA PUBLICA CON VIOLENCIA   \n",
       "2                                          FRAUDE   \n",
       "3                 ROBO A REPARTIDOR CON VIOLENCIA   \n",
       "4      ROBO A TRANSEUNTE DE CELULAR CON VIOLENCIA   \n",
       "\n",
       "                                  v_categoria_delito  \\\n",
       "0                             DELITO DE BAJO IMPACTO   \n",
       "1  ROBO A TRANSEUNTE EN VÃA PÃBLICA CON Y SIN V...   \n",
       "2                             DELITO DE BAJO IMPACTO   \n",
       "3              ROBO A REPARTIDOR CON Y SIN VIOLENCIA   \n",
       "4                             DELITO DE BAJO IMPACTO   \n",
       "\n",
       "                            v_fiscalia v_agencia v_unidad_investigacion  ...  \\\n",
       "0  INVESTIGACIÃN EN GUSTAVO A. MADERO     GAM-6                 UI-1CD  ...   \n",
       "1          INVESTIGACIÃN EN IZTACALCO     IZC-2                 UI-1SD  ...   \n",
       "2         INVESTIGACIÃN EN IZTAPALAPA     IZP-8                 UI-1CD  ...   \n",
       "3         INVESTIGACIÃN EN IZTAPALAPA     IZP-9                 UI-2SD  ...   \n",
       "4         INVESTIGACIÃN EN CUAUHTEMOC     CUH-2                 UI-2SD  ...   \n",
       "\n",
       "  v_alcaldia_hechos       d_fecha_inicio d_mes_inicio d_ao_inicio  \\\n",
       "0  GUSTAVO A MADERO  2016-01-05 18:35:37        Enero        2016   \n",
       "1         IZTACALCO  2017-11-01 16:56:04    Noviembre        2017   \n",
       "2        IZTAPALAPA  2016-01-05 21:12:42        Enero        2016   \n",
       "3        IZTAPALAPA  2018-05-22 10:44:45         Mayo        2018   \n",
       "4         IZTACALCO  2018-05-22 10:52:18         Mayo        2018   \n",
       "\n",
       "                  t_calle_hechos                t_calle_hechos2 c_longitud  \\\n",
       "0             SAN JUAN DE ARAGON                    CALLE ANZAR -99.103527   \n",
       "1                        SUR 117                   ORIENTE 100A -99.106072   \n",
       "2       CUARTA CERRADA DE FRESNO  ENCINO (SIN REGISTRO DEL SAP) -99.055887   \n",
       "3                        TARASCO                       ZAPOTECO -99.042786   \n",
       "4  FRANCISCO DEL PASO Y TRONCOSO                           ISLA -99.111563   \n",
       "\n",
       "   c_latitud                    c_geopoint  \n",
       "0  19.481076      19.4810759998,-99.103527  \n",
       "1  19.395398  19.3953976727,-99.1060723829  \n",
       "2  19.322458      19.3224579998,-99.055887  \n",
       "3  19.319141  19.3191405147,-99.0427862526  \n",
       "4  19.386594  19.3865939284,-99.1115626682  \n",
       "\n",
       "[5 rows x 19 columns]"
      ]
     },
     "execution_count": 17,
     "metadata": {},
     "output_type": "execute_result"
    }
   ],
   "source": [
    "df.head()"
   ]
  },
  {
   "cell_type": "markdown",
   "id": "890c8e07",
   "metadata": {},
   "source": [
    "## Limpieza de las variables categóricas y variables de texto"
   ]
  },
  {
   "cell_type": "code",
   "execution_count": 18,
   "id": "5a5a4e51",
   "metadata": {},
   "outputs": [
    {
     "data": {
      "text/plain": [
       "['t_calle_hechos', 't_calle_hechos2']"
      ]
     },
     "execution_count": 18,
     "metadata": {},
     "output_type": "execute_result"
    }
   ],
   "source": [
    "#Limpieza variables de Texto\n",
    "t_feats_new"
   ]
  },
  {
   "cell_type": "code",
   "execution_count": 19,
   "id": "ac0fa990",
   "metadata": {},
   "outputs": [],
   "source": [
    "#copio los datos para resguardarlos\n",
    "dfcopy=df.copy()"
   ]
  },
  {
   "cell_type": "code",
   "execution_count": 20,
   "id": "1a17316b",
   "metadata": {},
   "outputs": [],
   "source": [
    "def clean_text(text, pattern=\"[^a-zA-Z0-9]\"):\n",
    "    cleaned_text = unicodedata.normalize('NFD', text).encode('ascii', 'ignore')\n",
    "    cleaned_text = re.sub(pattern, \" \", cleaned_text.decode(\"ascii\"), flags=re.UNICODE)\n",
    "    cleaned_text = u' '.join(cleaned_text.lower().lstrip().strip().split())\n",
    "    return cleaned_text"
   ]
  },
  {
   "cell_type": "code",
   "execution_count": 21,
   "id": "ee7ce809",
   "metadata": {},
   "outputs": [],
   "source": [
    "#Lo use para pasar la Ã a Ñ \n",
    "def vacio(text):\n",
    "    vacio = text.replace('Ã','Ñ')\n",
    "    vacio = text.replace('IÃ','ON')\n",
    "    return vacio"
   ]
  },
  {
   "cell_type": "markdown",
   "id": "92aeb878",
   "metadata": {},
   "source": [
    "Paso las letras a Minusculas y se nota que Cerdeáa debereria ser cerdeña, a pesar que al momento de limpar acentos esta se convierte en n, considero que es más facil identificar cerdena a cerdenaa"
   ]
  },
  {
   "cell_type": "code",
   "execution_count": 22,
   "id": "bd396253",
   "metadata": {},
   "outputs": [
    {
     "data": {
      "text/plain": [
       "0                    SAN JUAN DE ARAGON\n",
       "1                               SUR 117\n",
       "2              CUARTA CERRADA DE FRESNO\n",
       "3                               TARASCO\n",
       "4         FRANCISCO DEL PASO Y TRONCOSO\n",
       "                      ...              \n",
       "774947                     LAGO ALBERTO\n",
       "774948                 CALLEJON MORELOS\n",
       "774949           CALZ. DE LOS MISTERIOS\n",
       "774950                         CERDEÃA\n",
       "774951         CAP. AVIADOR CARLOS LEON\n",
       "Name: t_calle_hechos, Length: 774952, dtype: object"
      ]
     },
     "execution_count": 22,
     "metadata": {},
     "output_type": "execute_result"
    }
   ],
   "source": [
    "df[\"t_calle_hechos\"]"
   ]
  },
  {
   "cell_type": "code",
   "execution_count": 23,
   "id": "07f236e6",
   "metadata": {},
   "outputs": [],
   "source": [
    "df[\"t_calle_hechos\"]=df[\"t_calle_hechos\"].map(lambda x:vacio(x).replace(\"Ã\",\"Ñ\"))"
   ]
  },
  {
   "cell_type": "code",
   "execution_count": 24,
   "id": "09354ad2",
   "metadata": {},
   "outputs": [
    {
     "data": {
      "text/plain": [
       "0                    SAN JUAN DE ARAGON\n",
       "1                               SUR 117\n",
       "2              CUARTA CERRADA DE FRESNO\n",
       "3                               TARASCO\n",
       "4         FRANCISCO DEL PASO Y TRONCOSO\n",
       "                      ...              \n",
       "774947                     LAGO ALBERTO\n",
       "774948                 CALLEJON MORELOS\n",
       "774949           CALZ. DE LOS MISTERIOS\n",
       "774950                         CERDEÑA\n",
       "774951         CAP. AVIADOR CARLOS LEON\n",
       "Name: t_calle_hechos, Length: 774952, dtype: object"
      ]
     },
     "execution_count": 24,
     "metadata": {},
     "output_type": "execute_result"
    }
   ],
   "source": [
    "df[\"t_calle_hechos\"]"
   ]
  },
  {
   "cell_type": "code",
   "execution_count": 25,
   "id": "52ab9f3e",
   "metadata": {},
   "outputs": [],
   "source": [
    "df[\"t_calle_hechos\"]=df[\"t_calle_hechos\"].map(lambda x:clean_text(x.lower()))"
   ]
  },
  {
   "cell_type": "code",
   "execution_count": 26,
   "id": "2f6db60d",
   "metadata": {},
   "outputs": [
    {
     "data": {
      "text/plain": [
       "calzada de tlalpan                                                   3512\n",
       "eje central lazaro cardenas                                          3462\n",
       "calzada ignacio zaragoza                                             2969\n",
       "sin calles del sap                                                   2877\n",
       "av insurgentes sur                                                   2791\n",
       "                                                                     ... \n",
       "calle rinconada de las alondras no 1 fraccionamiento las tortolas       1\n",
       "granjas princess condominio no esta marcada                             1\n",
       "casas grandes norte esquina atenor salas                                1\n",
       "canacuate lote 3 manzana 28                                             1\n",
       "bodega d 2 del area de abarrotes                                        1\n",
       "Name: t_calle_hechos, Length: 155362, dtype: int64"
      ]
     },
     "execution_count": 26,
     "metadata": {},
     "output_type": "execute_result"
    }
   ],
   "source": [
    "df[\"t_calle_hechos\"].value_counts()"
   ]
  },
  {
   "cell_type": "code",
   "execution_count": 27,
   "id": "d6b3f312",
   "metadata": {},
   "outputs": [
    {
     "data": {
      "text/plain": [
       "0                    san juan de aragon\n",
       "1                               sur 117\n",
       "2              cuarta cerrada de fresno\n",
       "3                               tarasco\n",
       "4         francisco del paso y troncoso\n",
       "                      ...              \n",
       "774947                     lago alberto\n",
       "774948                 callejon morelos\n",
       "774949            calz de los misterios\n",
       "774950                          cerdena\n",
       "774951          cap aviador carlos leon\n",
       "Name: t_calle_hechos, Length: 774952, dtype: object"
      ]
     },
     "execution_count": 27,
     "metadata": {},
     "output_type": "execute_result"
    }
   ],
   "source": [
    "df[\"t_calle_hechos\"]"
   ]
  },
  {
   "cell_type": "code",
   "execution_count": 28,
   "id": "7afa0888",
   "metadata": {},
   "outputs": [
    {
     "data": {
      "text/plain": [
       "0                           CALLE ANZAR\n",
       "1                          ORIENTE 100A\n",
       "2         ENCINO (SIN REGISTRO DEL SAP)\n",
       "3                              ZAPOTECO\n",
       "4                                  ISLA\n",
       "                      ...              \n",
       "774947                       LAGO ITZEO\n",
       "774948                              NaN\n",
       "774949                              NaN\n",
       "774950                              NaN\n",
       "774951                              NaN\n",
       "Name: t_calle_hechos2, Length: 774952, dtype: object"
      ]
     },
     "execution_count": 28,
     "metadata": {},
     "output_type": "execute_result"
    }
   ],
   "source": [
    "df[\"t_calle_hechos2\"]"
   ]
  },
  {
   "cell_type": "markdown",
   "id": "ef02771d",
   "metadata": {},
   "source": [
    "Al marcarme error al pasar los datos en minuscalas por los Nan, los pasare a vacio asumiendo vacio = Nan"
   ]
  },
  {
   "cell_type": "code",
   "execution_count": 29,
   "id": "3cf36daf",
   "metadata": {},
   "outputs": [],
   "source": [
    "df[\"t_calle_hechos2\"]=df[\"t_calle_hechos2\"].fillna(\"vacio\")"
   ]
  },
  {
   "cell_type": "code",
   "execution_count": 30,
   "id": "0665b094",
   "metadata": {},
   "outputs": [],
   "source": [
    "df[\"t_calle_hechos2\"]=df[\"t_calle_hechos2\"].map(lambda x:clean_text(x.lower()))"
   ]
  },
  {
   "cell_type": "code",
   "execution_count": 31,
   "id": "34d2c260",
   "metadata": {},
   "outputs": [
    {
     "data": {
      "text/plain": [
       "vacio                                            461276\n",
       "                                                   2253\n",
       "eje central lazaro cardenas                        1315\n",
       "periferico                                          891\n",
       "cuauhtemoc                                          755\n",
       "                                                  ...  \n",
       "ote 98                                                1\n",
       "unidad habitacional zapata                            1\n",
       "constituyente c echanove sin registro dels ap         1\n",
       "entre moneda y rep de guatemala                       1\n",
       "lago itzeo                                            1\n",
       "Name: t_calle_hechos2, Length: 75910, dtype: int64"
      ]
     },
     "execution_count": 31,
     "metadata": {},
     "output_type": "execute_result"
    }
   ],
   "source": [
    "df[\"t_calle_hechos2\"].value_counts()"
   ]
  },
  {
   "cell_type": "code",
   "execution_count": 32,
   "id": "c789f475",
   "metadata": {},
   "outputs": [
    {
     "data": {
      "text/plain": [
       "0                         calle anzar\n",
       "1                        oriente 100a\n",
       "2         encino sin registro del sap\n",
       "3                            zapoteco\n",
       "4                                isla\n",
       "                     ...             \n",
       "774947                     lago itzeo\n",
       "774948                           None\n",
       "774949                           None\n",
       "774950                           None\n",
       "774951                           None\n",
       "Name: t_calle_hechos2, Length: 774952, dtype: object"
      ]
     },
     "execution_count": 32,
     "metadata": {},
     "output_type": "execute_result"
    }
   ],
   "source": [
    "df[\"t_calle_hechos2\"].replace('vacio',None)"
   ]
  },
  {
   "cell_type": "markdown",
   "id": "ead90b71",
   "metadata": {},
   "source": [
    "### Limpieza de variables catagoricas"
   ]
  },
  {
   "cell_type": "code",
   "execution_count": 33,
   "id": "61c1d14f",
   "metadata": {},
   "outputs": [
    {
     "data": {
      "text/plain": [
       "['v_delito',\n",
       " 'v_categoria_delito',\n",
       " 'v_unidad_investigacion',\n",
       " 'v_alcaldia_hechos',\n",
       " 'v_agencia',\n",
       " 'v_fiscalia',\n",
       " 'v_colonia_hechos']"
      ]
     },
     "execution_count": 33,
     "metadata": {},
     "output_type": "execute_result"
    }
   ],
   "source": [
    "v_feats_new"
   ]
  },
  {
   "cell_type": "code",
   "execution_count": 34,
   "id": "1a4e3138",
   "metadata": {},
   "outputs": [
    {
     "data": {
      "text/plain": [
       "0                                      LESIONES CULPOSAS\n",
       "1         ROBO A TRANSEUNTE EN VIA PUBLICA CON VIOLENCIA\n",
       "2                                                 FRAUDE\n",
       "3                        ROBO A REPARTIDOR CON VIOLENCIA\n",
       "4             ROBO A TRANSEUNTE DE CELULAR CON VIOLENCIA\n",
       "                               ...                      \n",
       "774947    ROBO A TRANSEUNTE EN VIA PUBLICA CON VIOLENCIA\n",
       "774948                                VIOLENCIA FAMILIAR\n",
       "774949          LESIONES INTENCIONALES POR ARMA DE FUEGO\n",
       "774950                 PRIVACION DE LA LIBERTAD PERSONAL\n",
       "774951                                ABUSO DE CONFIANZA\n",
       "Name: v_delito, Length: 774952, dtype: object"
      ]
     },
     "execution_count": 34,
     "metadata": {},
     "output_type": "execute_result"
    }
   ],
   "source": [
    "df[\"v_delito\"]"
   ]
  },
  {
   "cell_type": "code",
   "execution_count": 35,
   "id": "990cbdd8",
   "metadata": {},
   "outputs": [],
   "source": [
    "df[\"v_delito\"]=df[\"v_delito\"].map(lambda x:clean_text(x.lower()))"
   ]
  },
  {
   "cell_type": "code",
   "execution_count": 36,
   "id": "b09a5ba1",
   "metadata": {},
   "outputs": [
    {
     "data": {
      "text/plain": [
       "violencia familiar                                 68004\n",
       "robo de objetos                                    51510\n",
       "robo a negocio sin violencia                       51172\n",
       "fraude                                             44198\n",
       "denuncia de hechos                                 40377\n",
       "                                                   ...  \n",
       "desacato                                               1\n",
       "robo a pasajero en tren suburbano con violencia        1\n",
       "exhortos                                               1\n",
       "violacion tumultuaria equiparada por conocido          1\n",
       "contra la ley general de explosivos                    1\n",
       "Name: v_delito, Length: 277, dtype: int64"
      ]
     },
     "execution_count": 36,
     "metadata": {},
     "output_type": "execute_result"
    }
   ],
   "source": [
    "df[\"v_delito\"].value_counts()"
   ]
  },
  {
   "cell_type": "code",
   "execution_count": 37,
   "id": "3b4c3af9",
   "metadata": {},
   "outputs": [
    {
     "data": {
      "text/plain": [
       "0                                    DELITO DE BAJO IMPACTO\n",
       "1         ROBO A TRANSEUNTE EN VÃA PÃBLICA CON Y SIN V...\n",
       "2                                    DELITO DE BAJO IMPACTO\n",
       "3                     ROBO A REPARTIDOR CON Y SIN VIOLENCIA\n",
       "4                                    DELITO DE BAJO IMPACTO\n",
       "                                ...                        \n",
       "774947    ROBO A TRANSEUNTE EN VÃA PÃBLICA CON Y SIN V...\n",
       "774948                               DELITO DE BAJO IMPACTO\n",
       "774949        LESIONES DOLOSAS POR DISPARO DE ARMA DE FUEGO\n",
       "774950                               DELITO DE BAJO IMPACTO\n",
       "774951                               DELITO DE BAJO IMPACTO\n",
       "Name: v_categoria_delito, Length: 774952, dtype: object"
      ]
     },
     "execution_count": 37,
     "metadata": {},
     "output_type": "execute_result"
    }
   ],
   "source": [
    "df[\"v_categoria_delito\"]"
   ]
  },
  {
   "cell_type": "markdown",
   "id": "15b76fb9",
   "metadata": {},
   "source": [
    " al conocer como se escribe correctamente decidi cambiarlo para facilitar la comprensión"
   ]
  },
  {
   "cell_type": "code",
   "execution_count": 38,
   "id": "24027466",
   "metadata": {},
   "outputs": [],
   "source": [
    "df[\"v_categoria_delito\"]=df[\"v_categoria_delito\"].map(lambda x:vacio(x).replace(\"VÃ\",\"VÍ\"))"
   ]
  },
  {
   "cell_type": "code",
   "execution_count": 39,
   "id": "5c6d531b",
   "metadata": {},
   "outputs": [],
   "source": [
    "df[\"v_categoria_delito\"]=df[\"v_categoria_delito\"].map(lambda x:vacio(x).replace(\"PÃ\",\"PÚ\"))"
   ]
  },
  {
   "cell_type": "code",
   "execution_count": 40,
   "id": "23cfe7b0",
   "metadata": {},
   "outputs": [],
   "source": [
    "df[\"v_categoria_delito\"]=df[\"v_categoria_delito\"].map(lambda x:vacio(x).replace(\"IÃ\",\"IO\"))"
   ]
  },
  {
   "cell_type": "code",
   "execution_count": 41,
   "id": "a7d884ae",
   "metadata": {},
   "outputs": [],
   "source": [
    "df[\"v_categoria_delito\"]=df[\"v_categoria_delito\"].map(lambda x:vacio(x).replace(\"HÃ\",\"HI\"))"
   ]
  },
  {
   "cell_type": "code",
   "execution_count": 42,
   "id": "fa65dade",
   "metadata": {},
   "outputs": [],
   "source": [
    "df[\"v_categoria_delito\"] = df[\"v_categoria_delito\"].map(lambda x:clean_text(x.lower()))"
   ]
  },
  {
   "cell_type": "code",
   "execution_count": 43,
   "id": "4424187f",
   "metadata": {},
   "outputs": [],
   "source": [
    "df[\"v_categoria_delito\"]=df[\"v_categoria_delito\"].map(lambda x:vacio(x).replace(\"onn\",\"ion\"))"
   ]
  },
  {
   "cell_type": "code",
   "execution_count": 44,
   "id": "52d36cac",
   "metadata": {},
   "outputs": [
    {
     "data": {
      "text/plain": [
       "delito de bajo impacto                                     613398\n",
       "hecho no delictivo                                          47332\n",
       "robo de vehiculo con y sin violencia                        41001\n",
       "robo a transeunte en via publica con y sin violencia        33120\n",
       "robo a negocio con violencia                                11517\n",
       "robo a repartidor con y sin violencia                        7178\n",
       "robo a pasajero a bordo del metro con y sin violencia        5406\n",
       "homicidio doloso                                             3806\n",
       "lesiones dolosas por disparo de arma de fuego                3038\n",
       "robo a pasajero a bordo de microbus con y sin violencia      2827\n",
       "violacion                                                    1874\n",
       "robo a casa habitacion con violencia                         1830\n",
       "robo a cuentahabiente saliendo del cajero con violencia      1403\n",
       "robo a pasajero a bordo de taxi con violencia                 724\n",
       "robo a transportista con y sin violencia                      408\n",
       "secuestro                                                      90\n",
       "Name: v_categoria_delito, dtype: int64"
      ]
     },
     "execution_count": 44,
     "metadata": {},
     "output_type": "execute_result"
    }
   ],
   "source": [
    "df[\"v_categoria_delito\"].value_counts()"
   ]
  },
  {
   "cell_type": "code",
   "execution_count": 45,
   "id": "6886124e",
   "metadata": {},
   "outputs": [
    {
     "data": {
      "text/plain": [
       "0         UI-1CD\n",
       "1         UI-1SD\n",
       "2         UI-1CD\n",
       "3         UI-2SD\n",
       "4         UI-2SD\n",
       "           ...  \n",
       "774947    UI-1SD\n",
       "774948    UI-1CD\n",
       "774949    UI-1SD\n",
       "774950    UI-1SD\n",
       "774951    UI-1SD\n",
       "Name: v_unidad_investigacion, Length: 774952, dtype: object"
      ]
     },
     "execution_count": 45,
     "metadata": {},
     "output_type": "execute_result"
    }
   ],
   "source": [
    "df[\"v_unidad_investigacion\"]\n",
    "#al ser claves preferi dejarlo así"
   ]
  },
  {
   "cell_type": "code",
   "execution_count": 46,
   "id": "0491b627",
   "metadata": {},
   "outputs": [
    {
     "data": {
      "text/plain": [
       "0            GUSTAVO A MADERO\n",
       "1                   IZTACALCO\n",
       "2                  IZTAPALAPA\n",
       "3                  IZTAPALAPA\n",
       "4                   IZTACALCO\n",
       "                 ...         \n",
       "774947         MIGUEL HIDALGO\n",
       "774948             XOCHIMILCO\n",
       "774949       GUSTAVO A MADERO\n",
       "774950           AZCAPOTZALCO\n",
       "774951    VENUSTIANO CARRANZA\n",
       "Name: v_alcaldia_hechos, Length: 774952, dtype: object"
      ]
     },
     "execution_count": 46,
     "metadata": {},
     "output_type": "execute_result"
    }
   ],
   "source": [
    "df[\"v_alcaldia_hechos\"]"
   ]
  },
  {
   "cell_type": "code",
   "execution_count": 47,
   "id": "ffb16e67",
   "metadata": {},
   "outputs": [],
   "source": [
    "df[\"v_alcaldia_hechos\"]=df[\"v_alcaldia_hechos\"].map(lambda x:clean_text(x.lower()))"
   ]
  },
  {
   "cell_type": "code",
   "execution_count": 48,
   "id": "ff9f1d7f",
   "metadata": {},
   "outputs": [
    {
     "data": {
      "text/plain": [
       "cuauhtemoc                126168\n",
       "iztapalapa                114682\n",
       "gustavo a madero           76935\n",
       "benito juarez              69342\n",
       "coyoacan                   52767\n",
       "miguel hidalgo             52502\n",
       "alvaro obregon             51135\n",
       "tlalpan                    44888\n",
       "venustiano carranza        44474\n",
       "azcapotzalco               38876\n",
       "iztacalco                  33886\n",
       "xochimilco                 24019\n",
       "tlahuac                    17237\n",
       "la magdalena contreras     11864\n",
       "cuajimalpa de morelos      11205\n",
       "milpa alta                  4972\n",
       "Name: v_alcaldia_hechos, dtype: int64"
      ]
     },
     "execution_count": 48,
     "metadata": {},
     "output_type": "execute_result"
    }
   ],
   "source": [
    "df[\"v_alcaldia_hechos\"].value_counts()"
   ]
  },
  {
   "cell_type": "code",
   "execution_count": 49,
   "id": "6d764882",
   "metadata": {},
   "outputs": [
    {
     "data": {
      "text/plain": [
       "0                       INVESTIGACIÃN EN GUSTAVO A. MADERO\n",
       "1                               INVESTIGACIÃN EN IZTACALCO\n",
       "2                              INVESTIGACIÃN EN IZTAPALAPA\n",
       "3                              INVESTIGACIÃN EN IZTAPALAPA\n",
       "4                              INVESTIGACIÃN EN CUAUHTEMOC\n",
       "                                ...                        \n",
       "774947                     INVESTIGACIÃN EN MIGUEL HIDALGO\n",
       "774948                         INVESTIGACIÃN EN MILPA ALTA\n",
       "774949                     INVESTIGACIÃN EN MIGUEL HIDALGO\n",
       "774950                       INVESTIGACIÃN EN AZCAPOTZALCO\n",
       "774951    INVESTIGACIÃN EN AGENCIAS DE ATENCIÃN ESPECI...\n",
       "Name: v_fiscalia, Length: 774952, dtype: object"
      ]
     },
     "execution_count": 49,
     "metadata": {},
     "output_type": "execute_result"
    }
   ],
   "source": [
    "df[\"v_fiscalia\"]"
   ]
  },
  {
   "cell_type": "code",
   "execution_count": 50,
   "id": "62c53b59",
   "metadata": {},
   "outputs": [],
   "source": [
    "def vacio2(text):\n",
    "    vacio2= text.replace('IÃ','IO')\n",
    "    return vacio2"
   ]
  },
  {
   "cell_type": "code",
   "execution_count": 51,
   "id": "95d10aac",
   "metadata": {},
   "outputs": [],
   "source": [
    "df[\"v_fiscalia\"]=df[\"v_fiscalia\"].map(lambda x:vacio2(x).replace(\"IÃ\",\"IO\"))"
   ]
  },
  {
   "cell_type": "code",
   "execution_count": 52,
   "id": "3c86b64c",
   "metadata": {},
   "outputs": [],
   "source": [
    "df[\"v_fiscalia\"]=df[\"v_fiscalia\"].map(lambda x:clean_text(x.lower()))"
   ]
  },
  {
   "cell_type": "code",
   "execution_count": 53,
   "id": "68e577b9",
   "metadata": {},
   "outputs": [
    {
     "data": {
      "text/plain": [
       "investigacion en cuauhtemoc                                                            99016\n",
       "investigacion en iztapalapa                                                            96023\n",
       "investigacion en benito juarez                                                         64359\n",
       "investigacion en gustavo a madero                                                      64353\n",
       "investigacion en coyoacan                                                              45969\n",
       "investigacion en miguel hidalgo                                                        44995\n",
       "investigacion en alvaro obregan                                                        44833\n",
       "investigacion en tlalpan                                                               40322\n",
       "investigacion en venustiano carranza                                                   37677\n",
       "investigacion en azcapotzalco                                                          34412\n",
       "investigacion en iztacalco                                                             29569\n",
       "investigacion para la atencion de nioos nioas y adolescentes                           23007\n",
       "investigacion en xochimilco                                                            20571\n",
       "juzgados familiares                                                                    16430\n",
       "investigacion en tlahuac                                                               15255\n",
       "investigacion en agencias de atencion especializadas                                   14408\n",
       "investigacion para la atencion de delitos sexuales                                     13144\n",
       "investigacion de los delitos cometidos por servidores publicos                         13056\n",
       "investigacion en magdalena contreras                                                   10216\n",
       "investigacion en cuajimalpa                                                             9563\n",
       "investigacion para la atencion del delito de robo de vehiculos y transporte             6524\n",
       "investigacion en delitos ambientales y en materia de proteccion urbana                  6033\n",
       "investigacion para la atencion del delito de secuestro                                  5982\n",
       "investigacion en milpa alta                                                             4417\n",
       "investigacion para la atencion de delitos financieros                                   3624\n",
       "investigacion para la atencion del delito de narcomenudeo                               3255\n",
       "direccion general de atencion a vactimas del delito                                     3019\n",
       "juzgados civiles                                                                        1905\n",
       "investigacion para la atencion de asuntos especiales y electorales                      1724\n",
       "agencia central de investigacion                                                         721\n",
       "investigacion para la atencion del delito de trata de personas                           390\n",
       "investigacion para la atencion del delito de homicidio                                   151\n",
       "especializada en la basqueda localizacion e investigacion de personas desaparecidas       18\n",
       "fiscalia delitos electorales                                                              10\n",
       "tlp 1                                                                                      1\n",
       "Name: v_fiscalia, dtype: int64"
      ]
     },
     "execution_count": 53,
     "metadata": {},
     "output_type": "execute_result"
    }
   ],
   "source": [
    "df[\"v_fiscalia\"].value_counts()"
   ]
  },
  {
   "cell_type": "code",
   "execution_count": 54,
   "id": "d20ce94a",
   "metadata": {},
   "outputs": [
    {
     "data": {
      "text/plain": [
       "0                                GRANJAS MODERNAS\n",
       "1         GABRIEL RAMOS MILLÃN SECCIÃN TLACOTAL\n",
       "2                      CONSEJO AGRARISTA MEXICANO\n",
       "3                  DESARROLLO URBANO QUETZALCOATL\n",
       "4                             INFONAVIT IZTACALCO\n",
       "                           ...                   \n",
       "774947                                    ANAHUAC\n",
       "774948                      SANTA CRUZ XOCHITEPEC\n",
       "774949                                 INDUSTRIAL\n",
       "774950                                COSMOPOLITA\n",
       "774951    AEROPUERTO INTERNACIONAL BENITO JUÃREZ\n",
       "Name: v_colonia_hechos, Length: 774952, dtype: object"
      ]
     },
     "execution_count": 54,
     "metadata": {},
     "output_type": "execute_result"
    }
   ],
   "source": [
    "df[\"v_colonia_hechos\"]"
   ]
  },
  {
   "cell_type": "code",
   "execution_count": 55,
   "id": "786428c4",
   "metadata": {},
   "outputs": [],
   "source": [
    "df[\"v_colonia_hechos\"]=df[\"v_colonia_hechos\"].map(lambda x:vacio2(x).replace(\"IÃ\",\"IO\"))"
   ]
  },
  {
   "cell_type": "code",
   "execution_count": 56,
   "id": "6c539759",
   "metadata": {},
   "outputs": [],
   "source": [
    "df[\"v_colonia_hechos\"]=df[\"v_colonia_hechos\"].map(lambda x:clean_text(x.lower()))"
   ]
  },
  {
   "cell_type": "code",
   "execution_count": 57,
   "id": "a90a5ed1",
   "metadata": {},
   "outputs": [
    {
     "data": {
      "text/plain": [
       "centro                                 28706\n",
       "doctores                               16574\n",
       "del valle centro                       12627\n",
       "roma norte                             10390\n",
       "narvarte                                9305\n",
       "                                       ...  \n",
       "san juan tepenahuac                        1\n",
       "iztacalco                                  1\n",
       "belen de las flores seccion turbina        1\n",
       "sector marina                              1\n",
       "milpa los cerros                           1\n",
       "Name: v_colonia_hechos, Length: 1624, dtype: int64"
      ]
     },
     "execution_count": 57,
     "metadata": {},
     "output_type": "execute_result"
    }
   ],
   "source": [
    "df[\"v_colonia_hechos\"].value_counts()"
   ]
  },
  {
   "cell_type": "code",
   "execution_count": 58,
   "id": "62761380",
   "metadata": {},
   "outputs": [
    {
     "data": {
      "text/plain": [
       "0         GAM-6\n",
       "1         IZC-2\n",
       "2         IZP-8\n",
       "3         IZP-9\n",
       "4         CUH-2\n",
       "          ...  \n",
       "774947     MH-1\n",
       "774948    MIL-2\n",
       "774949       H1\n",
       "774950     AZ-4\n",
       "774951      AER\n",
       "Name: v_agencia, Length: 774952, dtype: object"
      ]
     },
     "execution_count": 58,
     "metadata": {},
     "output_type": "execute_result"
    }
   ],
   "source": [
    "df[\"v_agencia\"]"
   ]
  },
  {
   "cell_type": "markdown",
   "id": "fac08f31",
   "metadata": {},
   "source": [
    "# Duplicados"
   ]
  },
  {
   "cell_type": "markdown",
   "id": "d583f450",
   "metadata": {},
   "source": [
    "### Duplicados generales"
   ]
  },
  {
   "cell_type": "code",
   "execution_count": 59,
   "id": "172d4aef",
   "metadata": {},
   "outputs": [
    {
     "data": {
      "text/html": [
       "<div>\n",
       "<style scoped>\n",
       "    .dataframe tbody tr th:only-of-type {\n",
       "        vertical-align: middle;\n",
       "    }\n",
       "\n",
       "    .dataframe tbody tr th {\n",
       "        vertical-align: top;\n",
       "    }\n",
       "\n",
       "    .dataframe thead th {\n",
       "        text-align: right;\n",
       "    }\n",
       "</style>\n",
       "<table border=\"1\" class=\"dataframe\">\n",
       "  <thead>\n",
       "    <tr style=\"text-align: right;\">\n",
       "      <th></th>\n",
       "      <th>c_id</th>\n",
       "      <th>d_ao_hechos</th>\n",
       "      <th>d_mes_hechos</th>\n",
       "      <th>d_fecha_hechos</th>\n",
       "      <th>v_delito</th>\n",
       "      <th>v_categoria_delito</th>\n",
       "      <th>v_fiscalia</th>\n",
       "      <th>v_agencia</th>\n",
       "      <th>v_unidad_investigacion</th>\n",
       "      <th>...</th>\n",
       "      <th>v_alcaldia_hechos</th>\n",
       "      <th>d_fecha_inicio</th>\n",
       "      <th>d_mes_inicio</th>\n",
       "      <th>d_ao_inicio</th>\n",
       "      <th>t_calle_hechos</th>\n",
       "      <th>t_calle_hechos2</th>\n",
       "      <th>c_longitud</th>\n",
       "      <th>c_latitud</th>\n",
       "      <th>c_geopoint</th>\n",
       "    </tr>\n",
       "  </thead>\n",
       "  <tbody>\n",
       "    <tr>\n",
       "      <th>0</th>\n",
       "      <td>0</td>\n",
       "      <td>2016</td>\n",
       "      <td>Enero</td>\n",
       "      <td>2016-01-05 17:00:00</td>\n",
       "      <td>lesiones culposas</td>\n",
       "      <td>delito de bajo impacto</td>\n",
       "      <td>investigacion en gustavo a madero</td>\n",
       "      <td>GAM-6</td>\n",
       "      <td>UI-1CD</td>\n",
       "      <td>...</td>\n",
       "      <td>gustavo a madero</td>\n",
       "      <td>2016-01-05 18:35:37</td>\n",
       "      <td>Enero</td>\n",
       "      <td>2016</td>\n",
       "      <td>san juan de aragon</td>\n",
       "      <td>calle anzar</td>\n",
       "      <td>-99.103527</td>\n",
       "      <td>19.481076</td>\n",
       "      <td>19.4810759998,-99.103527</td>\n",
       "    </tr>\n",
       "    <tr>\n",
       "      <th>1</th>\n",
       "      <td>2</td>\n",
       "      <td>2017</td>\n",
       "      <td>Noviembre</td>\n",
       "      <td>2017-11-01 16:40:00</td>\n",
       "      <td>robo a transeunte en via publica con violencia</td>\n",
       "      <td>robo a transeunte en via publica con y sin vio...</td>\n",
       "      <td>investigacion en iztacalco</td>\n",
       "      <td>IZC-2</td>\n",
       "      <td>UI-1SD</td>\n",
       "      <td>...</td>\n",
       "      <td>iztacalco</td>\n",
       "      <td>2017-11-01 16:56:04</td>\n",
       "      <td>Noviembre</td>\n",
       "      <td>2017</td>\n",
       "      <td>sur 117</td>\n",
       "      <td>oriente 100a</td>\n",
       "      <td>-99.106072</td>\n",
       "      <td>19.395398</td>\n",
       "      <td>19.3953976727,-99.1060723829</td>\n",
       "    </tr>\n",
       "    <tr>\n",
       "      <th>2</th>\n",
       "      <td>3</td>\n",
       "      <td>2015</td>\n",
       "      <td>Diciembre</td>\n",
       "      <td>2015-12-30 20:00:00</td>\n",
       "      <td>fraude</td>\n",
       "      <td>delito de bajo impacto</td>\n",
       "      <td>investigacion en iztapalapa</td>\n",
       "      <td>IZP-8</td>\n",
       "      <td>UI-1CD</td>\n",
       "      <td>...</td>\n",
       "      <td>iztapalapa</td>\n",
       "      <td>2016-01-05 21:12:42</td>\n",
       "      <td>Enero</td>\n",
       "      <td>2016</td>\n",
       "      <td>cuarta cerrada de fresno</td>\n",
       "      <td>encino sin registro del sap</td>\n",
       "      <td>-99.055887</td>\n",
       "      <td>19.322458</td>\n",
       "      <td>19.3224579998,-99.055887</td>\n",
       "    </tr>\n",
       "    <tr>\n",
       "      <th>3</th>\n",
       "      <td>4</td>\n",
       "      <td>2018</td>\n",
       "      <td>Mayo</td>\n",
       "      <td>2018-05-16 16:00:00</td>\n",
       "      <td>robo a repartidor con violencia</td>\n",
       "      <td>robo a repartidor con y sin violencia</td>\n",
       "      <td>investigacion en iztapalapa</td>\n",
       "      <td>IZP-9</td>\n",
       "      <td>UI-2SD</td>\n",
       "      <td>...</td>\n",
       "      <td>iztapalapa</td>\n",
       "      <td>2018-05-22 10:44:45</td>\n",
       "      <td>Mayo</td>\n",
       "      <td>2018</td>\n",
       "      <td>tarasco</td>\n",
       "      <td>zapoteco</td>\n",
       "      <td>-99.042786</td>\n",
       "      <td>19.319141</td>\n",
       "      <td>19.3191405147,-99.0427862526</td>\n",
       "    </tr>\n",
       "    <tr>\n",
       "      <th>4</th>\n",
       "      <td>5</td>\n",
       "      <td>2018</td>\n",
       "      <td>Mayo</td>\n",
       "      <td>2018-05-21 20:40:00</td>\n",
       "      <td>robo a transeunte de celular con violencia</td>\n",
       "      <td>delito de bajo impacto</td>\n",
       "      <td>investigacion en cuauhtemoc</td>\n",
       "      <td>CUH-2</td>\n",
       "      <td>UI-2SD</td>\n",
       "      <td>...</td>\n",
       "      <td>iztacalco</td>\n",
       "      <td>2018-05-22 10:52:18</td>\n",
       "      <td>Mayo</td>\n",
       "      <td>2018</td>\n",
       "      <td>francisco del paso y troncoso</td>\n",
       "      <td>isla</td>\n",
       "      <td>-99.111563</td>\n",
       "      <td>19.386594</td>\n",
       "      <td>19.3865939284,-99.1115626682</td>\n",
       "    </tr>\n",
       "  </tbody>\n",
       "</table>\n",
       "<p>5 rows × 19 columns</p>\n",
       "</div>"
      ],
      "text/plain": [
       "   c_id d_ao_hechos d_mes_hechos       d_fecha_hechos  \\\n",
       "0     0        2016        Enero  2016-01-05 17:00:00   \n",
       "1     2        2017    Noviembre  2017-11-01 16:40:00   \n",
       "2     3        2015    Diciembre  2015-12-30 20:00:00   \n",
       "3     4        2018         Mayo  2018-05-16 16:00:00   \n",
       "4     5        2018         Mayo  2018-05-21 20:40:00   \n",
       "\n",
       "                                         v_delito  \\\n",
       "0                               lesiones culposas   \n",
       "1  robo a transeunte en via publica con violencia   \n",
       "2                                          fraude   \n",
       "3                 robo a repartidor con violencia   \n",
       "4      robo a transeunte de celular con violencia   \n",
       "\n",
       "                                  v_categoria_delito  \\\n",
       "0                             delito de bajo impacto   \n",
       "1  robo a transeunte en via publica con y sin vio...   \n",
       "2                             delito de bajo impacto   \n",
       "3              robo a repartidor con y sin violencia   \n",
       "4                             delito de bajo impacto   \n",
       "\n",
       "                          v_fiscalia v_agencia v_unidad_investigacion  ...  \\\n",
       "0  investigacion en gustavo a madero     GAM-6                 UI-1CD  ...   \n",
       "1         investigacion en iztacalco     IZC-2                 UI-1SD  ...   \n",
       "2        investigacion en iztapalapa     IZP-8                 UI-1CD  ...   \n",
       "3        investigacion en iztapalapa     IZP-9                 UI-2SD  ...   \n",
       "4        investigacion en cuauhtemoc     CUH-2                 UI-2SD  ...   \n",
       "\n",
       "  v_alcaldia_hechos       d_fecha_inicio d_mes_inicio d_ao_inicio  \\\n",
       "0  gustavo a madero  2016-01-05 18:35:37        Enero        2016   \n",
       "1         iztacalco  2017-11-01 16:56:04    Noviembre        2017   \n",
       "2        iztapalapa  2016-01-05 21:12:42        Enero        2016   \n",
       "3        iztapalapa  2018-05-22 10:44:45         Mayo        2018   \n",
       "4         iztacalco  2018-05-22 10:52:18         Mayo        2018   \n",
       "\n",
       "                  t_calle_hechos              t_calle_hechos2 c_longitud  \\\n",
       "0             san juan de aragon                  calle anzar -99.103527   \n",
       "1                        sur 117                 oriente 100a -99.106072   \n",
       "2       cuarta cerrada de fresno  encino sin registro del sap -99.055887   \n",
       "3                        tarasco                     zapoteco -99.042786   \n",
       "4  francisco del paso y troncoso                         isla -99.111563   \n",
       "\n",
       "   c_latitud                    c_geopoint  \n",
       "0  19.481076      19.4810759998,-99.103527  \n",
       "1  19.395398  19.3953976727,-99.1060723829  \n",
       "2  19.322458      19.3224579998,-99.055887  \n",
       "3  19.319141  19.3191405147,-99.0427862526  \n",
       "4  19.386594  19.3865939284,-99.1115626682  \n",
       "\n",
       "[5 rows x 19 columns]"
      ]
     },
     "execution_count": 59,
     "metadata": {},
     "output_type": "execute_result"
    }
   ],
   "source": [
    "df.head()"
   ]
  },
  {
   "cell_type": "code",
   "execution_count": 60,
   "id": "6f976edb",
   "metadata": {},
   "outputs": [],
   "source": [
    "n_rows=df.shape[0]"
   ]
  },
  {
   "cell_type": "code",
   "execution_count": 61,
   "id": "c2147a3b",
   "metadata": {},
   "outputs": [
    {
     "name": "stdout",
     "output_type": "stream",
     "text": [
      "774952\n"
     ]
    }
   ],
   "source": [
    "print(n_rows)"
   ]
  },
  {
   "cell_type": "code",
   "execution_count": 62,
   "id": "91e07c4e",
   "metadata": {},
   "outputs": [
    {
     "data": {
      "text/plain": [
       "0         False\n",
       "1         False\n",
       "2         False\n",
       "3         False\n",
       "4         False\n",
       "          ...  \n",
       "774947    False\n",
       "774948    False\n",
       "774949    False\n",
       "774950    False\n",
       "774951    False\n",
       "Length: 774952, dtype: bool"
      ]
     },
     "execution_count": 62,
     "metadata": {},
     "output_type": "execute_result"
    }
   ],
   "source": [
    "df.duplicated()"
   ]
  },
  {
   "cell_type": "code",
   "execution_count": 63,
   "id": "2d208fd4",
   "metadata": {},
   "outputs": [
    {
     "name": "stdout",
     "output_type": "stream",
     "text": [
      "Número de duplicados: 0\n"
     ]
    }
   ],
   "source": [
    "duplicadog=df.duplicated().sum()\n",
    "print(\"Número de duplicados:\",duplicadog)"
   ]
  },
  {
   "cell_type": "markdown",
   "id": "85233166",
   "metadata": {},
   "source": [
    " No hay duplicados generales"
   ]
  },
  {
   "cell_type": "code",
   "execution_count": 64,
   "id": "f58e7536",
   "metadata": {},
   "outputs": [
    {
     "data": {
      "text/plain": [
       "(774952, 19)"
      ]
     },
     "execution_count": 64,
     "metadata": {},
     "output_type": "execute_result"
    }
   ],
   "source": [
    "df.shape"
   ]
  },
  {
   "cell_type": "code",
   "execution_count": 65,
   "id": "5f9091f4",
   "metadata": {},
   "outputs": [
    {
     "data": {
      "text/plain": [
       "4671"
      ]
     },
     "execution_count": 65,
     "metadata": {},
     "output_type": "execute_result"
    }
   ],
   "source": [
    "df.duplicated(subset=[\"d_fecha_hechos\",\"v_delito\",\"v_alcaldia_hechos\",\"v_categoria_delito\"\n",
    "                     ,\"d_ao_inicio\",\"d_mes_inicio\",\"v_fiscalia\",\"v_unidad_investigacion\",\"v_agencia\"\n",
    "                     ,\"d_ao_hechos\",\"d_mes_hechos\"]).sum()"
   ]
  },
  {
   "cell_type": "code",
   "execution_count": 66,
   "id": "ca86b558",
   "metadata": {},
   "outputs": [
    {
     "data": {
      "text/html": [
       "<div>\n",
       "<style scoped>\n",
       "    .dataframe tbody tr th:only-of-type {\n",
       "        vertical-align: middle;\n",
       "    }\n",
       "\n",
       "    .dataframe tbody tr th {\n",
       "        vertical-align: top;\n",
       "    }\n",
       "\n",
       "    .dataframe thead th {\n",
       "        text-align: right;\n",
       "    }\n",
       "</style>\n",
       "<table border=\"1\" class=\"dataframe\">\n",
       "  <thead>\n",
       "    <tr style=\"text-align: right;\">\n",
       "      <th></th>\n",
       "      <th>c_id</th>\n",
       "      <th>d_ao_hechos</th>\n",
       "      <th>d_mes_hechos</th>\n",
       "      <th>d_fecha_hechos</th>\n",
       "      <th>v_delito</th>\n",
       "      <th>v_categoria_delito</th>\n",
       "      <th>v_fiscalia</th>\n",
       "      <th>v_agencia</th>\n",
       "      <th>v_unidad_investigacion</th>\n",
       "      <th>...</th>\n",
       "      <th>v_alcaldia_hechos</th>\n",
       "      <th>d_fecha_inicio</th>\n",
       "      <th>d_mes_inicio</th>\n",
       "      <th>d_ao_inicio</th>\n",
       "      <th>t_calle_hechos</th>\n",
       "      <th>t_calle_hechos2</th>\n",
       "      <th>c_longitud</th>\n",
       "      <th>c_latitud</th>\n",
       "      <th>c_geopoint</th>\n",
       "    </tr>\n",
       "  </thead>\n",
       "  <tbody>\n",
       "    <tr>\n",
       "      <th>3294</th>\n",
       "      <td>3415</td>\n",
       "      <td>2018</td>\n",
       "      <td>Junio</td>\n",
       "      <td>2018-06-05 12:00:00</td>\n",
       "      <td>fraude</td>\n",
       "      <td>delito de bajo impacto</td>\n",
       "      <td>investigacion en alvaro obregan</td>\n",
       "      <td>AO-3</td>\n",
       "      <td>UI-1CD</td>\n",
       "      <td>...</td>\n",
       "      <td>alvaro obregon</td>\n",
       "      <td>2018-06-05 20:17:28</td>\n",
       "      <td>Junio</td>\n",
       "      <td>2018</td>\n",
       "      <td>se ignora lugar de hechos</td>\n",
       "      <td>vacio</td>\n",
       "      <td>-99.209614</td>\n",
       "      <td>19.320272</td>\n",
       "      <td>19.3202717169,-99.2096137518</td>\n",
       "    </tr>\n",
       "    <tr>\n",
       "      <th>5672</th>\n",
       "      <td>5894</td>\n",
       "      <td>2017</td>\n",
       "      <td>Abril</td>\n",
       "      <td>2017-04-30 12:00:00</td>\n",
       "      <td>fraude</td>\n",
       "      <td>delito de bajo impacto</td>\n",
       "      <td>investigacion para la atencion de delitos fina...</td>\n",
       "      <td>T</td>\n",
       "      <td>UI-1SD</td>\n",
       "      <td>...</td>\n",
       "      <td>tlalpan</td>\n",
       "      <td>2018-01-26 10:43:17</td>\n",
       "      <td>Enero</td>\n",
       "      <td>2018</td>\n",
       "      <td>av insurgentes sur</td>\n",
       "      <td>vacio</td>\n",
       "      <td>-99.184166</td>\n",
       "      <td>19.295434</td>\n",
       "      <td>19.2954335038,-99.184165975</td>\n",
       "    </tr>\n",
       "    <tr>\n",
       "      <th>8078</th>\n",
       "      <td>8415</td>\n",
       "      <td>2017</td>\n",
       "      <td>Julio</td>\n",
       "      <td>2017-07-07 12:00:00</td>\n",
       "      <td>robo de accesorios de auto</td>\n",
       "      <td>delito de bajo impacto</td>\n",
       "      <td>investigacion en benito juarez</td>\n",
       "      <td>BJ-3</td>\n",
       "      <td>UI-1SD</td>\n",
       "      <td>...</td>\n",
       "      <td>benito juarez</td>\n",
       "      <td>2017-07-07 23:28:49</td>\n",
       "      <td>Julio</td>\n",
       "      <td>2017</td>\n",
       "      <td>miguel laurent</td>\n",
       "      <td>vacio</td>\n",
       "      <td>-99.160817</td>\n",
       "      <td>19.374294</td>\n",
       "      <td>19.3742941112,-99.1608171186</td>\n",
       "    </tr>\n",
       "    <tr>\n",
       "      <th>9680</th>\n",
       "      <td>10090</td>\n",
       "      <td>2016</td>\n",
       "      <td>Abril</td>\n",
       "      <td>2016-04-04 12:00:00</td>\n",
       "      <td>discriminacion</td>\n",
       "      <td>delito de bajo impacto</td>\n",
       "      <td>investigacion de los delitos cometidos por ser...</td>\n",
       "      <td>B</td>\n",
       "      <td>UI-3CD</td>\n",
       "      <td>...</td>\n",
       "      <td>cuauhtemoc</td>\n",
       "      <td>2016-04-21 13:53:12</td>\n",
       "      <td>Abril</td>\n",
       "      <td>2016</td>\n",
       "      <td>avenida jose maria izazaga nnmero 89 piso 2</td>\n",
       "      <td>no refiere</td>\n",
       "      <td>-99.136616</td>\n",
       "      <td>19.425717</td>\n",
       "      <td>19.4257168998,-99.1366157</td>\n",
       "    </tr>\n",
       "    <tr>\n",
       "      <th>10861</th>\n",
       "      <td>11323</td>\n",
       "      <td>2016</td>\n",
       "      <td>Abril</td>\n",
       "      <td>2016-04-06 12:00:00</td>\n",
       "      <td>denuncia de hechos</td>\n",
       "      <td>hecho no delictivo</td>\n",
       "      <td>investigacion en alvaro obregan</td>\n",
       "      <td>AO-4</td>\n",
       "      <td>UI-1CD</td>\n",
       "      <td>...</td>\n",
       "      <td>alvaro obregon</td>\n",
       "      <td>2016-04-14 01:47:31</td>\n",
       "      <td>Abril</td>\n",
       "      <td>2016</td>\n",
       "      <td>avenida mexico</td>\n",
       "      <td>vacio</td>\n",
       "      <td>-99.201479</td>\n",
       "      <td>19.339766</td>\n",
       "      <td>19.3397659998,-99.201479</td>\n",
       "    </tr>\n",
       "    <tr>\n",
       "      <th>...</th>\n",
       "      <td>...</td>\n",
       "      <td>...</td>\n",
       "      <td>...</td>\n",
       "      <td>...</td>\n",
       "      <td>...</td>\n",
       "      <td>...</td>\n",
       "      <td>...</td>\n",
       "      <td>...</td>\n",
       "      <td>...</td>\n",
       "      <td>...</td>\n",
       "      <td>...</td>\n",
       "      <td>...</td>\n",
       "      <td>...</td>\n",
       "      <td>...</td>\n",
       "      <td>...</td>\n",
       "      <td>...</td>\n",
       "      <td>...</td>\n",
       "      <td>...</td>\n",
       "      <td>...</td>\n",
       "    </tr>\n",
       "    <tr>\n",
       "      <th>774529</th>\n",
       "      <td>808433</td>\n",
       "      <td>2019</td>\n",
       "      <td>Junio</td>\n",
       "      <td>2019-06-08 19:10:00</td>\n",
       "      <td>robo a negocio sin violencia</td>\n",
       "      <td>delito de bajo impacto</td>\n",
       "      <td>investigacion en venustiano carranza</td>\n",
       "      <td>VC-3</td>\n",
       "      <td>UI-3CD</td>\n",
       "      <td>...</td>\n",
       "      <td>venustiano carranza</td>\n",
       "      <td>2019-06-08 19:58:45</td>\n",
       "      <td>Junio</td>\n",
       "      <td>2019</td>\n",
       "      <td>union</td>\n",
       "      <td>vacio</td>\n",
       "      <td>-99.12049</td>\n",
       "      <td>19.425305</td>\n",
       "      <td>19.4253045993,-99.1204903002</td>\n",
       "    </tr>\n",
       "    <tr>\n",
       "      <th>774608</th>\n",
       "      <td>808515</td>\n",
       "      <td>2018</td>\n",
       "      <td>Diciembre</td>\n",
       "      <td>2018-12-19 12:00:00</td>\n",
       "      <td>fraude</td>\n",
       "      <td>delito de bajo impacto</td>\n",
       "      <td>investigacion en benito juarez</td>\n",
       "      <td>BJ-1</td>\n",
       "      <td>UI-1SD</td>\n",
       "      <td>...</td>\n",
       "      <td>benito juarez</td>\n",
       "      <td>2019-01-27 22:45:42</td>\n",
       "      <td>Enero</td>\n",
       "      <td>2019</td>\n",
       "      <td>miguel laurent</td>\n",
       "      <td>san francisco</td>\n",
       "      <td>-99.174338</td>\n",
       "      <td>19.377269</td>\n",
       "      <td>19.37726925,-99.17433826</td>\n",
       "    </tr>\n",
       "    <tr>\n",
       "      <th>774767</th>\n",
       "      <td>808675</td>\n",
       "      <td>2017</td>\n",
       "      <td>Septiembre</td>\n",
       "      <td>2017-09-19 13:15:00</td>\n",
       "      <td>fraude</td>\n",
       "      <td>delito de bajo impacto</td>\n",
       "      <td>investigacion en benito juarez</td>\n",
       "      <td>BJ-2</td>\n",
       "      <td>UI-3CD</td>\n",
       "      <td>...</td>\n",
       "      <td>benito juarez</td>\n",
       "      <td>2017-09-28 17:28:40</td>\n",
       "      <td>Septiembre</td>\n",
       "      <td>2017</td>\n",
       "      <td>avenida coyoacan</td>\n",
       "      <td>vacio</td>\n",
       "      <td>-99.166158</td>\n",
       "      <td>19.389588</td>\n",
       "      <td>19.3895879181,-99.1661581972</td>\n",
       "    </tr>\n",
       "    <tr>\n",
       "      <th>774875</th>\n",
       "      <td>808791</td>\n",
       "      <td>2019</td>\n",
       "      <td>Enero</td>\n",
       "      <td>2019-01-17 12:00:00</td>\n",
       "      <td>fraude</td>\n",
       "      <td>delito de bajo impacto</td>\n",
       "      <td>investigacion en benito juarez</td>\n",
       "      <td>BJ-1</td>\n",
       "      <td>UI-1SD</td>\n",
       "      <td>...</td>\n",
       "      <td>benito juarez</td>\n",
       "      <td>2019-02-10 18:37:00</td>\n",
       "      <td>Febrero</td>\n",
       "      <td>2019</td>\n",
       "      <td>xola 535 piso 19</td>\n",
       "      <td>vacio</td>\n",
       "      <td>-99.165842</td>\n",
       "      <td>19.397343</td>\n",
       "      <td>19.3973428159,-99.1658417416</td>\n",
       "    </tr>\n",
       "    <tr>\n",
       "      <th>774923</th>\n",
       "      <td>808842</td>\n",
       "      <td>2018</td>\n",
       "      <td>Julio</td>\n",
       "      <td>2018-07-26 19:00:00</td>\n",
       "      <td>contra funcionarios publicos</td>\n",
       "      <td>delito de bajo impacto</td>\n",
       "      <td>investigacion de los delitos cometidos por ser...</td>\n",
       "      <td>B</td>\n",
       "      <td>UI-3CD</td>\n",
       "      <td>...</td>\n",
       "      <td>cuauhtemoc</td>\n",
       "      <td>2018-07-28 14:47:51</td>\n",
       "      <td>Julio</td>\n",
       "      <td>2018</td>\n",
       "      <td>juzgado tercero de proceso oral en materia fam...</td>\n",
       "      <td>vacio</td>\n",
       "      <td>-99.149965</td>\n",
       "      <td>19.421908</td>\n",
       "      <td>19.4219082133,-99.1499650711</td>\n",
       "    </tr>\n",
       "  </tbody>\n",
       "</table>\n",
       "<p>4671 rows × 19 columns</p>\n",
       "</div>"
      ],
      "text/plain": [
       "          c_id d_ao_hechos d_mes_hechos       d_fecha_hechos  \\\n",
       "3294      3415        2018        Junio  2018-06-05 12:00:00   \n",
       "5672      5894        2017        Abril  2017-04-30 12:00:00   \n",
       "8078      8415        2017        Julio  2017-07-07 12:00:00   \n",
       "9680     10090        2016        Abril  2016-04-04 12:00:00   \n",
       "10861    11323        2016        Abril  2016-04-06 12:00:00   \n",
       "...        ...         ...          ...                  ...   \n",
       "774529  808433        2019        Junio  2019-06-08 19:10:00   \n",
       "774608  808515        2018    Diciembre  2018-12-19 12:00:00   \n",
       "774767  808675        2017   Septiembre  2017-09-19 13:15:00   \n",
       "774875  808791        2019        Enero  2019-01-17 12:00:00   \n",
       "774923  808842        2018        Julio  2018-07-26 19:00:00   \n",
       "\n",
       "                            v_delito      v_categoria_delito  \\\n",
       "3294                          fraude  delito de bajo impacto   \n",
       "5672                          fraude  delito de bajo impacto   \n",
       "8078      robo de accesorios de auto  delito de bajo impacto   \n",
       "9680                  discriminacion  delito de bajo impacto   \n",
       "10861             denuncia de hechos      hecho no delictivo   \n",
       "...                              ...                     ...   \n",
       "774529  robo a negocio sin violencia  delito de bajo impacto   \n",
       "774608                        fraude  delito de bajo impacto   \n",
       "774767                        fraude  delito de bajo impacto   \n",
       "774875                        fraude  delito de bajo impacto   \n",
       "774923  contra funcionarios publicos  delito de bajo impacto   \n",
       "\n",
       "                                               v_fiscalia v_agencia  \\\n",
       "3294                      investigacion en alvaro obregan      AO-3   \n",
       "5672    investigacion para la atencion de delitos fina...         T   \n",
       "8078                       investigacion en benito juarez      BJ-3   \n",
       "9680    investigacion de los delitos cometidos por ser...         B   \n",
       "10861                     investigacion en alvaro obregan      AO-4   \n",
       "...                                                   ...       ...   \n",
       "774529               investigacion en venustiano carranza      VC-3   \n",
       "774608                     investigacion en benito juarez      BJ-1   \n",
       "774767                     investigacion en benito juarez      BJ-2   \n",
       "774875                     investigacion en benito juarez      BJ-1   \n",
       "774923  investigacion de los delitos cometidos por ser...         B   \n",
       "\n",
       "       v_unidad_investigacion  ...    v_alcaldia_hechos       d_fecha_inicio  \\\n",
       "3294                   UI-1CD  ...       alvaro obregon  2018-06-05 20:17:28   \n",
       "5672                   UI-1SD  ...              tlalpan  2018-01-26 10:43:17   \n",
       "8078                   UI-1SD  ...        benito juarez  2017-07-07 23:28:49   \n",
       "9680                   UI-3CD  ...           cuauhtemoc  2016-04-21 13:53:12   \n",
       "10861                  UI-1CD  ...       alvaro obregon  2016-04-14 01:47:31   \n",
       "...                       ...  ...                  ...                  ...   \n",
       "774529                 UI-3CD  ...  venustiano carranza  2019-06-08 19:58:45   \n",
       "774608                 UI-1SD  ...        benito juarez  2019-01-27 22:45:42   \n",
       "774767                 UI-3CD  ...        benito juarez  2017-09-28 17:28:40   \n",
       "774875                 UI-1SD  ...        benito juarez  2019-02-10 18:37:00   \n",
       "774923                 UI-3CD  ...           cuauhtemoc  2018-07-28 14:47:51   \n",
       "\n",
       "       d_mes_inicio d_ao_inicio  \\\n",
       "3294          Junio        2018   \n",
       "5672          Enero        2018   \n",
       "8078          Julio        2017   \n",
       "9680          Abril        2016   \n",
       "10861         Abril        2016   \n",
       "...             ...         ...   \n",
       "774529        Junio        2019   \n",
       "774608        Enero        2019   \n",
       "774767   Septiembre        2017   \n",
       "774875      Febrero        2019   \n",
       "774923        Julio        2018   \n",
       "\n",
       "                                           t_calle_hechos t_calle_hechos2  \\\n",
       "3294                            se ignora lugar de hechos           vacio   \n",
       "5672                                   av insurgentes sur           vacio   \n",
       "8078                                       miguel laurent           vacio   \n",
       "9680          avenida jose maria izazaga nnmero 89 piso 2      no refiere   \n",
       "10861                                      avenida mexico           vacio   \n",
       "...                                                   ...             ...   \n",
       "774529                                              union           vacio   \n",
       "774608                                     miguel laurent   san francisco   \n",
       "774767                                   avenida coyoacan           vacio   \n",
       "774875                                   xola 535 piso 19           vacio   \n",
       "774923  juzgado tercero de proceso oral en materia fam...           vacio   \n",
       "\n",
       "       c_longitud  c_latitud                    c_geopoint  \n",
       "3294   -99.209614  19.320272  19.3202717169,-99.2096137518  \n",
       "5672   -99.184166  19.295434   19.2954335038,-99.184165975  \n",
       "8078   -99.160817  19.374294  19.3742941112,-99.1608171186  \n",
       "9680   -99.136616  19.425717     19.4257168998,-99.1366157  \n",
       "10861  -99.201479  19.339766      19.3397659998,-99.201479  \n",
       "...           ...        ...                           ...  \n",
       "774529  -99.12049  19.425305  19.4253045993,-99.1204903002  \n",
       "774608 -99.174338  19.377269      19.37726925,-99.17433826  \n",
       "774767 -99.166158  19.389588  19.3895879181,-99.1661581972  \n",
       "774875 -99.165842  19.397343  19.3973428159,-99.1658417416  \n",
       "774923 -99.149965  19.421908  19.4219082133,-99.1499650711  \n",
       "\n",
       "[4671 rows x 19 columns]"
      ]
     },
     "execution_count": 66,
     "metadata": {},
     "output_type": "execute_result"
    }
   ],
   "source": [
    "df[df.duplicated(subset=[\"d_fecha_hechos\",\"v_delito\",\"v_alcaldia_hechos\",\"v_categoria_delito\"\n",
    "                     ,\"d_ao_inicio\",\"d_mes_inicio\",\"v_fiscalia\",\"v_unidad_investigacion\",\"v_agencia\"\n",
    "                     ,\"d_ao_hechos\",\"d_mes_hechos\"])]"
   ]
  },
  {
   "cell_type": "code",
   "execution_count": 67,
   "id": "abf9d2ff",
   "metadata": {},
   "outputs": [
    {
     "data": {
      "text/plain": [
       "c_id                      0\n",
       "d_ao_hechos               0\n",
       "d_mes_hechos              0\n",
       "d_fecha_hechos            0\n",
       "v_delito                  0\n",
       "v_categoria_delito        0\n",
       "v_fiscalia                0\n",
       "v_agencia                 0\n",
       "v_unidad_investigacion    0\n",
       "v_colonia_hechos          0\n",
       "v_alcaldia_hechos         0\n",
       "d_fecha_inicio            0\n",
       "d_mes_inicio              0\n",
       "d_ao_inicio               0\n",
       "t_calle_hechos            0\n",
       "t_calle_hechos2           0\n",
       "c_longitud                1\n",
       "c_latitud                 0\n",
       "c_geopoint                0\n",
       "dtype: int64"
      ]
     },
     "execution_count": 67,
     "metadata": {},
     "output_type": "execute_result"
    }
   ],
   "source": [
    "df.isnull().sum()"
   ]
  },
  {
   "cell_type": "code",
   "execution_count": 68,
   "id": "ee529311",
   "metadata": {},
   "outputs": [],
   "source": [
    "dfcopy2=df.copy()"
   ]
  },
  {
   "cell_type": "code",
   "execution_count": 69,
   "id": "112a9f47",
   "metadata": {},
   "outputs": [
    {
     "data": {
      "text/html": [
       "<div>\n",
       "<style scoped>\n",
       "    .dataframe tbody tr th:only-of-type {\n",
       "        vertical-align: middle;\n",
       "    }\n",
       "\n",
       "    .dataframe tbody tr th {\n",
       "        vertical-align: top;\n",
       "    }\n",
       "\n",
       "    .dataframe thead th {\n",
       "        text-align: right;\n",
       "    }\n",
       "</style>\n",
       "<table border=\"1\" class=\"dataframe\">\n",
       "  <thead>\n",
       "    <tr style=\"text-align: right;\">\n",
       "      <th></th>\n",
       "      <th>c_id</th>\n",
       "      <th>d_ao_hechos</th>\n",
       "      <th>d_mes_hechos</th>\n",
       "      <th>d_fecha_hechos</th>\n",
       "      <th>v_delito</th>\n",
       "      <th>v_categoria_delito</th>\n",
       "      <th>v_fiscalia</th>\n",
       "      <th>v_agencia</th>\n",
       "      <th>v_unidad_investigacion</th>\n",
       "      <th>...</th>\n",
       "      <th>v_alcaldia_hechos</th>\n",
       "      <th>d_fecha_inicio</th>\n",
       "      <th>d_mes_inicio</th>\n",
       "      <th>d_ao_inicio</th>\n",
       "      <th>t_calle_hechos</th>\n",
       "      <th>t_calle_hechos2</th>\n",
       "      <th>c_longitud</th>\n",
       "      <th>c_latitud</th>\n",
       "      <th>c_geopoint</th>\n",
       "    </tr>\n",
       "  </thead>\n",
       "  <tbody>\n",
       "    <tr>\n",
       "      <th>0</th>\n",
       "      <td>0</td>\n",
       "      <td>2016</td>\n",
       "      <td>Enero</td>\n",
       "      <td>2016-01-05 17:00:00</td>\n",
       "      <td>lesiones culposas</td>\n",
       "      <td>delito de bajo impacto</td>\n",
       "      <td>investigacion en gustavo a madero</td>\n",
       "      <td>GAM-6</td>\n",
       "      <td>UI-1CD</td>\n",
       "      <td>...</td>\n",
       "      <td>gustavo a madero</td>\n",
       "      <td>2016-01-05 18:35:37</td>\n",
       "      <td>Enero</td>\n",
       "      <td>2016</td>\n",
       "      <td>san juan de aragon</td>\n",
       "      <td>calle anzar</td>\n",
       "      <td>-99.103527</td>\n",
       "      <td>19.481076</td>\n",
       "      <td>19.4810759998,-99.103527</td>\n",
       "    </tr>\n",
       "    <tr>\n",
       "      <th>1</th>\n",
       "      <td>2</td>\n",
       "      <td>2017</td>\n",
       "      <td>Noviembre</td>\n",
       "      <td>2017-11-01 16:40:00</td>\n",
       "      <td>robo a transeunte en via publica con violencia</td>\n",
       "      <td>robo a transeunte en via publica con y sin vio...</td>\n",
       "      <td>investigacion en iztacalco</td>\n",
       "      <td>IZC-2</td>\n",
       "      <td>UI-1SD</td>\n",
       "      <td>...</td>\n",
       "      <td>iztacalco</td>\n",
       "      <td>2017-11-01 16:56:04</td>\n",
       "      <td>Noviembre</td>\n",
       "      <td>2017</td>\n",
       "      <td>sur 117</td>\n",
       "      <td>oriente 100a</td>\n",
       "      <td>-99.106072</td>\n",
       "      <td>19.395398</td>\n",
       "      <td>19.3953976727,-99.1060723829</td>\n",
       "    </tr>\n",
       "    <tr>\n",
       "      <th>2</th>\n",
       "      <td>3</td>\n",
       "      <td>2015</td>\n",
       "      <td>Diciembre</td>\n",
       "      <td>2015-12-30 20:00:00</td>\n",
       "      <td>fraude</td>\n",
       "      <td>delito de bajo impacto</td>\n",
       "      <td>investigacion en iztapalapa</td>\n",
       "      <td>IZP-8</td>\n",
       "      <td>UI-1CD</td>\n",
       "      <td>...</td>\n",
       "      <td>iztapalapa</td>\n",
       "      <td>2016-01-05 21:12:42</td>\n",
       "      <td>Enero</td>\n",
       "      <td>2016</td>\n",
       "      <td>cuarta cerrada de fresno</td>\n",
       "      <td>encino sin registro del sap</td>\n",
       "      <td>-99.055887</td>\n",
       "      <td>19.322458</td>\n",
       "      <td>19.3224579998,-99.055887</td>\n",
       "    </tr>\n",
       "    <tr>\n",
       "      <th>3</th>\n",
       "      <td>4</td>\n",
       "      <td>2018</td>\n",
       "      <td>Mayo</td>\n",
       "      <td>2018-05-16 16:00:00</td>\n",
       "      <td>robo a repartidor con violencia</td>\n",
       "      <td>robo a repartidor con y sin violencia</td>\n",
       "      <td>investigacion en iztapalapa</td>\n",
       "      <td>IZP-9</td>\n",
       "      <td>UI-2SD</td>\n",
       "      <td>...</td>\n",
       "      <td>iztapalapa</td>\n",
       "      <td>2018-05-22 10:44:45</td>\n",
       "      <td>Mayo</td>\n",
       "      <td>2018</td>\n",
       "      <td>tarasco</td>\n",
       "      <td>zapoteco</td>\n",
       "      <td>-99.042786</td>\n",
       "      <td>19.319141</td>\n",
       "      <td>19.3191405147,-99.0427862526</td>\n",
       "    </tr>\n",
       "    <tr>\n",
       "      <th>4</th>\n",
       "      <td>5</td>\n",
       "      <td>2018</td>\n",
       "      <td>Mayo</td>\n",
       "      <td>2018-05-21 20:40:00</td>\n",
       "      <td>robo a transeunte de celular con violencia</td>\n",
       "      <td>delito de bajo impacto</td>\n",
       "      <td>investigacion en cuauhtemoc</td>\n",
       "      <td>CUH-2</td>\n",
       "      <td>UI-2SD</td>\n",
       "      <td>...</td>\n",
       "      <td>iztacalco</td>\n",
       "      <td>2018-05-22 10:52:18</td>\n",
       "      <td>Mayo</td>\n",
       "      <td>2018</td>\n",
       "      <td>francisco del paso y troncoso</td>\n",
       "      <td>isla</td>\n",
       "      <td>-99.111563</td>\n",
       "      <td>19.386594</td>\n",
       "      <td>19.3865939284,-99.1115626682</td>\n",
       "    </tr>\n",
       "    <tr>\n",
       "      <th>...</th>\n",
       "      <td>...</td>\n",
       "      <td>...</td>\n",
       "      <td>...</td>\n",
       "      <td>...</td>\n",
       "      <td>...</td>\n",
       "      <td>...</td>\n",
       "      <td>...</td>\n",
       "      <td>...</td>\n",
       "      <td>...</td>\n",
       "      <td>...</td>\n",
       "      <td>...</td>\n",
       "      <td>...</td>\n",
       "      <td>...</td>\n",
       "      <td>...</td>\n",
       "      <td>...</td>\n",
       "      <td>...</td>\n",
       "      <td>...</td>\n",
       "      <td>...</td>\n",
       "      <td>...</td>\n",
       "    </tr>\n",
       "    <tr>\n",
       "      <th>774947</th>\n",
       "      <td>808866</td>\n",
       "      <td>2018</td>\n",
       "      <td>Julio</td>\n",
       "      <td>2018-07-09 22:30:00</td>\n",
       "      <td>robo a transeunte en via publica con violencia</td>\n",
       "      <td>robo a transeunte en via publica con y sin vio...</td>\n",
       "      <td>investigacion en miguel hidalgo</td>\n",
       "      <td>MH-1</td>\n",
       "      <td>UI-1SD</td>\n",
       "      <td>...</td>\n",
       "      <td>miguel hidalgo</td>\n",
       "      <td>2018-07-10 18:24:33</td>\n",
       "      <td>Julio</td>\n",
       "      <td>2018</td>\n",
       "      <td>lago alberto</td>\n",
       "      <td>lago itzeo</td>\n",
       "      <td>-99.182018</td>\n",
       "      <td>19.439418</td>\n",
       "      <td>19.439418014,-99.1820184667</td>\n",
       "    </tr>\n",
       "    <tr>\n",
       "      <th>774948</th>\n",
       "      <td>808867</td>\n",
       "      <td>2018</td>\n",
       "      <td>Julio</td>\n",
       "      <td>2018-07-29 05:00:00</td>\n",
       "      <td>violencia familiar</td>\n",
       "      <td>delito de bajo impacto</td>\n",
       "      <td>investigacion en milpa alta</td>\n",
       "      <td>MIL-2</td>\n",
       "      <td>UI-1CD</td>\n",
       "      <td>...</td>\n",
       "      <td>xochimilco</td>\n",
       "      <td>2018-07-29 12:37:27</td>\n",
       "      <td>Julio</td>\n",
       "      <td>2018</td>\n",
       "      <td>callejon morelos</td>\n",
       "      <td>vacio</td>\n",
       "      <td>-99.134738</td>\n",
       "      <td>19.254935</td>\n",
       "      <td>19.2549354998,-99.1347381</td>\n",
       "    </tr>\n",
       "    <tr>\n",
       "      <th>774949</th>\n",
       "      <td>808868</td>\n",
       "      <td>2019</td>\n",
       "      <td>Febrero</td>\n",
       "      <td>2019-02-14 19:00:00</td>\n",
       "      <td>lesiones intencionales por arma de fuego</td>\n",
       "      <td>lesiones dolosas por disparo de arma de fuego</td>\n",
       "      <td>investigacion en miguel hidalgo</td>\n",
       "      <td>H1</td>\n",
       "      <td>UI-1SD</td>\n",
       "      <td>...</td>\n",
       "      <td>gustavo a madero</td>\n",
       "      <td>2019-02-15 12:50:00</td>\n",
       "      <td>Febrero</td>\n",
       "      <td>2019</td>\n",
       "      <td>calz de los misterios</td>\n",
       "      <td>vacio</td>\n",
       "      <td>-99.122943</td>\n",
       "      <td>19.473867</td>\n",
       "      <td>19.473866796,-99.1229431996</td>\n",
       "    </tr>\n",
       "    <tr>\n",
       "      <th>774950</th>\n",
       "      <td>808869</td>\n",
       "      <td>2019</td>\n",
       "      <td>Febrero</td>\n",
       "      <td>2019-02-15 10:00:00</td>\n",
       "      <td>privacion de la libertad personal</td>\n",
       "      <td>delito de bajo impacto</td>\n",
       "      <td>investigacion en azcapotzalco</td>\n",
       "      <td>AZ-4</td>\n",
       "      <td>UI-1SD</td>\n",
       "      <td>...</td>\n",
       "      <td>azcapotzalco</td>\n",
       "      <td>2019-02-15 13:04:00</td>\n",
       "      <td>Febrero</td>\n",
       "      <td>2019</td>\n",
       "      <td>cerdena</td>\n",
       "      <td>vacio</td>\n",
       "      <td>-99.163384</td>\n",
       "      <td>19.473593</td>\n",
       "      <td>19.4735930736,-99.163384042</td>\n",
       "    </tr>\n",
       "    <tr>\n",
       "      <th>774951</th>\n",
       "      <td>808870</td>\n",
       "      <td>2017</td>\n",
       "      <td>Abril</td>\n",
       "      <td>2017-04-01 10:00:00</td>\n",
       "      <td>abuso de confianza</td>\n",
       "      <td>delito de bajo impacto</td>\n",
       "      <td>investigacion en agencias de atencion especial...</td>\n",
       "      <td>AER</td>\n",
       "      <td>UI-1SD</td>\n",
       "      <td>...</td>\n",
       "      <td>venustiano carranza</td>\n",
       "      <td>2017-05-26 17:04:07</td>\n",
       "      <td>Mayo</td>\n",
       "      <td>2017</td>\n",
       "      <td>cap aviador carlos leon</td>\n",
       "      <td>vacio</td>\n",
       "      <td>-99.083974</td>\n",
       "      <td>19.435153</td>\n",
       "      <td>19.4351530369,-99.0839742938</td>\n",
       "    </tr>\n",
       "  </tbody>\n",
       "</table>\n",
       "<p>774952 rows × 19 columns</p>\n",
       "</div>"
      ],
      "text/plain": [
       "          c_id d_ao_hechos d_mes_hechos       d_fecha_hechos  \\\n",
       "0            0        2016        Enero  2016-01-05 17:00:00   \n",
       "1            2        2017    Noviembre  2017-11-01 16:40:00   \n",
       "2            3        2015    Diciembre  2015-12-30 20:00:00   \n",
       "3            4        2018         Mayo  2018-05-16 16:00:00   \n",
       "4            5        2018         Mayo  2018-05-21 20:40:00   \n",
       "...        ...         ...          ...                  ...   \n",
       "774947  808866        2018        Julio  2018-07-09 22:30:00   \n",
       "774948  808867        2018        Julio  2018-07-29 05:00:00   \n",
       "774949  808868        2019      Febrero  2019-02-14 19:00:00   \n",
       "774950  808869        2019      Febrero  2019-02-15 10:00:00   \n",
       "774951  808870        2017        Abril  2017-04-01 10:00:00   \n",
       "\n",
       "                                              v_delito  \\\n",
       "0                                    lesiones culposas   \n",
       "1       robo a transeunte en via publica con violencia   \n",
       "2                                               fraude   \n",
       "3                      robo a repartidor con violencia   \n",
       "4           robo a transeunte de celular con violencia   \n",
       "...                                                ...   \n",
       "774947  robo a transeunte en via publica con violencia   \n",
       "774948                              violencia familiar   \n",
       "774949        lesiones intencionales por arma de fuego   \n",
       "774950               privacion de la libertad personal   \n",
       "774951                              abuso de confianza   \n",
       "\n",
       "                                       v_categoria_delito  \\\n",
       "0                                  delito de bajo impacto   \n",
       "1       robo a transeunte en via publica con y sin vio...   \n",
       "2                                  delito de bajo impacto   \n",
       "3                   robo a repartidor con y sin violencia   \n",
       "4                                  delito de bajo impacto   \n",
       "...                                                   ...   \n",
       "774947  robo a transeunte en via publica con y sin vio...   \n",
       "774948                             delito de bajo impacto   \n",
       "774949      lesiones dolosas por disparo de arma de fuego   \n",
       "774950                             delito de bajo impacto   \n",
       "774951                             delito de bajo impacto   \n",
       "\n",
       "                                               v_fiscalia v_agencia  \\\n",
       "0                       investigacion en gustavo a madero     GAM-6   \n",
       "1                              investigacion en iztacalco     IZC-2   \n",
       "2                             investigacion en iztapalapa     IZP-8   \n",
       "3                             investigacion en iztapalapa     IZP-9   \n",
       "4                             investigacion en cuauhtemoc     CUH-2   \n",
       "...                                                   ...       ...   \n",
       "774947                    investigacion en miguel hidalgo      MH-1   \n",
       "774948                        investigacion en milpa alta     MIL-2   \n",
       "774949                    investigacion en miguel hidalgo        H1   \n",
       "774950                      investigacion en azcapotzalco      AZ-4   \n",
       "774951  investigacion en agencias de atencion especial...       AER   \n",
       "\n",
       "       v_unidad_investigacion  ...    v_alcaldia_hechos       d_fecha_inicio  \\\n",
       "0                      UI-1CD  ...     gustavo a madero  2016-01-05 18:35:37   \n",
       "1                      UI-1SD  ...            iztacalco  2017-11-01 16:56:04   \n",
       "2                      UI-1CD  ...           iztapalapa  2016-01-05 21:12:42   \n",
       "3                      UI-2SD  ...           iztapalapa  2018-05-22 10:44:45   \n",
       "4                      UI-2SD  ...            iztacalco  2018-05-22 10:52:18   \n",
       "...                       ...  ...                  ...                  ...   \n",
       "774947                 UI-1SD  ...       miguel hidalgo  2018-07-10 18:24:33   \n",
       "774948                 UI-1CD  ...           xochimilco  2018-07-29 12:37:27   \n",
       "774949                 UI-1SD  ...     gustavo a madero  2019-02-15 12:50:00   \n",
       "774950                 UI-1SD  ...         azcapotzalco  2019-02-15 13:04:00   \n",
       "774951                 UI-1SD  ...  venustiano carranza  2017-05-26 17:04:07   \n",
       "\n",
       "       d_mes_inicio d_ao_inicio                 t_calle_hechos  \\\n",
       "0             Enero        2016             san juan de aragon   \n",
       "1         Noviembre        2017                        sur 117   \n",
       "2             Enero        2016       cuarta cerrada de fresno   \n",
       "3              Mayo        2018                        tarasco   \n",
       "4              Mayo        2018  francisco del paso y troncoso   \n",
       "...             ...         ...                            ...   \n",
       "774947        Julio        2018                   lago alberto   \n",
       "774948        Julio        2018               callejon morelos   \n",
       "774949      Febrero        2019          calz de los misterios   \n",
       "774950      Febrero        2019                        cerdena   \n",
       "774951         Mayo        2017        cap aviador carlos leon   \n",
       "\n",
       "                    t_calle_hechos2 c_longitud  c_latitud  \\\n",
       "0                       calle anzar -99.103527  19.481076   \n",
       "1                      oriente 100a -99.106072  19.395398   \n",
       "2       encino sin registro del sap -99.055887  19.322458   \n",
       "3                          zapoteco -99.042786  19.319141   \n",
       "4                              isla -99.111563  19.386594   \n",
       "...                             ...        ...        ...   \n",
       "774947                   lago itzeo -99.182018  19.439418   \n",
       "774948                        vacio -99.134738  19.254935   \n",
       "774949                        vacio -99.122943  19.473867   \n",
       "774950                        vacio -99.163384  19.473593   \n",
       "774951                        vacio -99.083974  19.435153   \n",
       "\n",
       "                          c_geopoint  \n",
       "0           19.4810759998,-99.103527  \n",
       "1       19.3953976727,-99.1060723829  \n",
       "2           19.3224579998,-99.055887  \n",
       "3       19.3191405147,-99.0427862526  \n",
       "4       19.3865939284,-99.1115626682  \n",
       "...                              ...  \n",
       "774947   19.439418014,-99.1820184667  \n",
       "774948     19.2549354998,-99.1347381  \n",
       "774949   19.473866796,-99.1229431996  \n",
       "774950   19.4735930736,-99.163384042  \n",
       "774951  19.4351530369,-99.0839742938  \n",
       "\n",
       "[774952 rows x 19 columns]"
      ]
     },
     "execution_count": 69,
     "metadata": {},
     "output_type": "execute_result"
    }
   ],
   "source": [
    "dfcopy2"
   ]
  },
  {
   "cell_type": "code",
   "execution_count": 70,
   "id": "a40c655a",
   "metadata": {},
   "outputs": [],
   "source": [
    "df=df.drop_duplicates(subset=[\"d_fecha_hechos\",\"v_delito\",\"v_alcaldia_hechos\",\"v_categoria_delito\"\n",
    "                     ,\"d_ao_inicio\",\"d_mes_inicio\",\"v_fiscalia\",\"v_unidad_investigacion\",\"v_agencia\"\n",
    "                     ,\"d_ao_hechos\",\"d_mes_hechos\"],keep=\"last\")"
   ]
  },
  {
   "cell_type": "code",
   "execution_count": 71,
   "id": "cb00333e",
   "metadata": {},
   "outputs": [],
   "source": [
    "n_rows2 =df.shape[0]"
   ]
  },
  {
   "cell_type": "code",
   "execution_count": 72,
   "id": "3de6fb23",
   "metadata": {},
   "outputs": [
    {
     "name": "stdout",
     "output_type": "stream",
     "text": [
      "770281\n"
     ]
    }
   ],
   "source": [
    "print(n_rows2)"
   ]
  },
  {
   "cell_type": "code",
   "execution_count": 73,
   "id": "0e2c3a39",
   "metadata": {},
   "outputs": [
    {
     "data": {
      "text/plain": [
       "4671"
      ]
     },
     "execution_count": 73,
     "metadata": {},
     "output_type": "execute_result"
    }
   ],
   "source": [
    "n_rows-n_rows2"
   ]
  },
  {
   "cell_type": "code",
   "execution_count": 74,
   "id": "16d2ccd1",
   "metadata": {},
   "outputs": [
    {
     "data": {
      "text/plain": [
       "(770281, 19)"
      ]
     },
     "execution_count": 74,
     "metadata": {},
     "output_type": "execute_result"
    }
   ],
   "source": [
    "df.shape"
   ]
  },
  {
   "cell_type": "markdown",
   "id": "659cd2a6",
   "metadata": {},
   "source": [
    "# Completitud"
   ]
  },
  {
   "cell_type": "code",
   "execution_count": 75,
   "id": "e1ca4eeb",
   "metadata": {},
   "outputs": [
    {
     "data": {
      "text/plain": [
       "c_id                      0\n",
       "d_ao_hechos               0\n",
       "d_mes_hechos              0\n",
       "d_fecha_hechos            0\n",
       "v_delito                  0\n",
       "v_categoria_delito        0\n",
       "v_fiscalia                0\n",
       "v_agencia                 0\n",
       "v_unidad_investigacion    0\n",
       "v_colonia_hechos          0\n",
       "v_alcaldia_hechos         0\n",
       "d_fecha_inicio            0\n",
       "d_mes_inicio              0\n",
       "d_ao_inicio               0\n",
       "t_calle_hechos            0\n",
       "t_calle_hechos2           0\n",
       "c_longitud                1\n",
       "c_latitud                 0\n",
       "c_geopoint                0\n",
       "dtype: int64"
      ]
     },
     "execution_count": 75,
     "metadata": {},
     "output_type": "execute_result"
    }
   ],
   "source": [
    "df.isnull().sum(axis=0)"
   ]
  },
  {
   "cell_type": "code",
   "execution_count": 76,
   "id": "63e7dbe0",
   "metadata": {},
   "outputs": [
    {
     "data": {
      "text/plain": [
       "<AxesSubplot:>"
      ]
     },
     "execution_count": 76,
     "metadata": {},
     "output_type": "execute_result"
    },
    {
     "data": {
      "image/png": "[encoded data removed]",
      "text/plain": [
       "<Figure size 1800x720 with 2 Axes>"
      ]
     },
     "metadata": {
      "needs_background": "light"
     },
     "output_type": "display_data"
    }
   ],
   "source": [
    "import missingno as msno\n",
    "msno.matrix(df.iloc[:, :30])"
   ]
  },
  {
   "cell_type": "markdown",
   "id": "f34c4112",
   "metadata": {},
   "source": [
    "Se observa que no tiene valores nulos, solo los NAN que converti en t_calle_hechos2, pero estos no se ven reflejados, solo hay 1 en longitud "
   ]
  },
  {
   "cell_type": "code",
   "execution_count": 77,
   "id": "47371ff5",
   "metadata": {},
   "outputs": [],
   "source": [
    "comple=pd.DataFrame(df.isnull().sum())"
   ]
  },
  {
   "cell_type": "code",
   "execution_count": 78,
   "id": "570d2867",
   "metadata": {},
   "outputs": [],
   "source": [
    "comple2=pd.DataFrame(dfcopy.isnull().sum()) #checo con la copia antes de cambiar el vacio por si se vio afectada "
   ]
  },
  {
   "cell_type": "code",
   "execution_count": 79,
   "id": "b7dd1117",
   "metadata": {},
   "outputs": [
    {
     "data": {
      "text/html": [
       "<div>\n",
       "<style scoped>\n",
       "    .dataframe tbody tr th:only-of-type {\n",
       "        vertical-align: middle;\n",
       "    }\n",
       "\n",
       "    .dataframe tbody tr th {\n",
       "        vertical-align: top;\n",
       "    }\n",
       "\n",
       "    .dataframe thead th {\n",
       "        text-align: right;\n",
       "    }\n",
       "</style>\n",
       "<table border=\"1\" class=\"dataframe\">\n",
       "  <thead>\n",
       "    <tr style=\"text-align: right;\">\n",
       "      <th></th>\n",
       "      <th>0</th>\n",
       "    </tr>\n",
       "  </thead>\n",
       "  <tbody>\n",
       "    <tr>\n",
       "      <th>c_id</th>\n",
       "      <td>0</td>\n",
       "    </tr>\n",
       "    <tr>\n",
       "      <th>d_ao_hechos</th>\n",
       "      <td>0</td>\n",
       "    </tr>\n",
       "    <tr>\n",
       "      <th>d_mes_hechos</th>\n",
       "      <td>0</td>\n",
       "    </tr>\n",
       "    <tr>\n",
       "      <th>d_fecha_hechos</th>\n",
       "      <td>0</td>\n",
       "    </tr>\n",
       "    <tr>\n",
       "      <th>v_delito</th>\n",
       "      <td>0</td>\n",
       "    </tr>\n",
       "    <tr>\n",
       "      <th>v_categoria_delito</th>\n",
       "      <td>0</td>\n",
       "    </tr>\n",
       "    <tr>\n",
       "      <th>v_fiscalia</th>\n",
       "      <td>0</td>\n",
       "    </tr>\n",
       "    <tr>\n",
       "      <th>v_agencia</th>\n",
       "      <td>0</td>\n",
       "    </tr>\n",
       "    <tr>\n",
       "      <th>v_unidad_investigacion</th>\n",
       "      <td>0</td>\n",
       "    </tr>\n",
       "    <tr>\n",
       "      <th>v_colonia_hechos</th>\n",
       "      <td>0</td>\n",
       "    </tr>\n",
       "    <tr>\n",
       "      <th>v_alcaldia_hechos</th>\n",
       "      <td>0</td>\n",
       "    </tr>\n",
       "    <tr>\n",
       "      <th>d_fecha_inicio</th>\n",
       "      <td>0</td>\n",
       "    </tr>\n",
       "    <tr>\n",
       "      <th>d_mes_inicio</th>\n",
       "      <td>0</td>\n",
       "    </tr>\n",
       "    <tr>\n",
       "      <th>d_ao_inicio</th>\n",
       "      <td>0</td>\n",
       "    </tr>\n",
       "    <tr>\n",
       "      <th>t_calle_hechos</th>\n",
       "      <td>0</td>\n",
       "    </tr>\n",
       "    <tr>\n",
       "      <th>t_calle_hechos2</th>\n",
       "      <td>461276</td>\n",
       "    </tr>\n",
       "    <tr>\n",
       "      <th>c_longitud</th>\n",
       "      <td>1</td>\n",
       "    </tr>\n",
       "    <tr>\n",
       "      <th>c_latitud</th>\n",
       "      <td>0</td>\n",
       "    </tr>\n",
       "    <tr>\n",
       "      <th>c_geopoint</th>\n",
       "      <td>0</td>\n",
       "    </tr>\n",
       "  </tbody>\n",
       "</table>\n",
       "</div>"
      ],
      "text/plain": [
       "                             0\n",
       "c_id                         0\n",
       "d_ao_hechos                  0\n",
       "d_mes_hechos                 0\n",
       "d_fecha_hechos               0\n",
       "v_delito                     0\n",
       "v_categoria_delito           0\n",
       "v_fiscalia                   0\n",
       "v_agencia                    0\n",
       "v_unidad_investigacion       0\n",
       "v_colonia_hechos             0\n",
       "v_alcaldia_hechos            0\n",
       "d_fecha_inicio               0\n",
       "d_mes_inicio                 0\n",
       "d_ao_inicio                  0\n",
       "t_calle_hechos               0\n",
       "t_calle_hechos2         461276\n",
       "c_longitud                   1\n",
       "c_latitud                    0\n",
       "c_geopoint                   0"
      ]
     },
     "execution_count": 79,
     "metadata": {},
     "output_type": "execute_result"
    }
   ],
   "source": [
    "comple2"
   ]
  },
  {
   "cell_type": "code",
   "execution_count": 80,
   "id": "81a213b6",
   "metadata": {},
   "outputs": [
    {
     "data": {
      "text/plain": [
       "<AxesSubplot:>"
      ]
     },
     "execution_count": 80,
     "metadata": {},
     "output_type": "execute_result"
    },
    {
     "data": {
      "image/png": "[encoded data removed]",
      "text/plain": [
       "<Figure size 1800x720 with 2 Axes>"
      ]
     },
     "metadata": {
      "needs_background": "light"
     },
     "output_type": "display_data"
    }
   ],
   "source": [
    "msno.matrix(dfcopy.iloc[:, :30])"
   ]
  },
  {
   "cell_type": "code",
   "execution_count": 81,
   "id": "34af672d",
   "metadata": {},
   "outputs": [
    {
     "data": {
      "text/html": [
       "<div>\n",
       "<style scoped>\n",
       "    .dataframe tbody tr th:only-of-type {\n",
       "        vertical-align: middle;\n",
       "    }\n",
       "\n",
       "    .dataframe tbody tr th {\n",
       "        vertical-align: top;\n",
       "    }\n",
       "\n",
       "    .dataframe thead th {\n",
       "        text-align: right;\n",
       "    }\n",
       "</style>\n",
       "<table border=\"1\" class=\"dataframe\">\n",
       "  <thead>\n",
       "    <tr style=\"text-align: right;\">\n",
       "      <th></th>\n",
       "      <th>0</th>\n",
       "    </tr>\n",
       "  </thead>\n",
       "  <tbody>\n",
       "    <tr>\n",
       "      <th>c_id</th>\n",
       "      <td>0</td>\n",
       "    </tr>\n",
       "    <tr>\n",
       "      <th>d_ao_hechos</th>\n",
       "      <td>0</td>\n",
       "    </tr>\n",
       "    <tr>\n",
       "      <th>d_mes_hechos</th>\n",
       "      <td>0</td>\n",
       "    </tr>\n",
       "    <tr>\n",
       "      <th>d_fecha_hechos</th>\n",
       "      <td>0</td>\n",
       "    </tr>\n",
       "    <tr>\n",
       "      <th>v_delito</th>\n",
       "      <td>0</td>\n",
       "    </tr>\n",
       "    <tr>\n",
       "      <th>v_categoria_delito</th>\n",
       "      <td>0</td>\n",
       "    </tr>\n",
       "    <tr>\n",
       "      <th>v_fiscalia</th>\n",
       "      <td>0</td>\n",
       "    </tr>\n",
       "    <tr>\n",
       "      <th>v_agencia</th>\n",
       "      <td>0</td>\n",
       "    </tr>\n",
       "    <tr>\n",
       "      <th>v_unidad_investigacion</th>\n",
       "      <td>0</td>\n",
       "    </tr>\n",
       "    <tr>\n",
       "      <th>v_colonia_hechos</th>\n",
       "      <td>0</td>\n",
       "    </tr>\n",
       "    <tr>\n",
       "      <th>v_alcaldia_hechos</th>\n",
       "      <td>0</td>\n",
       "    </tr>\n",
       "    <tr>\n",
       "      <th>d_fecha_inicio</th>\n",
       "      <td>0</td>\n",
       "    </tr>\n",
       "    <tr>\n",
       "      <th>d_mes_inicio</th>\n",
       "      <td>0</td>\n",
       "    </tr>\n",
       "    <tr>\n",
       "      <th>d_ao_inicio</th>\n",
       "      <td>0</td>\n",
       "    </tr>\n",
       "    <tr>\n",
       "      <th>t_calle_hechos</th>\n",
       "      <td>0</td>\n",
       "    </tr>\n",
       "    <tr>\n",
       "      <th>t_calle_hechos2</th>\n",
       "      <td>0</td>\n",
       "    </tr>\n",
       "    <tr>\n",
       "      <th>c_longitud</th>\n",
       "      <td>1</td>\n",
       "    </tr>\n",
       "    <tr>\n",
       "      <th>c_latitud</th>\n",
       "      <td>0</td>\n",
       "    </tr>\n",
       "    <tr>\n",
       "      <th>c_geopoint</th>\n",
       "      <td>0</td>\n",
       "    </tr>\n",
       "  </tbody>\n",
       "</table>\n",
       "</div>"
      ],
      "text/plain": [
       "                        0\n",
       "c_id                    0\n",
       "d_ao_hechos             0\n",
       "d_mes_hechos            0\n",
       "d_fecha_hechos          0\n",
       "v_delito                0\n",
       "v_categoria_delito      0\n",
       "v_fiscalia              0\n",
       "v_agencia               0\n",
       "v_unidad_investigacion  0\n",
       "v_colonia_hechos        0\n",
       "v_alcaldia_hechos       0\n",
       "d_fecha_inicio          0\n",
       "d_mes_inicio            0\n",
       "d_ao_inicio             0\n",
       "t_calle_hechos          0\n",
       "t_calle_hechos2         0\n",
       "c_longitud              1\n",
       "c_latitud               0\n",
       "c_geopoint              0"
      ]
     },
     "execution_count": 81,
     "metadata": {},
     "output_type": "execute_result"
    }
   ],
   "source": [
    "comple"
   ]
  },
  {
   "cell_type": "code",
   "execution_count": 82,
   "id": "43f4af90",
   "metadata": {},
   "outputs": [],
   "source": [
    "comple.reset_index(inplace=True)\n",
    "\n",
    "comple=comple.rename(columns={\"index\":\"columna\",0:\"total\"})\n",
    "\n",
    "comple[\"completitud\"]=(1-comple[\"total\"]/df.shape[0])*100\n",
    "\n",
    "comple=comple.sort_values(by=\"completitud\",ascending=True)\n",
    "\n",
    "comple.reset_index(drop=True,inplace=True)"
   ]
  },
  {
   "cell_type": "code",
   "execution_count": 83,
   "id": "e8cdafd3",
   "metadata": {},
   "outputs": [
    {
     "data": {
      "text/html": [
       "<div>\n",
       "<style scoped>\n",
       "    .dataframe tbody tr th:only-of-type {\n",
       "        vertical-align: middle;\n",
       "    }\n",
       "\n",
       "    .dataframe tbody tr th {\n",
       "        vertical-align: top;\n",
       "    }\n",
       "\n",
       "    .dataframe thead th {\n",
       "        text-align: right;\n",
       "    }\n",
       "</style>\n",
       "<table border=\"1\" class=\"dataframe\">\n",
       "  <thead>\n",
       "    <tr style=\"text-align: right;\">\n",
       "      <th></th>\n",
       "      <th>columna</th>\n",
       "      <th>total</th>\n",
       "      <th>completitud</th>\n",
       "    </tr>\n",
       "  </thead>\n",
       "  <tbody>\n",
       "    <tr>\n",
       "      <th>0</th>\n",
       "      <td>c_longitud</td>\n",
       "      <td>1</td>\n",
       "      <td>99.99987</td>\n",
       "    </tr>\n",
       "    <tr>\n",
       "      <th>1</th>\n",
       "      <td>c_id</td>\n",
       "      <td>0</td>\n",
       "      <td>100.00000</td>\n",
       "    </tr>\n",
       "    <tr>\n",
       "      <th>2</th>\n",
       "      <td>t_calle_hechos2</td>\n",
       "      <td>0</td>\n",
       "      <td>100.00000</td>\n",
       "    </tr>\n",
       "    <tr>\n",
       "      <th>3</th>\n",
       "      <td>t_calle_hechos</td>\n",
       "      <td>0</td>\n",
       "      <td>100.00000</td>\n",
       "    </tr>\n",
       "    <tr>\n",
       "      <th>4</th>\n",
       "      <td>d_ao_inicio</td>\n",
       "      <td>0</td>\n",
       "      <td>100.00000</td>\n",
       "    </tr>\n",
       "    <tr>\n",
       "      <th>5</th>\n",
       "      <td>d_mes_inicio</td>\n",
       "      <td>0</td>\n",
       "      <td>100.00000</td>\n",
       "    </tr>\n",
       "    <tr>\n",
       "      <th>6</th>\n",
       "      <td>d_fecha_inicio</td>\n",
       "      <td>0</td>\n",
       "      <td>100.00000</td>\n",
       "    </tr>\n",
       "    <tr>\n",
       "      <th>7</th>\n",
       "      <td>v_alcaldia_hechos</td>\n",
       "      <td>0</td>\n",
       "      <td>100.00000</td>\n",
       "    </tr>\n",
       "    <tr>\n",
       "      <th>8</th>\n",
       "      <td>c_latitud</td>\n",
       "      <td>0</td>\n",
       "      <td>100.00000</td>\n",
       "    </tr>\n",
       "    <tr>\n",
       "      <th>9</th>\n",
       "      <td>v_colonia_hechos</td>\n",
       "      <td>0</td>\n",
       "      <td>100.00000</td>\n",
       "    </tr>\n",
       "    <tr>\n",
       "      <th>10</th>\n",
       "      <td>v_agencia</td>\n",
       "      <td>0</td>\n",
       "      <td>100.00000</td>\n",
       "    </tr>\n",
       "    <tr>\n",
       "      <th>11</th>\n",
       "      <td>v_fiscalia</td>\n",
       "      <td>0</td>\n",
       "      <td>100.00000</td>\n",
       "    </tr>\n",
       "    <tr>\n",
       "      <th>12</th>\n",
       "      <td>v_categoria_delito</td>\n",
       "      <td>0</td>\n",
       "      <td>100.00000</td>\n",
       "    </tr>\n",
       "    <tr>\n",
       "      <th>13</th>\n",
       "      <td>v_delito</td>\n",
       "      <td>0</td>\n",
       "      <td>100.00000</td>\n",
       "    </tr>\n",
       "    <tr>\n",
       "      <th>14</th>\n",
       "      <td>d_fecha_hechos</td>\n",
       "      <td>0</td>\n",
       "      <td>100.00000</td>\n",
       "    </tr>\n",
       "    <tr>\n",
       "      <th>15</th>\n",
       "      <td>d_mes_hechos</td>\n",
       "      <td>0</td>\n",
       "      <td>100.00000</td>\n",
       "    </tr>\n",
       "    <tr>\n",
       "      <th>16</th>\n",
       "      <td>d_ao_hechos</td>\n",
       "      <td>0</td>\n",
       "      <td>100.00000</td>\n",
       "    </tr>\n",
       "    <tr>\n",
       "      <th>17</th>\n",
       "      <td>v_unidad_investigacion</td>\n",
       "      <td>0</td>\n",
       "      <td>100.00000</td>\n",
       "    </tr>\n",
       "    <tr>\n",
       "      <th>18</th>\n",
       "      <td>c_geopoint</td>\n",
       "      <td>0</td>\n",
       "      <td>100.00000</td>\n",
       "    </tr>\n",
       "  </tbody>\n",
       "</table>\n",
       "</div>"
      ],
      "text/plain": [
       "                   columna  total  completitud\n",
       "0               c_longitud      1     99.99987\n",
       "1                     c_id      0    100.00000\n",
       "2          t_calle_hechos2      0    100.00000\n",
       "3           t_calle_hechos      0    100.00000\n",
       "4              d_ao_inicio      0    100.00000\n",
       "5             d_mes_inicio      0    100.00000\n",
       "6           d_fecha_inicio      0    100.00000\n",
       "7        v_alcaldia_hechos      0    100.00000\n",
       "8                c_latitud      0    100.00000\n",
       "9         v_colonia_hechos      0    100.00000\n",
       "10               v_agencia      0    100.00000\n",
       "11              v_fiscalia      0    100.00000\n",
       "12      v_categoria_delito      0    100.00000\n",
       "13                v_delito      0    100.00000\n",
       "14          d_fecha_hechos      0    100.00000\n",
       "15            d_mes_hechos      0    100.00000\n",
       "16             d_ao_hechos      0    100.00000\n",
       "17  v_unidad_investigacion      0    100.00000\n",
       "18              c_geopoint      0    100.00000"
      ]
     },
     "execution_count": 83,
     "metadata": {},
     "output_type": "execute_result"
    }
   ],
   "source": [
    "comple"
   ]
  },
  {
   "cell_type": "markdown",
   "id": "d2911436",
   "metadata": {},
   "source": [
    "Al notar las tablas con el vacio que agregue se checa que si tenia varios valores nulos en t_calle_hechos, revisare el porcentaje conla copia que tenia de esa variable"
   ]
  },
  {
   "cell_type": "code",
   "execution_count": 84,
   "id": "b5a4f384",
   "metadata": {},
   "outputs": [],
   "source": [
    "comple2.reset_index(inplace=True)\n",
    "\n",
    "comple2=comple2.rename(columns={\"index\":\"columna\",0:\"total\"})\n",
    "\n",
    "comple2[\"completitud2\"]=(1-comple2[\"total\"]/dfcopy.shape[0])*100\n",
    "\n",
    "comple2=comple2.sort_values(by=\"completitud2\",ascending=True)\n",
    "\n",
    "comple2.reset_index(drop=True,inplace=True)"
   ]
  },
  {
   "cell_type": "code",
   "execution_count": 85,
   "id": "9cb1d985",
   "metadata": {},
   "outputs": [
    {
     "data": {
      "text/html": [
       "<div>\n",
       "<style scoped>\n",
       "    .dataframe tbody tr th:only-of-type {\n",
       "        vertical-align: middle;\n",
       "    }\n",
       "\n",
       "    .dataframe tbody tr th {\n",
       "        vertical-align: top;\n",
       "    }\n",
       "\n",
       "    .dataframe thead th {\n",
       "        text-align: right;\n",
       "    }\n",
       "</style>\n",
       "<table border=\"1\" class=\"dataframe\">\n",
       "  <thead>\n",
       "    <tr style=\"text-align: right;\">\n",
       "      <th></th>\n",
       "      <th>columna</th>\n",
       "      <th>total</th>\n",
       "      <th>completitud2</th>\n",
       "    </tr>\n",
       "  </thead>\n",
       "  <tbody>\n",
       "    <tr>\n",
       "      <th>0</th>\n",
       "      <td>t_calle_hechos2</td>\n",
       "      <td>461276</td>\n",
       "      <td>40.476830</td>\n",
       "    </tr>\n",
       "    <tr>\n",
       "      <th>1</th>\n",
       "      <td>c_longitud</td>\n",
       "      <td>1</td>\n",
       "      <td>99.999871</td>\n",
       "    </tr>\n",
       "    <tr>\n",
       "      <th>2</th>\n",
       "      <td>c_id</td>\n",
       "      <td>0</td>\n",
       "      <td>100.000000</td>\n",
       "    </tr>\n",
       "    <tr>\n",
       "      <th>3</th>\n",
       "      <td>t_calle_hechos</td>\n",
       "      <td>0</td>\n",
       "      <td>100.000000</td>\n",
       "    </tr>\n",
       "    <tr>\n",
       "      <th>4</th>\n",
       "      <td>d_ao_inicio</td>\n",
       "      <td>0</td>\n",
       "      <td>100.000000</td>\n",
       "    </tr>\n",
       "    <tr>\n",
       "      <th>5</th>\n",
       "      <td>d_mes_inicio</td>\n",
       "      <td>0</td>\n",
       "      <td>100.000000</td>\n",
       "    </tr>\n",
       "    <tr>\n",
       "      <th>6</th>\n",
       "      <td>d_fecha_inicio</td>\n",
       "      <td>0</td>\n",
       "      <td>100.000000</td>\n",
       "    </tr>\n",
       "    <tr>\n",
       "      <th>7</th>\n",
       "      <td>v_alcaldia_hechos</td>\n",
       "      <td>0</td>\n",
       "      <td>100.000000</td>\n",
       "    </tr>\n",
       "    <tr>\n",
       "      <th>8</th>\n",
       "      <td>c_latitud</td>\n",
       "      <td>0</td>\n",
       "      <td>100.000000</td>\n",
       "    </tr>\n",
       "    <tr>\n",
       "      <th>9</th>\n",
       "      <td>v_colonia_hechos</td>\n",
       "      <td>0</td>\n",
       "      <td>100.000000</td>\n",
       "    </tr>\n",
       "    <tr>\n",
       "      <th>10</th>\n",
       "      <td>v_agencia</td>\n",
       "      <td>0</td>\n",
       "      <td>100.000000</td>\n",
       "    </tr>\n",
       "    <tr>\n",
       "      <th>11</th>\n",
       "      <td>v_fiscalia</td>\n",
       "      <td>0</td>\n",
       "      <td>100.000000</td>\n",
       "    </tr>\n",
       "    <tr>\n",
       "      <th>12</th>\n",
       "      <td>v_categoria_delito</td>\n",
       "      <td>0</td>\n",
       "      <td>100.000000</td>\n",
       "    </tr>\n",
       "    <tr>\n",
       "      <th>13</th>\n",
       "      <td>v_delito</td>\n",
       "      <td>0</td>\n",
       "      <td>100.000000</td>\n",
       "    </tr>\n",
       "    <tr>\n",
       "      <th>14</th>\n",
       "      <td>d_fecha_hechos</td>\n",
       "      <td>0</td>\n",
       "      <td>100.000000</td>\n",
       "    </tr>\n",
       "    <tr>\n",
       "      <th>15</th>\n",
       "      <td>d_mes_hechos</td>\n",
       "      <td>0</td>\n",
       "      <td>100.000000</td>\n",
       "    </tr>\n",
       "    <tr>\n",
       "      <th>16</th>\n",
       "      <td>d_ao_hechos</td>\n",
       "      <td>0</td>\n",
       "      <td>100.000000</td>\n",
       "    </tr>\n",
       "    <tr>\n",
       "      <th>17</th>\n",
       "      <td>v_unidad_investigacion</td>\n",
       "      <td>0</td>\n",
       "      <td>100.000000</td>\n",
       "    </tr>\n",
       "    <tr>\n",
       "      <th>18</th>\n",
       "      <td>c_geopoint</td>\n",
       "      <td>0</td>\n",
       "      <td>100.000000</td>\n",
       "    </tr>\n",
       "  </tbody>\n",
       "</table>\n",
       "</div>"
      ],
      "text/plain": [
       "                   columna   total  completitud2\n",
       "0          t_calle_hechos2  461276     40.476830\n",
       "1               c_longitud       1     99.999871\n",
       "2                     c_id       0    100.000000\n",
       "3           t_calle_hechos       0    100.000000\n",
       "4              d_ao_inicio       0    100.000000\n",
       "5             d_mes_inicio       0    100.000000\n",
       "6           d_fecha_inicio       0    100.000000\n",
       "7        v_alcaldia_hechos       0    100.000000\n",
       "8                c_latitud       0    100.000000\n",
       "9         v_colonia_hechos       0    100.000000\n",
       "10               v_agencia       0    100.000000\n",
       "11              v_fiscalia       0    100.000000\n",
       "12      v_categoria_delito       0    100.000000\n",
       "13                v_delito       0    100.000000\n",
       "14          d_fecha_hechos       0    100.000000\n",
       "15            d_mes_hechos       0    100.000000\n",
       "16             d_ao_hechos       0    100.000000\n",
       "17  v_unidad_investigacion       0    100.000000\n",
       "18              c_geopoint       0    100.000000"
      ]
     },
     "execution_count": 85,
     "metadata": {},
     "output_type": "execute_result"
    }
   ],
   "source": [
    "comple2"
   ]
  },
  {
   "cell_type": "markdown",
   "id": "9ac3e349",
   "metadata": {},
   "source": [
    "Al tener un porcentaje menor que 80% se puede hacer un drop a t_calle_hechos2"
   ]
  },
  {
   "cell_type": "code",
   "execution_count": 86,
   "id": "ae2d3de9",
   "metadata": {},
   "outputs": [],
   "source": [
    "df.drop(columns=[\"t_calle_hechos2\"],inplace=True)"
   ]
  },
  {
   "cell_type": "code",
   "execution_count": 87,
   "id": "4b69c152",
   "metadata": {},
   "outputs": [
    {
     "data": {
      "text/plain": [
       "(770281, 18)"
      ]
     },
     "execution_count": 87,
     "metadata": {},
     "output_type": "execute_result"
    }
   ],
   "source": [
    "df.shape"
   ]
  },
  {
   "cell_type": "code",
   "execution_count": 88,
   "id": "a1709a13",
   "metadata": {},
   "outputs": [
    {
     "data": {
      "text/html": [
       "<div>\n",
       "<style scoped>\n",
       "    .dataframe tbody tr th:only-of-type {\n",
       "        vertical-align: middle;\n",
       "    }\n",
       "\n",
       "    .dataframe tbody tr th {\n",
       "        vertical-align: top;\n",
       "    }\n",
       "\n",
       "    .dataframe thead th {\n",
       "        text-align: right;\n",
       "    }\n",
       "</style>\n",
       "<table border=\"1\" class=\"dataframe\">\n",
       "  <thead>\n",
       "    <tr style=\"text-align: right;\">\n",
       "      <th></th>\n",
       "      <th>columna</th>\n",
       "      <th>total</th>\n",
       "      <th>completitud</th>\n",
       "    </tr>\n",
       "  </thead>\n",
       "  <tbody>\n",
       "    <tr>\n",
       "      <th>0</th>\n",
       "      <td>c_longitud</td>\n",
       "      <td>1</td>\n",
       "      <td>99.99987</td>\n",
       "    </tr>\n",
       "    <tr>\n",
       "      <th>1</th>\n",
       "      <td>c_id</td>\n",
       "      <td>0</td>\n",
       "      <td>100.00000</td>\n",
       "    </tr>\n",
       "    <tr>\n",
       "      <th>2</th>\n",
       "      <td>t_calle_hechos2</td>\n",
       "      <td>0</td>\n",
       "      <td>100.00000</td>\n",
       "    </tr>\n",
       "    <tr>\n",
       "      <th>3</th>\n",
       "      <td>t_calle_hechos</td>\n",
       "      <td>0</td>\n",
       "      <td>100.00000</td>\n",
       "    </tr>\n",
       "    <tr>\n",
       "      <th>4</th>\n",
       "      <td>d_ao_inicio</td>\n",
       "      <td>0</td>\n",
       "      <td>100.00000</td>\n",
       "    </tr>\n",
       "    <tr>\n",
       "      <th>5</th>\n",
       "      <td>d_mes_inicio</td>\n",
       "      <td>0</td>\n",
       "      <td>100.00000</td>\n",
       "    </tr>\n",
       "    <tr>\n",
       "      <th>6</th>\n",
       "      <td>d_fecha_inicio</td>\n",
       "      <td>0</td>\n",
       "      <td>100.00000</td>\n",
       "    </tr>\n",
       "    <tr>\n",
       "      <th>7</th>\n",
       "      <td>v_alcaldia_hechos</td>\n",
       "      <td>0</td>\n",
       "      <td>100.00000</td>\n",
       "    </tr>\n",
       "    <tr>\n",
       "      <th>8</th>\n",
       "      <td>c_latitud</td>\n",
       "      <td>0</td>\n",
       "      <td>100.00000</td>\n",
       "    </tr>\n",
       "    <tr>\n",
       "      <th>9</th>\n",
       "      <td>v_colonia_hechos</td>\n",
       "      <td>0</td>\n",
       "      <td>100.00000</td>\n",
       "    </tr>\n",
       "    <tr>\n",
       "      <th>10</th>\n",
       "      <td>v_agencia</td>\n",
       "      <td>0</td>\n",
       "      <td>100.00000</td>\n",
       "    </tr>\n",
       "    <tr>\n",
       "      <th>11</th>\n",
       "      <td>v_fiscalia</td>\n",
       "      <td>0</td>\n",
       "      <td>100.00000</td>\n",
       "    </tr>\n",
       "    <tr>\n",
       "      <th>12</th>\n",
       "      <td>v_categoria_delito</td>\n",
       "      <td>0</td>\n",
       "      <td>100.00000</td>\n",
       "    </tr>\n",
       "    <tr>\n",
       "      <th>13</th>\n",
       "      <td>v_delito</td>\n",
       "      <td>0</td>\n",
       "      <td>100.00000</td>\n",
       "    </tr>\n",
       "    <tr>\n",
       "      <th>14</th>\n",
       "      <td>d_fecha_hechos</td>\n",
       "      <td>0</td>\n",
       "      <td>100.00000</td>\n",
       "    </tr>\n",
       "    <tr>\n",
       "      <th>15</th>\n",
       "      <td>d_mes_hechos</td>\n",
       "      <td>0</td>\n",
       "      <td>100.00000</td>\n",
       "    </tr>\n",
       "    <tr>\n",
       "      <th>16</th>\n",
       "      <td>d_ao_hechos</td>\n",
       "      <td>0</td>\n",
       "      <td>100.00000</td>\n",
       "    </tr>\n",
       "    <tr>\n",
       "      <th>17</th>\n",
       "      <td>v_unidad_investigacion</td>\n",
       "      <td>0</td>\n",
       "      <td>100.00000</td>\n",
       "    </tr>\n",
       "    <tr>\n",
       "      <th>18</th>\n",
       "      <td>c_geopoint</td>\n",
       "      <td>0</td>\n",
       "      <td>100.00000</td>\n",
       "    </tr>\n",
       "  </tbody>\n",
       "</table>\n",
       "</div>"
      ],
      "text/plain": [
       "                   columna  total  completitud\n",
       "0               c_longitud      1     99.99987\n",
       "1                     c_id      0    100.00000\n",
       "2          t_calle_hechos2      0    100.00000\n",
       "3           t_calle_hechos      0    100.00000\n",
       "4              d_ao_inicio      0    100.00000\n",
       "5             d_mes_inicio      0    100.00000\n",
       "6           d_fecha_inicio      0    100.00000\n",
       "7        v_alcaldia_hechos      0    100.00000\n",
       "8                c_latitud      0    100.00000\n",
       "9         v_colonia_hechos      0    100.00000\n",
       "10               v_agencia      0    100.00000\n",
       "11              v_fiscalia      0    100.00000\n",
       "12      v_categoria_delito      0    100.00000\n",
       "13                v_delito      0    100.00000\n",
       "14          d_fecha_hechos      0    100.00000\n",
       "15            d_mes_hechos      0    100.00000\n",
       "16             d_ao_hechos      0    100.00000\n",
       "17  v_unidad_investigacion      0    100.00000\n",
       "18              c_geopoint      0    100.00000"
      ]
     },
     "execution_count": 88,
     "metadata": {},
     "output_type": "execute_result"
    }
   ],
   "source": [
    "comple"
   ]
  },
  {
   "cell_type": "markdown",
   "id": "7c1ed5ac",
   "metadata": {},
   "source": [
    "## Orden y Precisión"
   ]
  },
  {
   "cell_type": "markdown",
   "id": "bcc7aa5f",
   "metadata": {},
   "source": [
    "Checamos variables unitarias"
   ]
  },
  {
   "cell_type": "code",
   "execution_count": 89,
   "id": "2b6d98ff",
   "metadata": {},
   "outputs": [],
   "source": [
    "def unitarias(df,col):\n",
    "    result=pd.DataFrame(df[col].value_counts(1))\n",
    "    if result.shape[0]>0:\n",
    "        if (result[col].values[0]>.91) :\n",
    "            print(f\"{col} -- VARIABLE UNITARIA\")"
   ]
  },
  {
   "cell_type": "code",
   "execution_count": 90,
   "id": "9857849d",
   "metadata": {},
   "outputs": [],
   "source": [
    "for col in df.filter(like=\"v_\").columns:\n",
    "    unitarias(df,col)"
   ]
  },
  {
   "cell_type": "code",
   "execution_count": 91,
   "id": "920bb36b",
   "metadata": {},
   "outputs": [
    {
     "data": {
      "text/html": [
       "<div>\n",
       "<style scoped>\n",
       "    .dataframe tbody tr th:only-of-type {\n",
       "        vertical-align: middle;\n",
       "    }\n",
       "\n",
       "    .dataframe tbody tr th {\n",
       "        vertical-align: top;\n",
       "    }\n",
       "\n",
       "    .dataframe thead th {\n",
       "        text-align: right;\n",
       "    }\n",
       "</style>\n",
       "<table border=\"1\" class=\"dataframe\">\n",
       "  <thead>\n",
       "    <tr style=\"text-align: right;\">\n",
       "      <th></th>\n",
       "      <th>v_delito</th>\n",
       "      <th>v_categoria_delito</th>\n",
       "      <th>v_fiscalia</th>\n",
       "      <th>v_agencia</th>\n",
       "      <th>v_unidad_investigacion</th>\n",
       "      <th>v_colonia_hechos</th>\n",
       "      <th>v_alcaldia_hechos</th>\n",
       "    </tr>\n",
       "  </thead>\n",
       "  <tbody>\n",
       "    <tr>\n",
       "      <th>count</th>\n",
       "      <td>770281</td>\n",
       "      <td>770281</td>\n",
       "      <td>770281</td>\n",
       "      <td>770281</td>\n",
       "      <td>770281</td>\n",
       "      <td>770281</td>\n",
       "      <td>770281</td>\n",
       "    </tr>\n",
       "    <tr>\n",
       "      <th>unique</th>\n",
       "      <td>277</td>\n",
       "      <td>16</td>\n",
       "      <td>35</td>\n",
       "      <td>154</td>\n",
       "      <td>89</td>\n",
       "      <td>1624</td>\n",
       "      <td>16</td>\n",
       "    </tr>\n",
       "    <tr>\n",
       "      <th>top</th>\n",
       "      <td>violencia familiar</td>\n",
       "      <td>delito de bajo impacto</td>\n",
       "      <td>investigacion en cuauhtemoc</td>\n",
       "      <td>CUH-2</td>\n",
       "      <td>UI-1SD</td>\n",
       "      <td>centro</td>\n",
       "      <td>cuauhtemoc</td>\n",
       "    </tr>\n",
       "    <tr>\n",
       "      <th>freq</th>\n",
       "      <td>67618</td>\n",
       "      <td>609579</td>\n",
       "      <td>98180</td>\n",
       "      <td>28937</td>\n",
       "      <td>212464</td>\n",
       "      <td>28545</td>\n",
       "      <td>125098</td>\n",
       "    </tr>\n",
       "  </tbody>\n",
       "</table>\n",
       "</div>"
      ],
      "text/plain": [
       "                  v_delito      v_categoria_delito  \\\n",
       "count               770281                  770281   \n",
       "unique                 277                      16   \n",
       "top     violencia familiar  delito de bajo impacto   \n",
       "freq                 67618                  609579   \n",
       "\n",
       "                         v_fiscalia v_agencia v_unidad_investigacion  \\\n",
       "count                        770281    770281                 770281   \n",
       "unique                           35       154                     89   \n",
       "top     investigacion en cuauhtemoc     CUH-2                 UI-1SD   \n",
       "freq                          98180     28937                 212464   \n",
       "\n",
       "       v_colonia_hechos v_alcaldia_hechos  \n",
       "count            770281            770281  \n",
       "unique             1624                16  \n",
       "top              centro        cuauhtemoc  \n",
       "freq              28545            125098  "
      ]
     },
     "execution_count": 91,
     "metadata": {},
     "output_type": "execute_result"
    }
   ],
   "source": [
    "df.filter(like=\"v_\").describe()"
   ]
  },
  {
   "cell_type": "code",
   "execution_count": 92,
   "id": "d442084b",
   "metadata": {},
   "outputs": [
    {
     "data": {
      "text/html": [
       "<div>\n",
       "<style scoped>\n",
       "    .dataframe tbody tr th:only-of-type {\n",
       "        vertical-align: middle;\n",
       "    }\n",
       "\n",
       "    .dataframe tbody tr th {\n",
       "        vertical-align: top;\n",
       "    }\n",
       "\n",
       "    .dataframe thead th {\n",
       "        text-align: right;\n",
       "    }\n",
       "</style>\n",
       "<table border=\"1\" class=\"dataframe\">\n",
       "  <thead>\n",
       "    <tr style=\"text-align: right;\">\n",
       "      <th></th>\n",
       "      <th>d_ao_inicio</th>\n",
       "    </tr>\n",
       "  </thead>\n",
       "  <tbody>\n",
       "    <tr>\n",
       "      <th>count</th>\n",
       "      <td>770281.000000</td>\n",
       "    </tr>\n",
       "    <tr>\n",
       "      <th>mean</th>\n",
       "      <td>2017.387211</td>\n",
       "    </tr>\n",
       "    <tr>\n",
       "      <th>std</th>\n",
       "      <td>1.021470</td>\n",
       "    </tr>\n",
       "    <tr>\n",
       "      <th>min</th>\n",
       "      <td>2016.000000</td>\n",
       "    </tr>\n",
       "    <tr>\n",
       "      <th>25%</th>\n",
       "      <td>2017.000000</td>\n",
       "    </tr>\n",
       "    <tr>\n",
       "      <th>50%</th>\n",
       "      <td>2017.000000</td>\n",
       "    </tr>\n",
       "    <tr>\n",
       "      <th>75%</th>\n",
       "      <td>2018.000000</td>\n",
       "    </tr>\n",
       "    <tr>\n",
       "      <th>max</th>\n",
       "      <td>2019.000000</td>\n",
       "    </tr>\n",
       "  </tbody>\n",
       "</table>\n",
       "</div>"
      ],
      "text/plain": [
       "         d_ao_inicio\n",
       "count  770281.000000\n",
       "mean     2017.387211\n",
       "std         1.021470\n",
       "min      2016.000000\n",
       "25%      2017.000000\n",
       "50%      2017.000000\n",
       "75%      2018.000000\n",
       "max      2019.000000"
      ]
     },
     "execution_count": 92,
     "metadata": {},
     "output_type": "execute_result"
    }
   ],
   "source": [
    "df.filter(like=\"d_\").describe()"
   ]
  },
  {
   "cell_type": "code",
   "execution_count": 93,
   "id": "9f5238b7",
   "metadata": {},
   "outputs": [
    {
     "data": {
      "text/html": [
       "<div>\n",
       "<style scoped>\n",
       "    .dataframe tbody tr th:only-of-type {\n",
       "        vertical-align: middle;\n",
       "    }\n",
       "\n",
       "    .dataframe tbody tr th {\n",
       "        vertical-align: top;\n",
       "    }\n",
       "\n",
       "    .dataframe thead th {\n",
       "        text-align: right;\n",
       "    }\n",
       "</style>\n",
       "<table border=\"1\" class=\"dataframe\">\n",
       "  <thead>\n",
       "    <tr style=\"text-align: right;\">\n",
       "      <th></th>\n",
       "      <th>c_id</th>\n",
       "      <th>d_ao_hechos</th>\n",
       "      <th>d_mes_hechos</th>\n",
       "      <th>d_fecha_hechos</th>\n",
       "      <th>v_delito</th>\n",
       "      <th>v_categoria_delito</th>\n",
       "      <th>v_fiscalia</th>\n",
       "      <th>v_agencia</th>\n",
       "      <th>v_unidad_investigacion</th>\n",
       "      <th>v_colonia_hechos</th>\n",
       "      <th>v_alcaldia_hechos</th>\n",
       "      <th>d_fecha_inicio</th>\n",
       "      <th>d_mes_inicio</th>\n",
       "      <th>d_ao_inicio</th>\n",
       "      <th>t_calle_hechos</th>\n",
       "      <th>c_longitud</th>\n",
       "      <th>c_latitud</th>\n",
       "      <th>c_geopoint</th>\n",
       "    </tr>\n",
       "  </thead>\n",
       "  <tbody>\n",
       "    <tr>\n",
       "      <th>0</th>\n",
       "      <td>0</td>\n",
       "      <td>2016</td>\n",
       "      <td>Enero</td>\n",
       "      <td>2016-01-05 17:00:00</td>\n",
       "      <td>lesiones culposas</td>\n",
       "      <td>delito de bajo impacto</td>\n",
       "      <td>investigacion en gustavo a madero</td>\n",
       "      <td>GAM-6</td>\n",
       "      <td>UI-1CD</td>\n",
       "      <td>granjas modernas</td>\n",
       "      <td>gustavo a madero</td>\n",
       "      <td>2016-01-05 18:35:37</td>\n",
       "      <td>Enero</td>\n",
       "      <td>2016</td>\n",
       "      <td>san juan de aragon</td>\n",
       "      <td>-99.103527</td>\n",
       "      <td>19.481076</td>\n",
       "      <td>19.4810759998,-99.103527</td>\n",
       "    </tr>\n",
       "    <tr>\n",
       "      <th>1</th>\n",
       "      <td>2</td>\n",
       "      <td>2017</td>\n",
       "      <td>Noviembre</td>\n",
       "      <td>2017-11-01 16:40:00</td>\n",
       "      <td>robo a transeunte en via publica con violencia</td>\n",
       "      <td>robo a transeunte en via publica con y sin vio...</td>\n",
       "      <td>investigacion en iztacalco</td>\n",
       "      <td>IZC-2</td>\n",
       "      <td>UI-1SD</td>\n",
       "      <td>gabriel ramos millan seccion tlacotal</td>\n",
       "      <td>iztacalco</td>\n",
       "      <td>2017-11-01 16:56:04</td>\n",
       "      <td>Noviembre</td>\n",
       "      <td>2017</td>\n",
       "      <td>sur 117</td>\n",
       "      <td>-99.106072</td>\n",
       "      <td>19.395398</td>\n",
       "      <td>19.3953976727,-99.1060723829</td>\n",
       "    </tr>\n",
       "    <tr>\n",
       "      <th>2</th>\n",
       "      <td>3</td>\n",
       "      <td>2015</td>\n",
       "      <td>Diciembre</td>\n",
       "      <td>2015-12-30 20:00:00</td>\n",
       "      <td>fraude</td>\n",
       "      <td>delito de bajo impacto</td>\n",
       "      <td>investigacion en iztapalapa</td>\n",
       "      <td>IZP-8</td>\n",
       "      <td>UI-1CD</td>\n",
       "      <td>consejo agrarista mexicano</td>\n",
       "      <td>iztapalapa</td>\n",
       "      <td>2016-01-05 21:12:42</td>\n",
       "      <td>Enero</td>\n",
       "      <td>2016</td>\n",
       "      <td>cuarta cerrada de fresno</td>\n",
       "      <td>-99.055887</td>\n",
       "      <td>19.322458</td>\n",
       "      <td>19.3224579998,-99.055887</td>\n",
       "    </tr>\n",
       "    <tr>\n",
       "      <th>3</th>\n",
       "      <td>4</td>\n",
       "      <td>2018</td>\n",
       "      <td>Mayo</td>\n",
       "      <td>2018-05-16 16:00:00</td>\n",
       "      <td>robo a repartidor con violencia</td>\n",
       "      <td>robo a repartidor con y sin violencia</td>\n",
       "      <td>investigacion en iztapalapa</td>\n",
       "      <td>IZP-9</td>\n",
       "      <td>UI-2SD</td>\n",
       "      <td>desarrollo urbano quetzalcoatl</td>\n",
       "      <td>iztapalapa</td>\n",
       "      <td>2018-05-22 10:44:45</td>\n",
       "      <td>Mayo</td>\n",
       "      <td>2018</td>\n",
       "      <td>tarasco</td>\n",
       "      <td>-99.042786</td>\n",
       "      <td>19.319141</td>\n",
       "      <td>19.3191405147,-99.0427862526</td>\n",
       "    </tr>\n",
       "    <tr>\n",
       "      <th>4</th>\n",
       "      <td>5</td>\n",
       "      <td>2018</td>\n",
       "      <td>Mayo</td>\n",
       "      <td>2018-05-21 20:40:00</td>\n",
       "      <td>robo a transeunte de celular con violencia</td>\n",
       "      <td>delito de bajo impacto</td>\n",
       "      <td>investigacion en cuauhtemoc</td>\n",
       "      <td>CUH-2</td>\n",
       "      <td>UI-2SD</td>\n",
       "      <td>infonavit iztacalco</td>\n",
       "      <td>iztacalco</td>\n",
       "      <td>2018-05-22 10:52:18</td>\n",
       "      <td>Mayo</td>\n",
       "      <td>2018</td>\n",
       "      <td>francisco del paso y troncoso</td>\n",
       "      <td>-99.111563</td>\n",
       "      <td>19.386594</td>\n",
       "      <td>19.3865939284,-99.1115626682</td>\n",
       "    </tr>\n",
       "  </tbody>\n",
       "</table>\n",
       "</div>"
      ],
      "text/plain": [
       "   c_id d_ao_hechos d_mes_hechos       d_fecha_hechos  \\\n",
       "0     0        2016        Enero  2016-01-05 17:00:00   \n",
       "1     2        2017    Noviembre  2017-11-01 16:40:00   \n",
       "2     3        2015    Diciembre  2015-12-30 20:00:00   \n",
       "3     4        2018         Mayo  2018-05-16 16:00:00   \n",
       "4     5        2018         Mayo  2018-05-21 20:40:00   \n",
       "\n",
       "                                         v_delito  \\\n",
       "0                               lesiones culposas   \n",
       "1  robo a transeunte en via publica con violencia   \n",
       "2                                          fraude   \n",
       "3                 robo a repartidor con violencia   \n",
       "4      robo a transeunte de celular con violencia   \n",
       "\n",
       "                                  v_categoria_delito  \\\n",
       "0                             delito de bajo impacto   \n",
       "1  robo a transeunte en via publica con y sin vio...   \n",
       "2                             delito de bajo impacto   \n",
       "3              robo a repartidor con y sin violencia   \n",
       "4                             delito de bajo impacto   \n",
       "\n",
       "                          v_fiscalia v_agencia v_unidad_investigacion  \\\n",
       "0  investigacion en gustavo a madero     GAM-6                 UI-1CD   \n",
       "1         investigacion en iztacalco     IZC-2                 UI-1SD   \n",
       "2        investigacion en iztapalapa     IZP-8                 UI-1CD   \n",
       "3        investigacion en iztapalapa     IZP-9                 UI-2SD   \n",
       "4        investigacion en cuauhtemoc     CUH-2                 UI-2SD   \n",
       "\n",
       "                        v_colonia_hechos v_alcaldia_hechos  \\\n",
       "0                       granjas modernas  gustavo a madero   \n",
       "1  gabriel ramos millan seccion tlacotal         iztacalco   \n",
       "2             consejo agrarista mexicano        iztapalapa   \n",
       "3         desarrollo urbano quetzalcoatl        iztapalapa   \n",
       "4                    infonavit iztacalco         iztacalco   \n",
       "\n",
       "        d_fecha_inicio d_mes_inicio  d_ao_inicio  \\\n",
       "0  2016-01-05 18:35:37        Enero         2016   \n",
       "1  2017-11-01 16:56:04    Noviembre         2017   \n",
       "2  2016-01-05 21:12:42        Enero         2016   \n",
       "3  2018-05-22 10:44:45         Mayo         2018   \n",
       "4  2018-05-22 10:52:18         Mayo         2018   \n",
       "\n",
       "                  t_calle_hechos c_longitud  c_latitud  \\\n",
       "0             san juan de aragon -99.103527  19.481076   \n",
       "1                        sur 117 -99.106072  19.395398   \n",
       "2       cuarta cerrada de fresno -99.055887  19.322458   \n",
       "3                        tarasco -99.042786  19.319141   \n",
       "4  francisco del paso y troncoso -99.111563  19.386594   \n",
       "\n",
       "                     c_geopoint  \n",
       "0      19.4810759998,-99.103527  \n",
       "1  19.3953976727,-99.1060723829  \n",
       "2      19.3224579998,-99.055887  \n",
       "3  19.3191405147,-99.0427862526  \n",
       "4  19.3865939284,-99.1115626682  "
      ]
     },
     "execution_count": 93,
     "metadata": {},
     "output_type": "execute_result"
    }
   ],
   "source": [
    "df.head()"
   ]
  },
  {
   "cell_type": "code",
   "execution_count": 94,
   "id": "6987781f",
   "metadata": {},
   "outputs": [],
   "source": [
    "df[\"d_fecha_hechos\"]=pd.to_datetime(df[\"d_fecha_hechos\"],format=\"%Y-%m-%d %H:%M:%S\",errors=\"coerce\")"
   ]
  },
  {
   "cell_type": "code",
   "execution_count": 95,
   "id": "069bbbef",
   "metadata": {},
   "outputs": [],
   "source": [
    "df[\"d_fecha_inicio\"]=pd.to_datetime(df[\"d_fecha_inicio\"],format=\"%Y-%m-%d %H:%M:%S\",errors=\"coerce\")"
   ]
  },
  {
   "cell_type": "code",
   "execution_count": 96,
   "id": "10eceab9",
   "metadata": {},
   "outputs": [
    {
     "data": {
      "text/plain": [
       "c_id                        0\n",
       "d_ao_hechos                 0\n",
       "d_mes_hechos                0\n",
       "d_fecha_hechos            310\n",
       "v_delito                    0\n",
       "v_categoria_delito          0\n",
       "v_fiscalia                  0\n",
       "v_agencia                   0\n",
       "v_unidad_investigacion      0\n",
       "v_colonia_hechos            0\n",
       "v_alcaldia_hechos           0\n",
       "d_fecha_inicio              5\n",
       "d_mes_inicio                0\n",
       "d_ao_inicio                 0\n",
       "t_calle_hechos              0\n",
       "c_longitud                  1\n",
       "c_latitud                   0\n",
       "c_geopoint                  0\n",
       "dtype: int64"
      ]
     },
     "execution_count": 96,
     "metadata": {},
     "output_type": "execute_result"
    }
   ],
   "source": [
    "df.isnull().sum()"
   ]
  },
  {
   "cell_type": "markdown",
   "id": "b6844e3f",
   "metadata": {},
   "source": [
    "# Consistencia"
   ]
  },
  {
   "cell_type": "markdown",
   "id": "64e641e9",
   "metadata": {},
   "source": [
    "checamos que d_fecha_hechos con d_fecha_inicio inicio no antes que hechos"
   ]
  },
  {
   "cell_type": "code",
   "execution_count": 98,
   "id": "0518a096",
   "metadata": {},
   "outputs": [
    {
     "name": "stderr",
     "output_type": "stream",
     "text": [
      "/tmp/ipykernel_22235/2062192136.py:1: FutureWarning: Treating datetime data as categorical rather than numeric in `.describe` is deprecated and will be removed in a future version of pandas. Specify `datetime_is_numeric=True` to silence this warning and adopt the future behavior now.\n",
      "  df[\"d_fecha_hechos\"].describe(percentiles=np.arange(0.1,1.1,.1))\n"
     ]
    },
    {
     "data": {
      "text/plain": [
       "count                  769971\n",
       "unique                 255543\n",
       "top       2016-01-01 12:00:00\n",
       "freq                      139\n",
       "first     1906-06-02 19:00:00\n",
       "last      2019-06-30 23:00:00\n",
       "Name: d_fecha_hechos, dtype: object"
      ]
     },
     "execution_count": 98,
     "metadata": {},
     "output_type": "execute_result"
    }
   ],
   "source": [
    "df[\"d_fecha_hechos\"].describe(percentiles=np.arange(0.1,1.1,.1))"
   ]
  },
  {
   "cell_type": "code",
   "execution_count": 99,
   "id": "9bdb9330",
   "metadata": {},
   "outputs": [
    {
     "name": "stderr",
     "output_type": "stream",
     "text": [
      "/tmp/ipykernel_22235/1183511427.py:1: FutureWarning: Treating datetime data as categorical rather than numeric in `.describe` is deprecated and will be removed in a future version of pandas. Specify `datetime_is_numeric=True` to silence this warning and adopt the future behavior now.\n",
      "  df[\"d_fecha_inicio\"].describe(percentiles=np.arange(0.1,1.1,.1))\n"
     ]
    },
    {
     "data": {
      "text/plain": [
       "count                  770276\n",
       "unique                 760838\n",
       "top       2019-02-13 10:57:00\n",
       "freq                        6\n",
       "first     2016-01-01 01:35:06\n",
       "last      2019-06-30 23:56:29\n",
       "Name: d_fecha_inicio, dtype: object"
      ]
     },
     "execution_count": 99,
     "metadata": {},
     "output_type": "execute_result"
    }
   ],
   "source": [
    "df[\"d_fecha_inicio\"].describe(percentiles=np.arange(0.1,1.1,.1))"
   ]
  },
  {
   "cell_type": "code",
   "execution_count": 105,
   "id": "85191caa",
   "metadata": {},
   "outputs": [
    {
     "data": {
      "text/plain": [
       "0.0044139736018414056"
      ]
     },
     "execution_count": 105,
     "metadata": {},
     "output_type": "execute_result"
    }
   ],
   "source": [
    "df[df[\"d_fecha_inicio\"]<df[\"d_fecha_hechos\"]].shape[0]/df.shape[0]"
   ]
  },
  {
   "cell_type": "code",
   "execution_count": 101,
   "id": "755a4c32",
   "metadata": {},
   "outputs": [
    {
     "data": {
      "text/plain": [
       "(770281, 18)"
      ]
     },
     "execution_count": 101,
     "metadata": {},
     "output_type": "execute_result"
    }
   ],
   "source": [
    "df.shape"
   ]
  },
  {
   "cell_type": "code",
   "execution_count": 112,
   "id": "0c301982",
   "metadata": {},
   "outputs": [],
   "source": [
    "df=df[if(set(df[\"d_fecha_inicio\"]>= df[\"d_fecha_hechos\"]]\n",
    "df.reset_index(drop=True,inplace=True)"
   ]
  },
  {
   "cell_type": "code",
   "execution_count": 113,
   "id": "359dc3d9",
   "metadata": {},
   "outputs": [
    {
     "data": {
      "text/plain": [
       "(766566, 18)"
      ]
     },
     "execution_count": 113,
     "metadata": {},
     "output_type": "execute_result"
    }
   ],
   "source": [
    "df.shape"
   ]
  },
  {
   "cell_type": "code",
   "execution_count": 172,
   "id": "ce1be41f",
   "metadata": {},
   "outputs": [
    {
     "data": {
      "text/plain": [
       "violencia familiar                                 0.088186\n",
       "robo de objetos                                    0.066988\n",
       "robo a negocio sin violencia                       0.066776\n",
       "fraude                                             0.054187\n",
       "denuncia de hechos                                 0.050053\n",
       "                                                     ...   \n",
       "2017 10 09 08 00 00                                0.000001\n",
       "perdida de la vida por envenenamiento              0.000001\n",
       "desacato                                           0.000001\n",
       "robo a pasajero en tren suburbano con violencia    0.000001\n",
       "contra la ley general de explosivos                0.000001\n",
       "Name: v_delito, Length: 276, dtype: float64"
      ]
     },
     "execution_count": 172,
     "metadata": {},
     "output_type": "execute_result"
    }
   ],
   "source": [
    "df[\"v_delito\"].value_counts(1)"
   ]
  },
  {
   "cell_type": "markdown",
   "id": "5d2df7b4",
   "metadata": {},
   "source": [
    "en este caso se deberia hacer algo para quitar los delitos que esten con fecha, pero desconozco la forma"
   ]
  },
  {
   "cell_type": "markdown",
   "id": "1350dd9e",
   "metadata": {},
   "source": [
    "### Solo consideré los delitos que ocurrieron después de 2013."
   ]
  },
  {
   "cell_type": "code",
   "execution_count": 114,
   "id": "114bd5a5",
   "metadata": {},
   "outputs": [
    {
     "data": {
      "text/html": [
       "<div>\n",
       "<style scoped>\n",
       "    .dataframe tbody tr th:only-of-type {\n",
       "        vertical-align: middle;\n",
       "    }\n",
       "\n",
       "    .dataframe tbody tr th {\n",
       "        vertical-align: top;\n",
       "    }\n",
       "\n",
       "    .dataframe thead th {\n",
       "        text-align: right;\n",
       "    }\n",
       "</style>\n",
       "<table border=\"1\" class=\"dataframe\">\n",
       "  <thead>\n",
       "    <tr style=\"text-align: right;\">\n",
       "      <th></th>\n",
       "      <th>c_id</th>\n",
       "      <th>d_ao_hechos</th>\n",
       "      <th>d_mes_hechos</th>\n",
       "      <th>d_fecha_hechos</th>\n",
       "      <th>v_delito</th>\n",
       "      <th>v_categoria_delito</th>\n",
       "      <th>v_fiscalia</th>\n",
       "      <th>v_agencia</th>\n",
       "      <th>v_unidad_investigacion</th>\n",
       "      <th>v_colonia_hechos</th>\n",
       "      <th>v_alcaldia_hechos</th>\n",
       "      <th>d_fecha_inicio</th>\n",
       "      <th>d_mes_inicio</th>\n",
       "      <th>d_ao_inicio</th>\n",
       "      <th>t_calle_hechos</th>\n",
       "      <th>c_longitud</th>\n",
       "      <th>c_latitud</th>\n",
       "      <th>c_geopoint</th>\n",
       "    </tr>\n",
       "  </thead>\n",
       "  <tbody>\n",
       "    <tr>\n",
       "      <th>0</th>\n",
       "      <td>0</td>\n",
       "      <td>2016</td>\n",
       "      <td>Enero</td>\n",
       "      <td>2016-01-05 17:00:00</td>\n",
       "      <td>lesiones culposas</td>\n",
       "      <td>delito de bajo impacto</td>\n",
       "      <td>investigacion en gustavo a madero</td>\n",
       "      <td>GAM-6</td>\n",
       "      <td>UI-1CD</td>\n",
       "      <td>granjas modernas</td>\n",
       "      <td>gustavo a madero</td>\n",
       "      <td>2016-01-05 18:35:37</td>\n",
       "      <td>Enero</td>\n",
       "      <td>2016</td>\n",
       "      <td>san juan de aragon</td>\n",
       "      <td>-99.103527</td>\n",
       "      <td>19.481076</td>\n",
       "      <td>19.4810759998,-99.103527</td>\n",
       "    </tr>\n",
       "    <tr>\n",
       "      <th>1</th>\n",
       "      <td>2</td>\n",
       "      <td>2017</td>\n",
       "      <td>Noviembre</td>\n",
       "      <td>2017-11-01 16:40:00</td>\n",
       "      <td>robo a transeunte en via publica con violencia</td>\n",
       "      <td>robo a transeunte en via publica con y sin vio...</td>\n",
       "      <td>investigacion en iztacalco</td>\n",
       "      <td>IZC-2</td>\n",
       "      <td>UI-1SD</td>\n",
       "      <td>gabriel ramos millan seccion tlacotal</td>\n",
       "      <td>iztacalco</td>\n",
       "      <td>2017-11-01 16:56:04</td>\n",
       "      <td>Noviembre</td>\n",
       "      <td>2017</td>\n",
       "      <td>sur 117</td>\n",
       "      <td>-99.106072</td>\n",
       "      <td>19.395398</td>\n",
       "      <td>19.3953976727,-99.1060723829</td>\n",
       "    </tr>\n",
       "    <tr>\n",
       "      <th>2</th>\n",
       "      <td>3</td>\n",
       "      <td>2015</td>\n",
       "      <td>Diciembre</td>\n",
       "      <td>2015-12-30 20:00:00</td>\n",
       "      <td>fraude</td>\n",
       "      <td>delito de bajo impacto</td>\n",
       "      <td>investigacion en iztapalapa</td>\n",
       "      <td>IZP-8</td>\n",
       "      <td>UI-1CD</td>\n",
       "      <td>consejo agrarista mexicano</td>\n",
       "      <td>iztapalapa</td>\n",
       "      <td>2016-01-05 21:12:42</td>\n",
       "      <td>Enero</td>\n",
       "      <td>2016</td>\n",
       "      <td>cuarta cerrada de fresno</td>\n",
       "      <td>-99.055887</td>\n",
       "      <td>19.322458</td>\n",
       "      <td>19.3224579998,-99.055887</td>\n",
       "    </tr>\n",
       "    <tr>\n",
       "      <th>3</th>\n",
       "      <td>4</td>\n",
       "      <td>2018</td>\n",
       "      <td>Mayo</td>\n",
       "      <td>2018-05-16 16:00:00</td>\n",
       "      <td>robo a repartidor con violencia</td>\n",
       "      <td>robo a repartidor con y sin violencia</td>\n",
       "      <td>investigacion en iztapalapa</td>\n",
       "      <td>IZP-9</td>\n",
       "      <td>UI-2SD</td>\n",
       "      <td>desarrollo urbano quetzalcoatl</td>\n",
       "      <td>iztapalapa</td>\n",
       "      <td>2018-05-22 10:44:45</td>\n",
       "      <td>Mayo</td>\n",
       "      <td>2018</td>\n",
       "      <td>tarasco</td>\n",
       "      <td>-99.042786</td>\n",
       "      <td>19.319141</td>\n",
       "      <td>19.3191405147,-99.0427862526</td>\n",
       "    </tr>\n",
       "    <tr>\n",
       "      <th>4</th>\n",
       "      <td>5</td>\n",
       "      <td>2018</td>\n",
       "      <td>Mayo</td>\n",
       "      <td>2018-05-21 20:40:00</td>\n",
       "      <td>robo a transeunte de celular con violencia</td>\n",
       "      <td>delito de bajo impacto</td>\n",
       "      <td>investigacion en cuauhtemoc</td>\n",
       "      <td>CUH-2</td>\n",
       "      <td>UI-2SD</td>\n",
       "      <td>infonavit iztacalco</td>\n",
       "      <td>iztacalco</td>\n",
       "      <td>2018-05-22 10:52:18</td>\n",
       "      <td>Mayo</td>\n",
       "      <td>2018</td>\n",
       "      <td>francisco del paso y troncoso</td>\n",
       "      <td>-99.111563</td>\n",
       "      <td>19.386594</td>\n",
       "      <td>19.3865939284,-99.1115626682</td>\n",
       "    </tr>\n",
       "  </tbody>\n",
       "</table>\n",
       "</div>"
      ],
      "text/plain": [
       "   c_id d_ao_hechos d_mes_hechos      d_fecha_hechos  \\\n",
       "0     0        2016        Enero 2016-01-05 17:00:00   \n",
       "1     2        2017    Noviembre 2017-11-01 16:40:00   \n",
       "2     3        2015    Diciembre 2015-12-30 20:00:00   \n",
       "3     4        2018         Mayo 2018-05-16 16:00:00   \n",
       "4     5        2018         Mayo 2018-05-21 20:40:00   \n",
       "\n",
       "                                         v_delito  \\\n",
       "0                               lesiones culposas   \n",
       "1  robo a transeunte en via publica con violencia   \n",
       "2                                          fraude   \n",
       "3                 robo a repartidor con violencia   \n",
       "4      robo a transeunte de celular con violencia   \n",
       "\n",
       "                                  v_categoria_delito  \\\n",
       "0                             delito de bajo impacto   \n",
       "1  robo a transeunte en via publica con y sin vio...   \n",
       "2                             delito de bajo impacto   \n",
       "3              robo a repartidor con y sin violencia   \n",
       "4                             delito de bajo impacto   \n",
       "\n",
       "                          v_fiscalia v_agencia v_unidad_investigacion  \\\n",
       "0  investigacion en gustavo a madero     GAM-6                 UI-1CD   \n",
       "1         investigacion en iztacalco     IZC-2                 UI-1SD   \n",
       "2        investigacion en iztapalapa     IZP-8                 UI-1CD   \n",
       "3        investigacion en iztapalapa     IZP-9                 UI-2SD   \n",
       "4        investigacion en cuauhtemoc     CUH-2                 UI-2SD   \n",
       "\n",
       "                        v_colonia_hechos v_alcaldia_hechos  \\\n",
       "0                       granjas modernas  gustavo a madero   \n",
       "1  gabriel ramos millan seccion tlacotal         iztacalco   \n",
       "2             consejo agrarista mexicano        iztapalapa   \n",
       "3         desarrollo urbano quetzalcoatl        iztapalapa   \n",
       "4                    infonavit iztacalco         iztacalco   \n",
       "\n",
       "       d_fecha_inicio d_mes_inicio  d_ao_inicio  \\\n",
       "0 2016-01-05 18:35:37        Enero         2016   \n",
       "1 2017-11-01 16:56:04    Noviembre         2017   \n",
       "2 2016-01-05 21:12:42        Enero         2016   \n",
       "3 2018-05-22 10:44:45         Mayo         2018   \n",
       "4 2018-05-22 10:52:18         Mayo         2018   \n",
       "\n",
       "                  t_calle_hechos c_longitud  c_latitud  \\\n",
       "0             san juan de aragon -99.103527  19.481076   \n",
       "1                        sur 117 -99.106072  19.395398   \n",
       "2       cuarta cerrada de fresno -99.055887  19.322458   \n",
       "3                        tarasco -99.042786  19.319141   \n",
       "4  francisco del paso y troncoso -99.111563  19.386594   \n",
       "\n",
       "                     c_geopoint  \n",
       "0      19.4810759998,-99.103527  \n",
       "1  19.3953976727,-99.1060723829  \n",
       "2      19.3224579998,-99.055887  \n",
       "3  19.3191405147,-99.0427862526  \n",
       "4  19.3865939284,-99.1115626682  "
      ]
     },
     "execution_count": 114,
     "metadata": {},
     "output_type": "execute_result"
    }
   ],
   "source": [
    "df.head()"
   ]
  },
  {
   "cell_type": "code",
   "execution_count": 115,
   "id": "df1fa392",
   "metadata": {},
   "outputs": [],
   "source": [
    "df['d_ao_hechos'] = df['d_fecha_hechos'].dt.strftime('%Y')"
   ]
  },
  {
   "cell_type": "markdown",
   "id": "5a876490",
   "metadata": {},
   "source": [
    "al intentar sacar con d_ao_hechos los valores mayores mostraba un error, ya que era string y traia datos incorrectos, como d_fecha_hechos contiene el año se sacara de ahí"
   ]
  },
  {
   "cell_type": "code",
   "execution_count": 116,
   "id": "59cfb6d3",
   "metadata": {},
   "outputs": [],
   "source": [
    "df[\"d_ao_hechos\"]=df[\"d_ao_hechos\"].fillna(0)"
   ]
  },
  {
   "cell_type": "code",
   "execution_count": 117,
   "id": "82c0b23e",
   "metadata": {},
   "outputs": [],
   "source": [
    "df[\"d_ao_hechos\"]=df[\"d_ao_hechos\"].astype(int)"
   ]
  },
  {
   "cell_type": "code",
   "execution_count": 118,
   "id": "844ebef3",
   "metadata": {},
   "outputs": [
    {
     "data": {
      "text/plain": [
       "0         2016\n",
       "1         2017\n",
       "2         2015\n",
       "3         2018\n",
       "4         2018\n",
       "          ... \n",
       "766561    2018\n",
       "766562    2018\n",
       "766563    2019\n",
       "766564    2019\n",
       "766565    2017\n",
       "Name: d_ao_hechos, Length: 766566, dtype: int64"
      ]
     },
     "execution_count": 118,
     "metadata": {},
     "output_type": "execute_result"
    }
   ],
   "source": [
    "df[\"d_ao_hechos\"]"
   ]
  },
  {
   "cell_type": "code",
   "execution_count": 119,
   "id": "43c516b9",
   "metadata": {},
   "outputs": [
    {
     "data": {
      "text/plain": [
       "(766566, 18)"
      ]
     },
     "execution_count": 119,
     "metadata": {},
     "output_type": "execute_result"
    }
   ],
   "source": [
    "df.shape"
   ]
  },
  {
   "cell_type": "code",
   "execution_count": 120,
   "id": "72e9956a",
   "metadata": {},
   "outputs": [],
   "source": [
    "df=df[(df.d_ao_hechos> 2013)]"
   ]
  },
  {
   "cell_type": "code",
   "execution_count": 121,
   "id": "9535277c",
   "metadata": {},
   "outputs": [
    {
     "data": {
      "text/plain": [
       "(760555, 18)"
      ]
     },
     "execution_count": 121,
     "metadata": {},
     "output_type": "execute_result"
    }
   ],
   "source": [
    "df.shape"
   ]
  },
  {
   "cell_type": "code",
   "execution_count": 122,
   "id": "220f3c92",
   "metadata": {},
   "outputs": [
    {
     "data": {
      "text/plain": [
       "2018    236933\n",
       "2017    213291\n",
       "2016    184054\n",
       "2019    108346\n",
       "2015     14466\n",
       "2014      3465\n",
       "Name: d_ao_hechos, dtype: int64"
      ]
     },
     "execution_count": 122,
     "metadata": {},
     "output_type": "execute_result"
    }
   ],
   "source": [
    "df[\"d_ao_hechos\"].value_counts()"
   ]
  },
  {
   "cell_type": "markdown",
   "id": "457d7bb7",
   "metadata": {},
   "source": [
    "Normalizar la variable categorı́a delito"
   ]
  },
  {
   "cell_type": "code",
   "execution_count": 123,
   "id": "c3214582",
   "metadata": {},
   "outputs": [
    {
     "data": {
      "text/plain": [
       "delito de bajo impacto                                     0.792319\n",
       "hecho no delictivo                                         0.058728\n",
       "robo de vehiculo con y sin violencia                       0.053587\n",
       "robo a transeunte en via publica con y sin violencia       0.043320\n",
       "robo a negocio con violencia                               0.015034\n",
       "robo a repartidor con y sin violencia                      0.009417\n",
       "robo a pasajero a bordo del metro con y sin violencia      0.007072\n",
       "homicidio doloso                                           0.004761\n",
       "lesiones dolosas por disparo de arma de fuego              0.003854\n",
       "robo a pasajero a bordo de microbus con y sin violencia    0.003707\n",
       "robo a casa habitacion con violencia                       0.002392\n",
       "violacion                                                  0.002384\n",
       "robo a cuentahabiente saliendo del cajero con violencia    0.001834\n",
       "robo a pasajero a bordo de taxi con violencia              0.000945\n",
       "robo a transportista con y sin violencia                   0.000530\n",
       "secuestro                                                  0.000117\n",
       "Name: v_categoria_delito, dtype: float64"
      ]
     },
     "execution_count": 123,
     "metadata": {},
     "output_type": "execute_result"
    }
   ],
   "source": [
    "df[\"v_categoria_delito\"].value_counts(1)"
   ]
  },
  {
   "cell_type": "code",
   "execution_count": 124,
   "id": "1022b50e",
   "metadata": {},
   "outputs": [],
   "source": [
    "df[\"v_categoria_delito\"]=df[\"v_categoria_delito\"].replace(\"secuestro\",\"delito alto impacto\")\n"
   ]
  },
  {
   "cell_type": "code",
   "execution_count": 125,
   "id": "408cf75a",
   "metadata": {},
   "outputs": [],
   "source": [
    "df[\"v_categoria_delito\"]=df[\"v_categoria_delito\"].replace(\"violacion\",\"delito alto impacto\")\n",
    "df[\"v_categoria_delito\"]=df[\"v_categoria_delito\"].replace(\"homicidio doloso\",\"delito alto impacto\")\n"
   ]
  },
  {
   "cell_type": "code",
   "execution_count": 126,
   "id": "11e4265e",
   "metadata": {},
   "outputs": [
    {
     "data": {
      "text/plain": [
       "delito de bajo impacto                                     0.792319\n",
       "hecho no delictivo                                         0.058728\n",
       "robo de vehiculo con y sin violencia                       0.053587\n",
       "robo a transeunte en via publica con y sin violencia       0.043320\n",
       "robo a negocio con violencia                               0.015034\n",
       "robo a repartidor con y sin violencia                      0.009417\n",
       "delito alto impacto                                        0.007262\n",
       "robo a pasajero a bordo del metro con y sin violencia      0.007072\n",
       "lesiones dolosas por disparo de arma de fuego              0.003854\n",
       "robo a pasajero a bordo de microbus con y sin violencia    0.003707\n",
       "robo a casa habitacion con violencia                       0.002392\n",
       "robo a cuentahabiente saliendo del cajero con violencia    0.001834\n",
       "robo a pasajero a bordo de taxi con violencia              0.000945\n",
       "robo a transportista con y sin violencia                   0.000530\n",
       "Name: v_categoria_delito, dtype: float64"
      ]
     },
     "execution_count": 126,
     "metadata": {},
     "output_type": "execute_result"
    }
   ],
   "source": [
    "df[\"v_categoria_delito\"].value_counts(1)"
   ]
  },
  {
   "cell_type": "code",
   "execution_count": 127,
   "id": "f11fa93a",
   "metadata": {},
   "outputs": [
    {
     "data": {
      "text/plain": [
       "0.009407603657855118"
      ]
     },
     "execution_count": 127,
     "metadata": {},
     "output_type": "execute_result"
    }
   ],
   "source": [
    "df[\"v_categoria_delito\"].value_counts(1)[-5:].sum()"
   ]
  },
  {
   "cell_type": "code",
   "execution_count": 128,
   "id": "b19f792e",
   "metadata": {},
   "outputs": [
    {
     "data": {
      "text/plain": [
       "['robo a pasajero a bordo de microbus con y sin violencia',\n",
       " 'robo a casa habitacion con violencia',\n",
       " 'robo a cuentahabiente saliendo del cajero con violencia',\n",
       " 'robo a pasajero a bordo de taxi con violencia',\n",
       " 'robo a transportista con y sin violencia']"
      ]
     },
     "execution_count": 128,
     "metadata": {},
     "output_type": "execute_result"
    }
   ],
   "source": [
    "list(df[\"v_categoria_delito\"].value_counts(1)[-5:].index)"
   ]
  },
  {
   "cell_type": "code",
   "execution_count": 159,
   "id": "3fd1a3cc",
   "metadata": {},
   "outputs": [],
   "source": [
    "robos=dict(zip(list(df[\"v_categoria_delito\"].value_counts(1)[-5:].index),[\"robo\"]*5))"
   ]
  },
  {
   "cell_type": "code",
   "execution_count": 160,
   "id": "798cefdb",
   "metadata": {},
   "outputs": [],
   "source": [
    "df[\"v_categoria_delito\"]=df[\"v_categoria_delito\"].replace(robos)"
   ]
  },
  {
   "cell_type": "code",
   "execution_count": 161,
   "id": "1cdcfc68",
   "metadata": {},
   "outputs": [
    {
     "data": {
      "text/plain": [
       "delito de bajo impacto                                   0.792319\n",
       "hecho no delictivo                                       0.058728\n",
       "robo de vehiculo con y sin violencia                     0.053587\n",
       "robo a transeunte en via publica con y sin violencia     0.043320\n",
       "robo a negocio con violencia                             0.015034\n",
       "robo a repartidor con y sin violencia                    0.009417\n",
       "robo                                                     0.009408\n",
       "delito alto impacto                                      0.007262\n",
       "robo a pasajero a bordo del metro con y sin violencia    0.007072\n",
       "lesiones dolosas por disparo de arma de fuego            0.003854\n",
       "Name: v_categoria_delito, dtype: float64"
      ]
     },
     "execution_count": 161,
     "metadata": {},
     "output_type": "execute_result"
    }
   ],
   "source": [
    "df[\"v_categoria_delito\"].value_counts(1)"
   ]
  },
  {
   "cell_type": "code",
   "execution_count": 162,
   "id": "49413e79",
   "metadata": {},
   "outputs": [],
   "source": [
    "df[\"v_categoria_delito\"]=df[\"v_categoria_delito\"].replace(\"robo de vehiculo con y sin violencia\",\"robo\")\n"
   ]
  },
  {
   "cell_type": "code",
   "execution_count": 163,
   "id": "11fd18ab",
   "metadata": {},
   "outputs": [],
   "source": [
    "df[\"v_categoria_delito\"]=df[\"v_categoria_delito\"].replace(\"robo a repartidor con y sin violencia\",\"robo\")\n",
    "df[\"v_categoria_delito\"]=df[\"v_categoria_delito\"].replace(\"robo a negocio con violencia\",\"robo\")\n",
    "df[\"v_categoria_delito\"]=df[\"v_categoria_delito\"].replace(\"robo a pasajero a bordo del metro con y sin violencia\",\"robo\")                                                         \n",
    "df[\"v_categoria_delito\"]=df[\"v_categoria_delito\"].replace(\"robo a transeunte en via publica con y sin violencia\",\"robo\")"
   ]
  },
  {
   "cell_type": "code",
   "execution_count": 164,
   "id": "f49c040e",
   "metadata": {},
   "outputs": [
    {
     "data": {
      "text/plain": [
       "delito de bajo impacto                           0.792319\n",
       "robo                                             0.137838\n",
       "hecho no delictivo                               0.058728\n",
       "delito alto impacto                              0.007262\n",
       "lesiones dolosas por disparo de arma de fuego    0.003854\n",
       "Name: v_categoria_delito, dtype: float64"
      ]
     },
     "execution_count": 164,
     "metadata": {},
     "output_type": "execute_result"
    }
   ],
   "source": [
    "df[\"v_categoria_delito\"].value_counts(1)"
   ]
  },
  {
   "cell_type": "code",
   "execution_count": 165,
   "id": "20d98372",
   "metadata": {},
   "outputs": [],
   "source": [
    "df[\"v_categoria_delito\"]=df[\"v_categoria_delito\"].replace(\"Robo\",\"robo\")"
   ]
  },
  {
   "cell_type": "markdown",
   "id": "e8710e33",
   "metadata": {},
   "source": [
    "### normalizar delegación"
   ]
  },
  {
   "cell_type": "code",
   "execution_count": 166,
   "id": "c5ecca16",
   "metadata": {},
   "outputs": [
    {
     "data": {
      "text/html": [
       "<div>\n",
       "<style scoped>\n",
       "    .dataframe tbody tr th:only-of-type {\n",
       "        vertical-align: middle;\n",
       "    }\n",
       "\n",
       "    .dataframe tbody tr th {\n",
       "        vertical-align: top;\n",
       "    }\n",
       "\n",
       "    .dataframe thead th {\n",
       "        text-align: right;\n",
       "    }\n",
       "</style>\n",
       "<table border=\"1\" class=\"dataframe\">\n",
       "  <thead>\n",
       "    <tr style=\"text-align: right;\">\n",
       "      <th></th>\n",
       "      <th>c_id</th>\n",
       "      <th>d_ao_hechos</th>\n",
       "      <th>d_mes_hechos</th>\n",
       "      <th>d_fecha_hechos</th>\n",
       "      <th>v_delito</th>\n",
       "      <th>v_categoria_delito</th>\n",
       "      <th>v_fiscalia</th>\n",
       "      <th>v_agencia</th>\n",
       "      <th>v_unidad_investigacion</th>\n",
       "      <th>...</th>\n",
       "      <th>v_alcaldia_hechos</th>\n",
       "      <th>d_fecha_inicio</th>\n",
       "      <th>d_mes_inicio</th>\n",
       "      <th>d_ao_inicio</th>\n",
       "      <th>t_calle_hechos</th>\n",
       "      <th>c_longitud</th>\n",
       "      <th>c_latitud</th>\n",
       "      <th>c_geopoint</th>\n",
       "      <th>d_fecha_dia</th>\n",
       "    </tr>\n",
       "  </thead>\n",
       "  <tbody>\n",
       "    <tr>\n",
       "      <th>0</th>\n",
       "      <td>0</td>\n",
       "      <td>2016</td>\n",
       "      <td>Enero</td>\n",
       "      <td>2016-01-05 17:00:00</td>\n",
       "      <td>lesiones culposas</td>\n",
       "      <td>delito de bajo impacto</td>\n",
       "      <td>investigacion en gustavo a madero</td>\n",
       "      <td>GAM-6</td>\n",
       "      <td>UI-1CD</td>\n",
       "      <td>...</td>\n",
       "      <td>gustavo a madero</td>\n",
       "      <td>2016-01-05 18:35:37</td>\n",
       "      <td>Enero</td>\n",
       "      <td>2016</td>\n",
       "      <td>san juan de aragon</td>\n",
       "      <td>-99.103527</td>\n",
       "      <td>19.481076</td>\n",
       "      <td>19.4810759998,-99.103527</td>\n",
       "      <td>Tuesday</td>\n",
       "    </tr>\n",
       "    <tr>\n",
       "      <th>1</th>\n",
       "      <td>2</td>\n",
       "      <td>2017</td>\n",
       "      <td>Noviembre</td>\n",
       "      <td>2017-11-01 16:40:00</td>\n",
       "      <td>robo a transeunte en via publica con violencia</td>\n",
       "      <td>robo</td>\n",
       "      <td>investigacion en iztacalco</td>\n",
       "      <td>IZC-2</td>\n",
       "      <td>UI-1SD</td>\n",
       "      <td>...</td>\n",
       "      <td>iztacalco</td>\n",
       "      <td>2017-11-01 16:56:04</td>\n",
       "      <td>Noviembre</td>\n",
       "      <td>2017</td>\n",
       "      <td>sur 117</td>\n",
       "      <td>-99.106072</td>\n",
       "      <td>19.395398</td>\n",
       "      <td>19.3953976727,-99.1060723829</td>\n",
       "      <td>Wednesday</td>\n",
       "    </tr>\n",
       "    <tr>\n",
       "      <th>2</th>\n",
       "      <td>3</td>\n",
       "      <td>2015</td>\n",
       "      <td>Diciembre</td>\n",
       "      <td>2015-12-30 20:00:00</td>\n",
       "      <td>fraude</td>\n",
       "      <td>delito de bajo impacto</td>\n",
       "      <td>investigacion en iztapalapa</td>\n",
       "      <td>IZP-8</td>\n",
       "      <td>UI-1CD</td>\n",
       "      <td>...</td>\n",
       "      <td>iztapalapa</td>\n",
       "      <td>2016-01-05 21:12:42</td>\n",
       "      <td>Enero</td>\n",
       "      <td>2016</td>\n",
       "      <td>cuarta cerrada de fresno</td>\n",
       "      <td>-99.055887</td>\n",
       "      <td>19.322458</td>\n",
       "      <td>19.3224579998,-99.055887</td>\n",
       "      <td>Wednesday</td>\n",
       "    </tr>\n",
       "    <tr>\n",
       "      <th>3</th>\n",
       "      <td>4</td>\n",
       "      <td>2018</td>\n",
       "      <td>Mayo</td>\n",
       "      <td>2018-05-16 16:00:00</td>\n",
       "      <td>robo a repartidor con violencia</td>\n",
       "      <td>robo</td>\n",
       "      <td>investigacion en iztapalapa</td>\n",
       "      <td>IZP-9</td>\n",
       "      <td>UI-2SD</td>\n",
       "      <td>...</td>\n",
       "      <td>iztapalapa</td>\n",
       "      <td>2018-05-22 10:44:45</td>\n",
       "      <td>Mayo</td>\n",
       "      <td>2018</td>\n",
       "      <td>tarasco</td>\n",
       "      <td>-99.042786</td>\n",
       "      <td>19.319141</td>\n",
       "      <td>19.3191405147,-99.0427862526</td>\n",
       "      <td>Wednesday</td>\n",
       "    </tr>\n",
       "    <tr>\n",
       "      <th>4</th>\n",
       "      <td>5</td>\n",
       "      <td>2018</td>\n",
       "      <td>Mayo</td>\n",
       "      <td>2018-05-21 20:40:00</td>\n",
       "      <td>robo a transeunte de celular con violencia</td>\n",
       "      <td>delito de bajo impacto</td>\n",
       "      <td>investigacion en cuauhtemoc</td>\n",
       "      <td>CUH-2</td>\n",
       "      <td>UI-2SD</td>\n",
       "      <td>...</td>\n",
       "      <td>iztacalco</td>\n",
       "      <td>2018-05-22 10:52:18</td>\n",
       "      <td>Mayo</td>\n",
       "      <td>2018</td>\n",
       "      <td>francisco del paso y troncoso</td>\n",
       "      <td>-99.111563</td>\n",
       "      <td>19.386594</td>\n",
       "      <td>19.3865939284,-99.1115626682</td>\n",
       "      <td>Monday</td>\n",
       "    </tr>\n",
       "  </tbody>\n",
       "</table>\n",
       "<p>5 rows × 19 columns</p>\n",
       "</div>"
      ],
      "text/plain": [
       "   c_id  d_ao_hechos d_mes_hechos      d_fecha_hechos  \\\n",
       "0     0         2016        Enero 2016-01-05 17:00:00   \n",
       "1     2         2017    Noviembre 2017-11-01 16:40:00   \n",
       "2     3         2015    Diciembre 2015-12-30 20:00:00   \n",
       "3     4         2018         Mayo 2018-05-16 16:00:00   \n",
       "4     5         2018         Mayo 2018-05-21 20:40:00   \n",
       "\n",
       "                                         v_delito      v_categoria_delito  \\\n",
       "0                               lesiones culposas  delito de bajo impacto   \n",
       "1  robo a transeunte en via publica con violencia                    robo   \n",
       "2                                          fraude  delito de bajo impacto   \n",
       "3                 robo a repartidor con violencia                    robo   \n",
       "4      robo a transeunte de celular con violencia  delito de bajo impacto   \n",
       "\n",
       "                          v_fiscalia v_agencia v_unidad_investigacion  ...  \\\n",
       "0  investigacion en gustavo a madero     GAM-6                 UI-1CD  ...   \n",
       "1         investigacion en iztacalco     IZC-2                 UI-1SD  ...   \n",
       "2        investigacion en iztapalapa     IZP-8                 UI-1CD  ...   \n",
       "3        investigacion en iztapalapa     IZP-9                 UI-2SD  ...   \n",
       "4        investigacion en cuauhtemoc     CUH-2                 UI-2SD  ...   \n",
       "\n",
       "  v_alcaldia_hechos      d_fecha_inicio d_mes_inicio d_ao_inicio  \\\n",
       "0  gustavo a madero 2016-01-05 18:35:37        Enero        2016   \n",
       "1         iztacalco 2017-11-01 16:56:04    Noviembre        2017   \n",
       "2        iztapalapa 2016-01-05 21:12:42        Enero        2016   \n",
       "3        iztapalapa 2018-05-22 10:44:45         Mayo        2018   \n",
       "4         iztacalco 2018-05-22 10:52:18         Mayo        2018   \n",
       "\n",
       "                  t_calle_hechos c_longitud  c_latitud  \\\n",
       "0             san juan de aragon -99.103527  19.481076   \n",
       "1                        sur 117 -99.106072  19.395398   \n",
       "2       cuarta cerrada de fresno -99.055887  19.322458   \n",
       "3                        tarasco -99.042786  19.319141   \n",
       "4  francisco del paso y troncoso -99.111563  19.386594   \n",
       "\n",
       "                     c_geopoint d_fecha_dia  \n",
       "0      19.4810759998,-99.103527     Tuesday  \n",
       "1  19.3953976727,-99.1060723829   Wednesday  \n",
       "2      19.3224579998,-99.055887   Wednesday  \n",
       "3  19.3191405147,-99.0427862526   Wednesday  \n",
       "4  19.3865939284,-99.1115626682      Monday  \n",
       "\n",
       "[5 rows x 19 columns]"
      ]
     },
     "execution_count": 166,
     "metadata": {},
     "output_type": "execute_result"
    }
   ],
   "source": [
    "df.head()"
   ]
  },
  {
   "cell_type": "code",
   "execution_count": 167,
   "id": "96aa1e38",
   "metadata": {},
   "outputs": [
    {
     "data": {
      "text/plain": [
       "cuauhtemoc                122209\n",
       "iztapalapa                113327\n",
       "gustavo a madero           75922\n",
       "benito juarez              67547\n",
       "coyoacan                   52032\n",
       "miguel hidalgo             51520\n",
       "alvaro obregon             50314\n",
       "tlalpan                    44216\n",
       "venustiano carranza        43838\n",
       "azcapotzalco               38283\n",
       "iztacalco                  33136\n",
       "xochimilco                 23610\n",
       "tlahuac                    16990\n",
       "la magdalena contreras     11694\n",
       "cuajimalpa de morelos      11009\n",
       "milpa alta                  4908\n",
       "Name: v_alcaldia_hechos, dtype: int64"
      ]
     },
     "execution_count": 167,
     "metadata": {},
     "output_type": "execute_result"
    }
   ],
   "source": [
    "df[\"v_alcaldia_hechos\"].value_counts()"
   ]
  },
  {
   "cell_type": "code",
   "execution_count": 193,
   "id": "30e0f4aa",
   "metadata": {},
   "outputs": [
    {
     "data": {
      "text/plain": [
       "zonacentroponiente        0.293235\n",
       "iztapalapa                0.149006\n",
       "gustavo a madero          0.099824\n",
       "benito juarez             0.088813\n",
       "coyoacan                  0.068413\n",
       "alvaro obregon            0.066154\n",
       "tlalpan                   0.058136\n",
       "venustiano carranza       0.057639\n",
       "iztacalco                 0.043568\n",
       "xochimilco                0.031043\n",
       "tlahuac                   0.022339\n",
       "la magdalena contreras    0.015376\n",
       "milpa alta                0.006453\n",
       "Name: v_alcaldia_hechos, dtype: float64"
      ]
     },
     "execution_count": 193,
     "metadata": {},
     "output_type": "execute_result"
    }
   ],
   "source": [
    "df[\"v_alcaldia_hechos\"].value_counts(1)"
   ]
  },
  {
   "cell_type": "code",
   "execution_count": 207,
   "id": "bc1963be",
   "metadata": {},
   "outputs": [],
   "source": [
    "zonacentroponiente={\"cuauhtemoc\",\"miguel hidalgo\",\"azcapotzalco\",\"cuajimalpa de morelos\",\"alvaro obregon\"}"
   ]
  },
  {
   "cell_type": "code",
   "execution_count": 208,
   "id": "e24561aa",
   "metadata": {},
   "outputs": [],
   "source": [
    "df[\"v_alcaldia_hechos\"]=df[\"v_alcaldia_hechos\"].replace(zonacentroponiente,'zonacentroponiente')"
   ]
  },
  {
   "cell_type": "code",
   "execution_count": 194,
   "id": "0e7f084f",
   "metadata": {},
   "outputs": [],
   "source": [
    "zonasur={\"benito juarez\",\"coyoacan\",\"la magdalena contreras\",\"tlalpan\"}"
   ]
  },
  {
   "cell_type": "code",
   "execution_count": 195,
   "id": "ad136342",
   "metadata": {},
   "outputs": [],
   "source": [
    "df[\"v_alcaldia_hechos\"]=df[\"v_alcaldia_hechos\"].replace(zonasur,'zonasur')"
   ]
  },
  {
   "cell_type": "code",
   "execution_count": 204,
   "id": "1a69afd1",
   "metadata": {},
   "outputs": [],
   "source": [
    "zonanorte={\"gustavo a madero\",\"venustiano carranza\",\"iztacalco\"}"
   ]
  },
  {
   "cell_type": "code",
   "execution_count": 201,
   "id": "7dd37985",
   "metadata": {},
   "outputs": [],
   "source": [
    "zonaoriente={\"iztapalapa\",\"tlahuac\",\"xochimilco\",\"milpa alta\"}"
   ]
  },
  {
   "cell_type": "code",
   "execution_count": 205,
   "id": "497b6f1d",
   "metadata": {},
   "outputs": [],
   "source": [
    "df[\"v_alcaldia_hechos\"]=df[\"v_alcaldia_hechos\"].replace(zonanorte,'zonanorte')"
   ]
  },
  {
   "cell_type": "code",
   "execution_count": 202,
   "id": "fee17173",
   "metadata": {},
   "outputs": [],
   "source": [
    "df[\"v_alcaldia_hechos\"]=df[\"v_alcaldia_hechos\"].replace(zonaoriente,'zonaoriente')"
   ]
  },
  {
   "cell_type": "code",
   "execution_count": 209,
   "id": "b295af04",
   "metadata": {},
   "outputs": [
    {
     "data": {
      "text/plain": [
       "zonacentroponiente    0.359389\n",
       "zonasur               0.230738\n",
       "zonaoriente           0.208841\n",
       "zonanorte             0.201032\n",
       "Name: v_alcaldia_hechos, dtype: float64"
      ]
     },
     "execution_count": 209,
     "metadata": {},
     "output_type": "execute_result"
    }
   ],
   "source": [
    "df[\"v_alcaldia_hechos\"].value_counts(1)"
   ]
  },
  {
   "cell_type": "markdown",
   "id": "926598fa",
   "metadata": {},
   "source": [
    "## Genere las siguientes variables para fecha hechos : Cuatrimestre, dı́a de la semana, si es o no fin de semana y dı́a del evento."
   ]
  },
  {
   "cell_type": "code",
   "execution_count": 169,
   "id": "e54d8606",
   "metadata": {},
   "outputs": [],
   "source": [
    "df[\"d_fecha_dia\"]=df[\"d_fecha_hechos\"].dt.day_name()"
   ]
  },
  {
   "cell_type": "code",
   "execution_count": 170,
   "id": "a660aac8",
   "metadata": {},
   "outputs": [
    {
     "data": {
      "text/html": [
       "<div>\n",
       "<style scoped>\n",
       "    .dataframe tbody tr th:only-of-type {\n",
       "        vertical-align: middle;\n",
       "    }\n",
       "\n",
       "    .dataframe tbody tr th {\n",
       "        vertical-align: top;\n",
       "    }\n",
       "\n",
       "    .dataframe thead th {\n",
       "        text-align: right;\n",
       "    }\n",
       "</style>\n",
       "<table border=\"1\" class=\"dataframe\">\n",
       "  <thead>\n",
       "    <tr style=\"text-align: right;\">\n",
       "      <th></th>\n",
       "      <th>c_id</th>\n",
       "      <th>d_ao_hechos</th>\n",
       "      <th>d_mes_hechos</th>\n",
       "      <th>d_fecha_hechos</th>\n",
       "      <th>v_delito</th>\n",
       "      <th>v_categoria_delito</th>\n",
       "      <th>v_fiscalia</th>\n",
       "      <th>v_agencia</th>\n",
       "      <th>v_unidad_investigacion</th>\n",
       "      <th>...</th>\n",
       "      <th>v_alcaldia_hechos</th>\n",
       "      <th>d_fecha_inicio</th>\n",
       "      <th>d_mes_inicio</th>\n",
       "      <th>d_ao_inicio</th>\n",
       "      <th>t_calle_hechos</th>\n",
       "      <th>c_longitud</th>\n",
       "      <th>c_latitud</th>\n",
       "      <th>c_geopoint</th>\n",
       "      <th>d_fecha_dia</th>\n",
       "    </tr>\n",
       "  </thead>\n",
       "  <tbody>\n",
       "    <tr>\n",
       "      <th>0</th>\n",
       "      <td>0</td>\n",
       "      <td>2016</td>\n",
       "      <td>Enero</td>\n",
       "      <td>2016-01-05 17:00:00</td>\n",
       "      <td>lesiones culposas</td>\n",
       "      <td>delito de bajo impacto</td>\n",
       "      <td>investigacion en gustavo a madero</td>\n",
       "      <td>GAM-6</td>\n",
       "      <td>UI-1CD</td>\n",
       "      <td>...</td>\n",
       "      <td>gustavo a madero</td>\n",
       "      <td>2016-01-05 18:35:37</td>\n",
       "      <td>Enero</td>\n",
       "      <td>2016</td>\n",
       "      <td>san juan de aragon</td>\n",
       "      <td>-99.103527</td>\n",
       "      <td>19.481076</td>\n",
       "      <td>19.4810759998,-99.103527</td>\n",
       "      <td>Tuesday</td>\n",
       "    </tr>\n",
       "    <tr>\n",
       "      <th>1</th>\n",
       "      <td>2</td>\n",
       "      <td>2017</td>\n",
       "      <td>Noviembre</td>\n",
       "      <td>2017-11-01 16:40:00</td>\n",
       "      <td>robo a transeunte en via publica con violencia</td>\n",
       "      <td>robo</td>\n",
       "      <td>investigacion en iztacalco</td>\n",
       "      <td>IZC-2</td>\n",
       "      <td>UI-1SD</td>\n",
       "      <td>...</td>\n",
       "      <td>iztacalco</td>\n",
       "      <td>2017-11-01 16:56:04</td>\n",
       "      <td>Noviembre</td>\n",
       "      <td>2017</td>\n",
       "      <td>sur 117</td>\n",
       "      <td>-99.106072</td>\n",
       "      <td>19.395398</td>\n",
       "      <td>19.3953976727,-99.1060723829</td>\n",
       "      <td>Wednesday</td>\n",
       "    </tr>\n",
       "    <tr>\n",
       "      <th>2</th>\n",
       "      <td>3</td>\n",
       "      <td>2015</td>\n",
       "      <td>Diciembre</td>\n",
       "      <td>2015-12-30 20:00:00</td>\n",
       "      <td>fraude</td>\n",
       "      <td>delito de bajo impacto</td>\n",
       "      <td>investigacion en iztapalapa</td>\n",
       "      <td>IZP-8</td>\n",
       "      <td>UI-1CD</td>\n",
       "      <td>...</td>\n",
       "      <td>iztapalapa</td>\n",
       "      <td>2016-01-05 21:12:42</td>\n",
       "      <td>Enero</td>\n",
       "      <td>2016</td>\n",
       "      <td>cuarta cerrada de fresno</td>\n",
       "      <td>-99.055887</td>\n",
       "      <td>19.322458</td>\n",
       "      <td>19.3224579998,-99.055887</td>\n",
       "      <td>Wednesday</td>\n",
       "    </tr>\n",
       "    <tr>\n",
       "      <th>3</th>\n",
       "      <td>4</td>\n",
       "      <td>2018</td>\n",
       "      <td>Mayo</td>\n",
       "      <td>2018-05-16 16:00:00</td>\n",
       "      <td>robo a repartidor con violencia</td>\n",
       "      <td>robo</td>\n",
       "      <td>investigacion en iztapalapa</td>\n",
       "      <td>IZP-9</td>\n",
       "      <td>UI-2SD</td>\n",
       "      <td>...</td>\n",
       "      <td>iztapalapa</td>\n",
       "      <td>2018-05-22 10:44:45</td>\n",
       "      <td>Mayo</td>\n",
       "      <td>2018</td>\n",
       "      <td>tarasco</td>\n",
       "      <td>-99.042786</td>\n",
       "      <td>19.319141</td>\n",
       "      <td>19.3191405147,-99.0427862526</td>\n",
       "      <td>Wednesday</td>\n",
       "    </tr>\n",
       "    <tr>\n",
       "      <th>4</th>\n",
       "      <td>5</td>\n",
       "      <td>2018</td>\n",
       "      <td>Mayo</td>\n",
       "      <td>2018-05-21 20:40:00</td>\n",
       "      <td>robo a transeunte de celular con violencia</td>\n",
       "      <td>delito de bajo impacto</td>\n",
       "      <td>investigacion en cuauhtemoc</td>\n",
       "      <td>CUH-2</td>\n",
       "      <td>UI-2SD</td>\n",
       "      <td>...</td>\n",
       "      <td>iztacalco</td>\n",
       "      <td>2018-05-22 10:52:18</td>\n",
       "      <td>Mayo</td>\n",
       "      <td>2018</td>\n",
       "      <td>francisco del paso y troncoso</td>\n",
       "      <td>-99.111563</td>\n",
       "      <td>19.386594</td>\n",
       "      <td>19.3865939284,-99.1115626682</td>\n",
       "      <td>Monday</td>\n",
       "    </tr>\n",
       "  </tbody>\n",
       "</table>\n",
       "<p>5 rows × 19 columns</p>\n",
       "</div>"
      ],
      "text/plain": [
       "   c_id  d_ao_hechos d_mes_hechos      d_fecha_hechos  \\\n",
       "0     0         2016        Enero 2016-01-05 17:00:00   \n",
       "1     2         2017    Noviembre 2017-11-01 16:40:00   \n",
       "2     3         2015    Diciembre 2015-12-30 20:00:00   \n",
       "3     4         2018         Mayo 2018-05-16 16:00:00   \n",
       "4     5         2018         Mayo 2018-05-21 20:40:00   \n",
       "\n",
       "                                         v_delito      v_categoria_delito  \\\n",
       "0                               lesiones culposas  delito de bajo impacto   \n",
       "1  robo a transeunte en via publica con violencia                    robo   \n",
       "2                                          fraude  delito de bajo impacto   \n",
       "3                 robo a repartidor con violencia                    robo   \n",
       "4      robo a transeunte de celular con violencia  delito de bajo impacto   \n",
       "\n",
       "                          v_fiscalia v_agencia v_unidad_investigacion  ...  \\\n",
       "0  investigacion en gustavo a madero     GAM-6                 UI-1CD  ...   \n",
       "1         investigacion en iztacalco     IZC-2                 UI-1SD  ...   \n",
       "2        investigacion en iztapalapa     IZP-8                 UI-1CD  ...   \n",
       "3        investigacion en iztapalapa     IZP-9                 UI-2SD  ...   \n",
       "4        investigacion en cuauhtemoc     CUH-2                 UI-2SD  ...   \n",
       "\n",
       "  v_alcaldia_hechos      d_fecha_inicio d_mes_inicio d_ao_inicio  \\\n",
       "0  gustavo a madero 2016-01-05 18:35:37        Enero        2016   \n",
       "1         iztacalco 2017-11-01 16:56:04    Noviembre        2017   \n",
       "2        iztapalapa 2016-01-05 21:12:42        Enero        2016   \n",
       "3        iztapalapa 2018-05-22 10:44:45         Mayo        2018   \n",
       "4         iztacalco 2018-05-22 10:52:18         Mayo        2018   \n",
       "\n",
       "                  t_calle_hechos c_longitud  c_latitud  \\\n",
       "0             san juan de aragon -99.103527  19.481076   \n",
       "1                        sur 117 -99.106072  19.395398   \n",
       "2       cuarta cerrada de fresno -99.055887  19.322458   \n",
       "3                        tarasco -99.042786  19.319141   \n",
       "4  francisco del paso y troncoso -99.111563  19.386594   \n",
       "\n",
       "                     c_geopoint d_fecha_dia  \n",
       "0      19.4810759998,-99.103527     Tuesday  \n",
       "1  19.3953976727,-99.1060723829   Wednesday  \n",
       "2      19.3224579998,-99.055887   Wednesday  \n",
       "3  19.3191405147,-99.0427862526   Wednesday  \n",
       "4  19.3865939284,-99.1115626682      Monday  \n",
       "\n",
       "[5 rows x 19 columns]"
      ]
     },
     "execution_count": 170,
     "metadata": {},
     "output_type": "execute_result"
    }
   ],
   "source": [
    "df.head()"
   ]
  },
  {
   "cell_type": "code",
   "execution_count": 210,
   "id": "83e5d946",
   "metadata": {},
   "outputs": [
    {
     "data": {
      "text/html": [
       "<div>\n",
       "<style scoped>\n",
       "    .dataframe tbody tr th:only-of-type {\n",
       "        vertical-align: middle;\n",
       "    }\n",
       "\n",
       "    .dataframe tbody tr th {\n",
       "        vertical-align: top;\n",
       "    }\n",
       "\n",
       "    .dataframe thead tr th {\n",
       "        text-align: left;\n",
       "    }\n",
       "\n",
       "    .dataframe thead tr:last-of-type th {\n",
       "        text-align: right;\n",
       "    }\n",
       "</style>\n",
       "<table border=\"1\" class=\"dataframe\">\n",
       "  <thead>\n",
       "    <tr>\n",
       "      <th></th>\n",
       "      <th colspan=\"2\" halign=\"left\">d_fecha_hechos</th>\n",
       "    </tr>\n",
       "    <tr>\n",
       "      <th></th>\n",
       "      <th>mean</th>\n",
       "      <th>count</th>\n",
       "    </tr>\n",
       "    <tr>\n",
       "      <th>v_alcaldia_hechos</th>\n",
       "      <th></th>\n",
       "      <th></th>\n",
       "    </tr>\n",
       "  </thead>\n",
       "  <tbody>\n",
       "    <tr>\n",
       "      <th>zonacentroponiente</th>\n",
       "      <td>2017-10-01 22:54:25.117529600</td>\n",
       "      <td>273335</td>\n",
       "    </tr>\n",
       "    <tr>\n",
       "      <th>zonanorte</th>\n",
       "      <td>2017-10-24 10:34:53.160056576</td>\n",
       "      <td>152896</td>\n",
       "    </tr>\n",
       "    <tr>\n",
       "      <th>zonaoriente</th>\n",
       "      <td>2017-10-14 18:10:04.129946112</td>\n",
       "      <td>158835</td>\n",
       "    </tr>\n",
       "    <tr>\n",
       "      <th>zonasur</th>\n",
       "      <td>2017-10-06 12:56:39.966607616</td>\n",
       "      <td>175489</td>\n",
       "    </tr>\n",
       "  </tbody>\n",
       "</table>\n",
       "</div>"
      ],
      "text/plain": [
       "                                  d_fecha_hechos        \n",
       "                                            mean   count\n",
       "v_alcaldia_hechos                                       \n",
       "zonacentroponiente 2017-10-01 22:54:25.117529600  273335\n",
       "zonanorte          2017-10-24 10:34:53.160056576  152896\n",
       "zonaoriente        2017-10-14 18:10:04.129946112  158835\n",
       "zonasur            2017-10-06 12:56:39.966607616  175489"
      ]
     },
     "execution_count": 210,
     "metadata": {},
     "output_type": "execute_result"
    }
   ],
   "source": [
    "df[[\"d_fecha_hechos\", \"v_alcaldia_hechos\"]].groupby([\"v_alcaldia_hechos\"]).agg([\"mean\", \"count\"])"
   ]
  },
  {
   "cell_type": "code",
   "execution_count": null,
   "id": "587fc58c",
   "metadata": {},
   "outputs": [],
   "source": []
  },
  {
   "cell_type": "code",
   "execution_count": null,
   "id": "bf1fa88d",
   "metadata": {},
   "outputs": [],
   "source": []
  },
  {
   "cell_type": "code",
   "execution_count": null,
   "id": "f51b3b6a",
   "metadata": {},
   "outputs": [],
   "source": []
  }
 ],
 "metadata": {
  "kernelspec": {
   "display_name": "diplomado-modulo1",
   "language": "python",
   "name": "diplomado-modulo1"
  },
  "language_info": {
   "codemirror_mode": {
    "name": "ipython",
    "version": 3
   },
   "file_extension": ".py",
   "mimetype": "text/x-python",
   "name": "python",
   "nbconvert_exporter": "python",
   "pygments_lexer": "ipython3",
   "version": "3.10.4"
  }
 },
 "nbformat": 4,
 "nbformat_minor": 5
}
